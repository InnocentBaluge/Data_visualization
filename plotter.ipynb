{
 "cells": [
  {
   "cell_type": "code",
   "execution_count": 1,
   "metadata": {},
   "outputs": [
    {
     "data": {
      "text/html": [
       "        <script type=\"text/javascript\">\n",
       "        window.PlotlyConfig = {MathJaxConfig: 'local'};\n",
       "        if (window.MathJax) {MathJax.Hub.Config({SVG: {font: \"STIX-Web\"}});}\n",
       "        if (typeof require !== 'undefined') {\n",
       "        require.undef(\"plotly\");\n",
       "        requirejs.config({\n",
       "            paths: {\n",
       "                'plotly': ['https://cdn.plot.ly/plotly-latest.min']\n",
       "            }\n",
       "        });\n",
       "        require(['plotly'], function(Plotly) {\n",
       "            window._Plotly = Plotly;\n",
       "        });\n",
       "        }\n",
       "        </script>\n",
       "        "
      ]
     },
     "metadata": {},
     "output_type": "display_data"
    },
    {
     "data": {
      "text/html": [
       "        <script type=\"text/javascript\">\n",
       "        window.PlotlyConfig = {MathJaxConfig: 'local'};\n",
       "        if (window.MathJax) {MathJax.Hub.Config({SVG: {font: \"STIX-Web\"}});}\n",
       "        if (typeof require !== 'undefined') {\n",
       "        require.undef(\"plotly\");\n",
       "        requirejs.config({\n",
       "            paths: {\n",
       "                'plotly': ['https://cdn.plot.ly/plotly-latest.min']\n",
       "            }\n",
       "        });\n",
       "        require(['plotly'], function(Plotly) {\n",
       "            window._Plotly = Plotly;\n",
       "        });\n",
       "        }\n",
       "        </script>\n",
       "        "
      ]
     },
     "metadata": {},
     "output_type": "display_data"
    }
   ],
   "source": [
    "import numpy as np\n",
    "import pandas as pd\n",
    "import plotly as pl\n",
    "import cufflinks as cf\n",
    "import plotly.offline as po\n",
    "po.init_notebook_mode(connected = True)\n",
    "cf.go_offline()"
   ]
  },
  {
   "cell_type": "code",
   "execution_count": 2,
   "metadata": {},
   "outputs": [],
   "source": [
    "def createData(data):\n",
    "    if (data == 1):\n",
    "        x = np.random.rand(100,5)\n",
    "        df1 = pd.DataFrame(x,columns=['A','B','C','D','E'])\n",
    "    elif ( data==2):\n",
    "        x = [0,0,0,0,0]\n",
    "        r1 = [0,0,0,0,0]\n",
    "        r2 = [0,0,0,0,0]\n",
    "        r3 = [0,0,0,0,0]\n",
    "        r4 = [0,0,0,0,0]\n",
    "        print(\"Enter the values for columns\")\n",
    "        i=0\n",
    "        for i in (0,1,2,3,4):\n",
    "            x[i] = input()\n",
    "            i = i+1\n",
    "        print(\"Enter the values for first row\")\n",
    "        i=0\n",
    "        for i in (0,1,2,3,4):\n",
    "            r1[i] = int(input())\n",
    "            i = i+1\n",
    "        print(\"Enter the values for second row\")\n",
    "        i=0\n",
    "        for i in (0,1,2,3,4):\n",
    "            r2[i] = int(input())\n",
    "            i = i+1\n",
    "            \n",
    "        print(\"Enter the values for third row\")\n",
    "        i=0\n",
    "        for i in (0,1,2,3,4):\n",
    "            r3[i] = int(input())\n",
    "            i = i+1\n",
    "        print(\"Enter the values for fourth row\")\n",
    "        i=0\n",
    "        for i in (0,1,2,3,4):\n",
    "            r4[i] = int(input())\n",
    "            i = i+1\n",
    "        df1 = pd.DataFrame([r1,r2,r3,r4],columns = x)\n",
    "    \n",
    "    elif(data == 3):\n",
    "        file = input(\"Enter the file name\")\n",
    "        x = pd.read_csv(file)\n",
    "        df1 = pd.DataFrame(x)\n",
    "    \n",
    "    else:\n",
    "        print('Data Frame creation failed, Enter something between 1 and 3')\n",
    "        \n",
    "    return df1\n",
    "        "
   ]
  },
  {
   "cell_type": "code",
   "execution_count": 3,
   "metadata": {},
   "outputs": [],
   "source": [
    "def plotter(plot):\n",
    "    \n",
    "    if(plot ==1):\n",
    "        finalPlot = df1.iplot(kind = 'scatter')\n",
    "    if(plot ==2):\n",
    "        finalPlot = df1.iplot(kind='scatter',mode='markers' ,symbol='x',colorscale='paired')\n",
    "    elif(plot ==3): \n",
    "        finalPlot = df1.iplot(kind ='bar')\n",
    "    elif(plot ==4):\n",
    "        finalPlot = df1.iplot(kind = 'hist')\n",
    "    elif(plot ==5):\n",
    "        finalPlot = df1.iplot(kind = 'box')\n",
    "    elif(plot ==6):\n",
    "        finalPlot = df1.iplot(kind = 'surface')\n",
    "    else:\n",
    "        finalPlot = print(\"Select between 1 to 6\")\n",
    "    return finalPlot"
   ]
  },
  {
   "cell_type": "code",
   "execution_count": 4,
   "metadata": {},
   "outputs": [],
   "source": [
    "def plotter2(plot):\n",
    "    col = input('Enter the number of columns you want to plot by selecting only 1 , 2 or 3')\n",
    "    col = int(col)\n",
    "    if(col==1):\n",
    "        colm = input('Enter the column you want to plot by selecting any column from dataframe head')\n",
    "        if(plot==1):\n",
    "            finalplot = df1[colm].iplot(kind='scatter')\n",
    "        elif(plot==2):\n",
    "            finalplot = df1[colm].iplot(kind='scatter' , mode='markers' , symbol='x' ,colorscale='paired')\n",
    "        elif(plot==3):\n",
    "            finalplot = df1[colm].iplot(kind='bar')\n",
    "        elif(plot==4):\n",
    "            finalplot = df1[colm].iplot(kind='hist')\n",
    "        elif(plot==5):\n",
    "            finalplot = df1[colm].iplot(kind='box')\n",
    "        elif(plot==6 or plot==7):\n",
    "            finalplot = print('Bubble plot and surface plot require more than one column arguments')\n",
    "        else:\n",
    "            finalplot = print('Select only between 1 to 7')\n",
    "    elif(col==2):\n",
    "        print('Enter the columns you want to plot by selecting from dataframe head')\n",
    "        x = input('First column')\n",
    "        y = input('Second column')\n",
    "        if(plot==1):\n",
    "            finalplot = df1[[x,y]].iplot(kind='scatter')\n",
    "        elif(plot==2):\n",
    "            finalplot = df1[[x,y]].iplot(kind='scatter' , mode='markers' , symbol='x' ,colorscale='paired')\n",
    "        elif(plot==3):\n",
    "            finalplot = df1[[x,y]].iplot(kind='bar')\n",
    "        elif(plot==4):\n",
    "            finalplot = df1[[x,y]].iplot(kind='hist')\n",
    "        elif(plot==5):\n",
    "            finalplot = df1[[x,y]].iplot(kind='box')\n",
    "        elif(plot==6):\n",
    "            finalplot = df1[[x,y]].iplot(kind='surface')\n",
    "        elif(plot==7):\n",
    "            size = input('Please enter the size column for bubble plot')\n",
    "            finalplot = df1.iplot(kind='bubble' , x=x,y=y,size=size)\n",
    "        else:\n",
    "            finalplot = print('Select only between 1 to 7')\n",
    "    elif(col==3):\n",
    "        print('Enter the columns you want to plot')\n",
    "        x=input('First column')\n",
    "        y=input('Second column')\n",
    "        z=input('Third column')\n",
    "        if(plot==1):\n",
    "            finalplot = df1[[x,y,z]].iplot(kind='scatter')\n",
    "        elif(plot==2):\n",
    "            finalplot = df1[[x,y,z]].iplot(kind='scatter' , mode='markers' , symbol='x' ,colorscale='paired')\n",
    "        elif(plot==3):\n",
    "            finalplot = df1[[x,y,z]].iplot(kind='bar')\n",
    "        elif(plot==4):\n",
    "            finalplot = df1[[x,y,z]].iplot(kind='hist')\n",
    "        elif(plot==5):\n",
    "            finalplot = df1[[x,y,z]].iplot(kind='box')\n",
    "        elif(plot==6):\n",
    "            finalplot = df1[[x,y,z]].iplot(kind='surface')\n",
    "        elif(plot==7):\n",
    "            size = input('Please enter the size column for bubble plot')\n",
    "            finalplot = df1.iplot(kind='bubble' , x=x,y=y,z=z,size=size )\n",
    "        else:\n",
    "            finalplot = print('Select only between 1 to 7')\n",
    "    else:\n",
    "        finalplot = print('Please enter only 1 , 2 or 3')\n",
    "    return finalplot  "
   ]
  },
  {
   "cell_type": "code",
   "execution_count": 5,
   "metadata": {},
   "outputs": [],
   "source": [
    "def main(cat):\n",
    "    \n",
    "    if (cat == 1):\n",
    "        print(\"Slect the type of plot you need to plot by writing  1 to 6\")\n",
    "        print('1.Line Plot')\n",
    "        print('2.Scatter Plot')\n",
    "        print('3.Bar Plot')\n",
    "        print('4.Hitogram')\n",
    "        print('5.Box Plot')\n",
    "        print('6.Surface')\n",
    "        plot = int(input())\n",
    "        output = plotter(plot)\n",
    "        \n",
    "    elif (cat ==1):\n",
    "        print(\"Slect the type of plot you need to plot by writing  1 to 6\")\n",
    "        print('1.Line Plot')\n",
    "        print('2.Scatter Plot')\n",
    "        print('3.Bar Plot')\n",
    "        print('4.Hitogram')\n",
    "        print('5.Box Plot')\n",
    "        print('6.Surface')\n",
    "        print('6.Bubble')\n",
    "        plot = int(input())\n",
    "        output = plotter2(plot)\n",
    "    else:\n",
    "        \n",
    "        print('please enter 1 or 2 and try again')\n",
    "        "
   ]
  },
  {
   "cell_type": "code",
   "execution_count": 6,
   "metadata": {},
   "outputs": [
    {
     "name": "stdout",
     "output_type": "stream",
     "text": [
      "Select the type of data you need to plot(By wrting 1, 2 or 3)\n",
      "1.Random data with 100 rows and 5 columns\n",
      "2.Customized dataframe with 5 columns and 4 rows\n",
      "3.Upload a csv/Json/text file\n",
      "1\n"
     ]
    }
   ],
   "source": [
    "print(\"Select the type of data you need to plot(By wrting 1, 2 or 3)\")\n",
    "print(\"1.Random data with 100 rows and 5 columns\")\n",
    "print(\"2.Customized dataframe with 5 columns and 4 rows\")\n",
    "print(\"3.Upload a csv/Json/text file\")\n",
    "data = int(input())\n",
    "df1 = createData(data)"
   ]
  },
  {
   "cell_type": "code",
   "execution_count": 7,
   "metadata": {},
   "outputs": [
    {
     "name": "stdout",
     "output_type": "stream",
     "text": [
      "Your dataframe is given below\n"
     ]
    },
    {
     "data": {
      "text/html": [
       "<div>\n",
       "<style scoped>\n",
       "    .dataframe tbody tr th:only-of-type {\n",
       "        vertical-align: middle;\n",
       "    }\n",
       "\n",
       "    .dataframe tbody tr th {\n",
       "        vertical-align: top;\n",
       "    }\n",
       "\n",
       "    .dataframe thead th {\n",
       "        text-align: right;\n",
       "    }\n",
       "</style>\n",
       "<table border=\"1\" class=\"dataframe\">\n",
       "  <thead>\n",
       "    <tr style=\"text-align: right;\">\n",
       "      <th></th>\n",
       "      <th>A</th>\n",
       "      <th>B</th>\n",
       "      <th>C</th>\n",
       "      <th>D</th>\n",
       "      <th>E</th>\n",
       "    </tr>\n",
       "  </thead>\n",
       "  <tbody>\n",
       "    <tr>\n",
       "      <th>0</th>\n",
       "      <td>0.796146</td>\n",
       "      <td>0.308580</td>\n",
       "      <td>0.552705</td>\n",
       "      <td>0.062974</td>\n",
       "      <td>0.200218</td>\n",
       "    </tr>\n",
       "    <tr>\n",
       "      <th>1</th>\n",
       "      <td>0.728481</td>\n",
       "      <td>0.812155</td>\n",
       "      <td>0.607823</td>\n",
       "      <td>0.449832</td>\n",
       "      <td>0.697009</td>\n",
       "    </tr>\n",
       "    <tr>\n",
       "      <th>2</th>\n",
       "      <td>0.265484</td>\n",
       "      <td>0.203965</td>\n",
       "      <td>0.390316</td>\n",
       "      <td>0.145291</td>\n",
       "      <td>0.510948</td>\n",
       "    </tr>\n",
       "    <tr>\n",
       "      <th>3</th>\n",
       "      <td>0.097962</td>\n",
       "      <td>0.255293</td>\n",
       "      <td>0.421282</td>\n",
       "      <td>0.484589</td>\n",
       "      <td>0.386566</td>\n",
       "    </tr>\n",
       "    <tr>\n",
       "      <th>4</th>\n",
       "      <td>0.160396</td>\n",
       "      <td>0.510304</td>\n",
       "      <td>0.536267</td>\n",
       "      <td>0.413070</td>\n",
       "      <td>0.836822</td>\n",
       "    </tr>\n",
       "  </tbody>\n",
       "</table>\n",
       "</div>"
      ],
      "text/plain": [
       "          A         B         C         D         E\n",
       "0  0.796146  0.308580  0.552705  0.062974  0.200218\n",
       "1  0.728481  0.812155  0.607823  0.449832  0.697009\n",
       "2  0.265484  0.203965  0.390316  0.145291  0.510948\n",
       "3  0.097962  0.255293  0.421282  0.484589  0.386566\n",
       "4  0.160396  0.510304  0.536267  0.413070  0.836822"
      ]
     },
     "execution_count": 7,
     "metadata": {},
     "output_type": "execute_result"
    }
   ],
   "source": [
    "print('Your dataframe is given below')\n",
    "df1.head()"
   ]
  },
  {
   "cell_type": "code",
   "execution_count": 9,
   "metadata": {},
   "outputs": [
    {
     "name": "stdout",
     "output_type": "stream",
     "text": [
      "What kind of plot you need , the complete data plot or columns plot\n",
      "Press 1 for plotting all columns or press 2 for specifying columns to plot: 1\n"
     ]
    }
   ],
   "source": [
    "print('What kind of plot you need , the complete data plot or columns plot')\n",
    "cat = input('Press 1 for plotting all columns or press 2 for specifying columns to plot: ')\n",
    "cat = int(cat)"
   ]
  },
  {
   "cell_type": "code",
   "execution_count": 10,
   "metadata": {},
   "outputs": [
    {
     "name": "stdout",
     "output_type": "stream",
     "text": [
      "Slect the type of plot you need to plot by writing  1 to 6\n",
      "1.Line Plot\n",
      "2.Scatter Plot\n",
      "3.Bar Plot\n",
      "4.Hitogram\n",
      "5.Box Plot\n",
      "6.Surface\n",
      "5\n"
     ]
    },
    {
     "data": {
      "application/vnd.plotly.v1+json": {
       "config": {
        "linkText": "Export to plot.ly",
        "plotlyServerURL": "https://plot.ly",
        "showLink": true
       },
       "data": [
        {
         "boxpoints": false,
         "line": {
          "width": 1.3
         },
         "marker": {
          "color": "rgba(255, 153, 51, 1.0)"
         },
         "name": "A",
         "orientation": "v",
         "type": "box",
         "y": [
          0.7961457405624094,
          0.7284814151218412,
          0.26548359872681926,
          0.09796177533093198,
          0.16039554911107967,
          0.8538960016525153,
          0.5143194744424351,
          0.8823408698363037,
          0.10169149730326843,
          0.37418009544847985,
          0.14379004460852274,
          0.18556611232444564,
          0.6246098355400076,
          0.9218984953362767,
          0.2825116119633392,
          0.025667154651801583,
          0.8807674740989928,
          0.15312383740964997,
          0.3609448046388689,
          0.462122404687347,
          0.8281767008551947,
          0.25602771271014446,
          0.5184068224488684,
          0.4317823804334183,
          0.9349155531133786,
          0.7867759213501828,
          0.4268871864768068,
          0.300167803125691,
          0.42280318832841124,
          0.7446879666432202,
          0.47321686938068463,
          0.5577110119903705,
          0.11171109942240587,
          0.40318971844868956,
          0.2603758181419701,
          0.219877474343238,
          0.053857386627579995,
          0.8088059097887285,
          0.9209436745100102,
          0.8745231524949658,
          0.2949533007483618,
          0.887311709354388,
          0.5471017318267117,
          0.493643486641521,
          0.5094948303901524,
          0.10721823576890988,
          0.167738619906465,
          0.953168379508733,
          0.368314911980802,
          0.051387274114760295,
          0.09491667168058915,
          0.864567307509565,
          0.46211591052271994,
          0.45860323758304034,
          0.20028401997575818,
          0.1095853716236499,
          0.018516754123969248,
          0.6856560176317743,
          0.1269781473307101,
          0.9379491304039981,
          0.1335361836371286,
          0.06279034882844059,
          0.8943435490959103,
          0.551707977714464,
          0.14958411439526642,
          0.5735308198133929,
          0.8241260434577439,
          0.5163494467993835,
          0.5782953371850309,
          0.7005927544879943,
          0.36595980963410757,
          0.7287955599631818,
          0.5918890451273127,
          0.9321222250273381,
          0.8441855301908775,
          0.5869987672190866,
          0.5292362148571884,
          0.1672069726898341,
          0.6483261454953964,
          0.6961563408797535,
          0.7282993731952485,
          0.24422145750154323,
          0.6993871931374737,
          0.927164265629315,
          0.7675810735126722,
          0.26034724995830316,
          0.20527077691044604,
          0.12046995323104859,
          0.4873389443137738,
          0.21399535139658976,
          0.3028795735652623,
          0.5225122126491533,
          0.694965670490673,
          0.8592782179542262,
          0.08802816220428178,
          0.018103580151763277,
          0.09318191944833143,
          0.956197882251905,
          0.7322281183573706,
          0.8252656799642752
         ]
        },
        {
         "boxpoints": false,
         "line": {
          "width": 1.3
         },
         "marker": {
          "color": "rgba(55, 128, 191, 1.0)"
         },
         "name": "B",
         "orientation": "v",
         "type": "box",
         "y": [
          0.30857953492927903,
          0.8121553993307652,
          0.2039653274887121,
          0.25529346533685626,
          0.5103041824059154,
          0.43952483526395336,
          0.44118164953710093,
          0.20578655729819428,
          0.3217363318760861,
          0.8296265610686704,
          0.8539111798835303,
          0.8892591943228391,
          0.5404786931096184,
          0.7893490841946954,
          0.6170591496739061,
          0.30738718476362015,
          0.9176125587156925,
          0.9902400376182472,
          0.8600861547123857,
          0.9932541730337555,
          0.11042797186921705,
          0.6274229666188915,
          0.9282025897017747,
          0.7379746790605323,
          0.6469250722357799,
          0.9975300976851719,
          0.9977222281694023,
          0.02753204788809771,
          0.439478451591899,
          0.8179637771126321,
          0.677725138072461,
          0.5622533337062408,
          0.40270160566805924,
          0.4435587816437937,
          0.4742478717503821,
          0.01769106034158563,
          0.5114332771191957,
          0.6634294794394282,
          0.436871164412437,
          0.09981950018046748,
          0.1649177335879073,
          0.7884644540728586,
          0.2717591256561849,
          0.606360658476486,
          0.39138919962146645,
          0.23871460679946788,
          0.5978613163786668,
          0.6250896574466769,
          0.25346490509493513,
          0.018347785412238693,
          0.6193632689402007,
          0.22321764499354646,
          0.9616040218310179,
          0.9314889200692019,
          0.09610635824462521,
          0.7162622384044823,
          0.9217271924638042,
          0.34576732604301064,
          0.04489618220310676,
          0.08029270350264206,
          0.3916088306519312,
          0.8430959200735835,
          0.07427665097985003,
          0.6727437134164113,
          0.39301072732471154,
          0.34474044558427686,
          0.6416511492442835,
          0.61622984287053,
          0.5008111858876029,
          0.17993632046185037,
          0.5735805827229292,
          0.5353913661354746,
          0.20292429981778926,
          0.3829783030580831,
          0.6953189670009012,
          0.6190010180088796,
          0.1697824744863038,
          0.8503157252513526,
          0.38783526355082487,
          0.6528138723986583,
          0.8977190339004301,
          0.5641157499641005,
          0.42052115196793005,
          0.4897330459421232,
          0.7215918332011664,
          0.9341240428249529,
          0.29660676851939916,
          0.02882528015139252,
          0.2179140801848123,
          0.5993149247684447,
          0.6022660904927697,
          0.09697971542478623,
          0.4631243832913894,
          0.4840556930979031,
          0.2004295732865916,
          0.9999637402482457,
          0.03217834271117026,
          0.3844195118945932,
          0.27223559986961987,
          0.39094300733257525
         ]
        },
        {
         "boxpoints": false,
         "line": {
          "width": 1.3
         },
         "marker": {
          "color": "rgba(50, 171, 96, 1.0)"
         },
         "name": "C",
         "orientation": "v",
         "type": "box",
         "y": [
          0.5527050560434741,
          0.6078232140694618,
          0.39031567258580024,
          0.42128231469082267,
          0.5362671329786663,
          0.02101976103073322,
          0.9619796724576098,
          0.7905308703143286,
          0.5543494178287254,
          0.045436451523771626,
          0.46458068358752136,
          0.36220989304448903,
          0.6237678392288813,
          0.045583871786611496,
          0.9358193774245493,
          0.026502565511646203,
          0.5330746072828394,
          0.02618460019704616,
          0.32531260235783654,
          0.319618819348502,
          0.7360500876400259,
          0.5354854531629368,
          0.2618496435829577,
          0.3811779082393528,
          0.6415180050023152,
          0.18044204694860122,
          0.6287066130833393,
          0.11942150046516475,
          0.9889944701360794,
          0.6630937950041527,
          0.419382485811552,
          0.4984579924469602,
          0.921639046451626,
          0.32660678339897176,
          0.8065127567547049,
          0.2646894491622418,
          0.8960747363647595,
          0.7506588826639584,
          0.8094394808769635,
          0.8030919554953736,
          0.3878689564050586,
          0.4923060282418876,
          0.5981412941533518,
          0.4553176080969419,
          0.29439623455300257,
          0.34327382991206046,
          0.12431655081482929,
          0.9150332746774794,
          0.7304318567126276,
          0.8483523583999464,
          0.7407860525143114,
          0.7210891357543187,
          0.27903020367700826,
          0.8848552163809733,
          0.17156038073860358,
          0.04337319601643119,
          0.9675109094635755,
          0.21826316712618798,
          0.8837981058013021,
          0.23334188836155223,
          0.8817678004920688,
          0.8270816804722693,
          0.3121661464012242,
          0.47093112780988355,
          0.05631173452240312,
          0.6781537995237207,
          0.29962547697846464,
          0.7132524678076401,
          0.5528475260328126,
          0.2156688833512158,
          0.14711978163359674,
          0.22134786484242885,
          0.5948171468562906,
          0.23185465036000896,
          0.7063108453628258,
          0.6645979001720808,
          0.4094248945995047,
          0.34099084014397574,
          0.43745593451003595,
          0.8971552736641003,
          0.9186331627268297,
          0.1565063451750952,
          0.030536054793041223,
          0.7120068656889563,
          0.8151175368176858,
          0.8397887373665286,
          0.4890855851711824,
          0.8624076042689468,
          0.18213992047467698,
          0.7838746614124613,
          0.19187996130544793,
          0.8953959274705593,
          0.04712811910093628,
          0.14921765426846512,
          0.22676921799086658,
          0.5140121399447354,
          0.14164989184838161,
          0.43097066657347105,
          0.1653842919218299,
          0.8994061784192554
         ]
        },
        {
         "boxpoints": false,
         "line": {
          "width": 1.3
         },
         "marker": {
          "color": "rgba(128, 0, 128, 1.0)"
         },
         "name": "D",
         "orientation": "v",
         "type": "box",
         "y": [
          0.06297409133732523,
          0.4498317757557111,
          0.14529076286649523,
          0.4845894745928305,
          0.4130704879118061,
          0.796512789928202,
          0.9295504450327085,
          0.3793375578938267,
          0.5278337711366655,
          0.511825137509974,
          0.42342067806006056,
          0.5176777092477235,
          0.9476781730036348,
          0.9492212471884358,
          0.23567704052060323,
          0.23095168170682667,
          0.466517855451807,
          0.5048539897228442,
          0.9889531011244264,
          0.15356703898892832,
          0.9382528928587157,
          0.13479990964220756,
          0.7800139097349025,
          0.4510054649110815,
          0.5433094255621769,
          0.9190550050225204,
          0.8232021009407865,
          0.9143199017774716,
          0.814963931693124,
          0.6607281953705231,
          0.985432266704869,
          0.3793754817086281,
          0.9672654527380448,
          0.43555100739467234,
          0.870314575633575,
          0.6387093488012034,
          0.40104676785865667,
          0.7598311322288964,
          0.18355775746714265,
          0.35669959008648533,
          0.4984380881633692,
          0.9488645780262781,
          0.4015952631034039,
          0.3526349196821108,
          0.060427301579449755,
          0.15770520639900665,
          0.8242597523546178,
          0.3630041389773585,
          0.11198234447601463,
          0.17368318115390213,
          0.6032959356335771,
          0.0605131007238473,
          0.6032433570649129,
          0.44858875102949225,
          0.6451273708363193,
          0.9235184521382503,
          0.8663173507393312,
          0.5096552434667105,
          0.28375118986953574,
          0.8731183705751937,
          0.33760474785596717,
          0.9866215707077263,
          0.3204261960685829,
          0.550479030106931,
          0.8366045415425287,
          0.21911434821379594,
          0.44645271239522066,
          0.10960341982385202,
          0.017837501643790388,
          0.7985511026669836,
          0.9792751670088569,
          0.719755938288002,
          0.738167422668125,
          0.6981296963135247,
          0.0790876204266251,
          0.5859056284689684,
          0.14421117951782103,
          0.6398948301061478,
          0.892732978982978,
          0.620780851372447,
          0.9082357626843863,
          0.2809927593769369,
          0.5260148717619295,
          0.568074185764813,
          0.19825239595185518,
          0.32140391828044723,
          0.1254784509561896,
          0.08300211699469007,
          0.9852844749274566,
          0.287594209170829,
          0.5775792597370881,
          0.17827220862773707,
          0.428477432684761,
          0.6415509715111595,
          0.3851426369694514,
          0.7382561345362859,
          0.8766364472398716,
          0.6754549093528949,
          0.7008362345880325,
          0.36657945843827766
         ]
        },
        {
         "boxpoints": false,
         "line": {
          "width": 1.3
         },
         "marker": {
          "color": "rgba(219, 64, 82, 1.0)"
         },
         "name": "E",
         "orientation": "v",
         "type": "box",
         "y": [
          0.20021815022576261,
          0.6970090245079702,
          0.510948010248452,
          0.38656581174998383,
          0.8368219714896773,
          0.758320699665722,
          0.6276244567530773,
          0.3705681973275018,
          0.5388412889825842,
          0.05203459791807319,
          0.5713830272357892,
          0.8048620839513668,
          0.19153119403827967,
          0.4327355397607311,
          0.923906115817141,
          0.9533944529108536,
          0.7570781457611088,
          0.18519608773916119,
          0.9025331056196263,
          0.25327396945415936,
          0.4212182606835919,
          0.36426384184333127,
          0.04007121804759861,
          0.5595254899605618,
          0.725687696864073,
          0.8243086664545084,
          0.8635646687362756,
          0.9386542317475821,
          0.2610070553397167,
          0.11228289368336819,
          0.8152944680653693,
          0.33710617444336477,
          0.6382590267890902,
          0.6356309680056298,
          0.8419573692419023,
          0.8104897397781946,
          0.28520696847418114,
          0.3272991356074971,
          0.4135024531372983,
          0.11077586201515421,
          0.04026777182158636,
          0.8787261641821904,
          0.4016769194484159,
          0.34823748514100117,
          0.9180031938982922,
          0.3464048238153986,
          0.3231513960814587,
          0.4101889742422178,
          0.21242665621873769,
          0.8781532317425961,
          0.9249493430563664,
          0.8027021525499057,
          0.8939385130830867,
          0.2964210768947244,
          0.2721375293569064,
          0.6665749361611704,
          0.9326493686355349,
          0.16450368543895355,
          0.6200526551776196,
          0.8473445160748326,
          0.537364147128254,
          0.6692229340399083,
          0.013579874426353888,
          0.1718812156993882,
          0.42732612777908074,
          0.8018703931003419,
          0.1117242714670672,
          0.6074918028906466,
          0.17923051332326467,
          0.29370367113860973,
          0.8118255188104506,
          0.17038580537574943,
          0.20367674010735481,
          0.19860467141949012,
          0.4043435100839745,
          0.1230182483905864,
          0.6304393917463661,
          0.5187993516095545,
          0.49899392830867595,
          0.37195525003428287,
          0.9012590354055442,
          0.598559334461797,
          0.8879934822711592,
          0.6201762201726838,
          0.4724005432870696,
          0.3167638992946137,
          0.5103442756824083,
          0.5921731707788559,
          0.8673516897601826,
          0.10589342132430124,
          0.3357128911669608,
          0.9837375464694981,
          0.1874837930251534,
          0.19638230345775054,
          0.7778787806649432,
          0.7902020918679885,
          0.3486619675272935,
          0.5226359726071717,
          0.641862136531932,
          0.519592354729209
         ]
        }
       ],
       "layout": {
        "legend": {
         "bgcolor": "#F5F6F9",
         "font": {
          "color": "#4D5663"
         }
        },
        "paper_bgcolor": "#F5F6F9",
        "plot_bgcolor": "#F5F6F9",
        "template": {
         "data": {
          "bar": [
           {
            "error_x": {
             "color": "#2a3f5f"
            },
            "error_y": {
             "color": "#2a3f5f"
            },
            "marker": {
             "line": {
              "color": "#E5ECF6",
              "width": 0.5
             }
            },
            "type": "bar"
           }
          ],
          "barpolar": [
           {
            "marker": {
             "line": {
              "color": "#E5ECF6",
              "width": 0.5
             }
            },
            "type": "barpolar"
           }
          ],
          "carpet": [
           {
            "aaxis": {
             "endlinecolor": "#2a3f5f",
             "gridcolor": "white",
             "linecolor": "white",
             "minorgridcolor": "white",
             "startlinecolor": "#2a3f5f"
            },
            "baxis": {
             "endlinecolor": "#2a3f5f",
             "gridcolor": "white",
             "linecolor": "white",
             "minorgridcolor": "white",
             "startlinecolor": "#2a3f5f"
            },
            "type": "carpet"
           }
          ],
          "choropleth": [
           {
            "colorbar": {
             "outlinewidth": 0,
             "ticks": ""
            },
            "type": "choropleth"
           }
          ],
          "contour": [
           {
            "colorbar": {
             "outlinewidth": 0,
             "ticks": ""
            },
            "colorscale": [
             [
              0,
              "#0d0887"
             ],
             [
              0.1111111111111111,
              "#46039f"
             ],
             [
              0.2222222222222222,
              "#7201a8"
             ],
             [
              0.3333333333333333,
              "#9c179e"
             ],
             [
              0.4444444444444444,
              "#bd3786"
             ],
             [
              0.5555555555555556,
              "#d8576b"
             ],
             [
              0.6666666666666666,
              "#ed7953"
             ],
             [
              0.7777777777777778,
              "#fb9f3a"
             ],
             [
              0.8888888888888888,
              "#fdca26"
             ],
             [
              1,
              "#f0f921"
             ]
            ],
            "type": "contour"
           }
          ],
          "contourcarpet": [
           {
            "colorbar": {
             "outlinewidth": 0,
             "ticks": ""
            },
            "type": "contourcarpet"
           }
          ],
          "heatmap": [
           {
            "colorbar": {
             "outlinewidth": 0,
             "ticks": ""
            },
            "colorscale": [
             [
              0,
              "#0d0887"
             ],
             [
              0.1111111111111111,
              "#46039f"
             ],
             [
              0.2222222222222222,
              "#7201a8"
             ],
             [
              0.3333333333333333,
              "#9c179e"
             ],
             [
              0.4444444444444444,
              "#bd3786"
             ],
             [
              0.5555555555555556,
              "#d8576b"
             ],
             [
              0.6666666666666666,
              "#ed7953"
             ],
             [
              0.7777777777777778,
              "#fb9f3a"
             ],
             [
              0.8888888888888888,
              "#fdca26"
             ],
             [
              1,
              "#f0f921"
             ]
            ],
            "type": "heatmap"
           }
          ],
          "heatmapgl": [
           {
            "colorbar": {
             "outlinewidth": 0,
             "ticks": ""
            },
            "colorscale": [
             [
              0,
              "#0d0887"
             ],
             [
              0.1111111111111111,
              "#46039f"
             ],
             [
              0.2222222222222222,
              "#7201a8"
             ],
             [
              0.3333333333333333,
              "#9c179e"
             ],
             [
              0.4444444444444444,
              "#bd3786"
             ],
             [
              0.5555555555555556,
              "#d8576b"
             ],
             [
              0.6666666666666666,
              "#ed7953"
             ],
             [
              0.7777777777777778,
              "#fb9f3a"
             ],
             [
              0.8888888888888888,
              "#fdca26"
             ],
             [
              1,
              "#f0f921"
             ]
            ],
            "type": "heatmapgl"
           }
          ],
          "histogram": [
           {
            "marker": {
             "colorbar": {
              "outlinewidth": 0,
              "ticks": ""
             }
            },
            "type": "histogram"
           }
          ],
          "histogram2d": [
           {
            "colorbar": {
             "outlinewidth": 0,
             "ticks": ""
            },
            "colorscale": [
             [
              0,
              "#0d0887"
             ],
             [
              0.1111111111111111,
              "#46039f"
             ],
             [
              0.2222222222222222,
              "#7201a8"
             ],
             [
              0.3333333333333333,
              "#9c179e"
             ],
             [
              0.4444444444444444,
              "#bd3786"
             ],
             [
              0.5555555555555556,
              "#d8576b"
             ],
             [
              0.6666666666666666,
              "#ed7953"
             ],
             [
              0.7777777777777778,
              "#fb9f3a"
             ],
             [
              0.8888888888888888,
              "#fdca26"
             ],
             [
              1,
              "#f0f921"
             ]
            ],
            "type": "histogram2d"
           }
          ],
          "histogram2dcontour": [
           {
            "colorbar": {
             "outlinewidth": 0,
             "ticks": ""
            },
            "colorscale": [
             [
              0,
              "#0d0887"
             ],
             [
              0.1111111111111111,
              "#46039f"
             ],
             [
              0.2222222222222222,
              "#7201a8"
             ],
             [
              0.3333333333333333,
              "#9c179e"
             ],
             [
              0.4444444444444444,
              "#bd3786"
             ],
             [
              0.5555555555555556,
              "#d8576b"
             ],
             [
              0.6666666666666666,
              "#ed7953"
             ],
             [
              0.7777777777777778,
              "#fb9f3a"
             ],
             [
              0.8888888888888888,
              "#fdca26"
             ],
             [
              1,
              "#f0f921"
             ]
            ],
            "type": "histogram2dcontour"
           }
          ],
          "mesh3d": [
           {
            "colorbar": {
             "outlinewidth": 0,
             "ticks": ""
            },
            "type": "mesh3d"
           }
          ],
          "parcoords": [
           {
            "line": {
             "colorbar": {
              "outlinewidth": 0,
              "ticks": ""
             }
            },
            "type": "parcoords"
           }
          ],
          "pie": [
           {
            "automargin": true,
            "type": "pie"
           }
          ],
          "scatter": [
           {
            "marker": {
             "colorbar": {
              "outlinewidth": 0,
              "ticks": ""
             }
            },
            "type": "scatter"
           }
          ],
          "scatter3d": [
           {
            "line": {
             "colorbar": {
              "outlinewidth": 0,
              "ticks": ""
             }
            },
            "marker": {
             "colorbar": {
              "outlinewidth": 0,
              "ticks": ""
             }
            },
            "type": "scatter3d"
           }
          ],
          "scattercarpet": [
           {
            "marker": {
             "colorbar": {
              "outlinewidth": 0,
              "ticks": ""
             }
            },
            "type": "scattercarpet"
           }
          ],
          "scattergeo": [
           {
            "marker": {
             "colorbar": {
              "outlinewidth": 0,
              "ticks": ""
             }
            },
            "type": "scattergeo"
           }
          ],
          "scattergl": [
           {
            "marker": {
             "colorbar": {
              "outlinewidth": 0,
              "ticks": ""
             }
            },
            "type": "scattergl"
           }
          ],
          "scattermapbox": [
           {
            "marker": {
             "colorbar": {
              "outlinewidth": 0,
              "ticks": ""
             }
            },
            "type": "scattermapbox"
           }
          ],
          "scatterpolar": [
           {
            "marker": {
             "colorbar": {
              "outlinewidth": 0,
              "ticks": ""
             }
            },
            "type": "scatterpolar"
           }
          ],
          "scatterpolargl": [
           {
            "marker": {
             "colorbar": {
              "outlinewidth": 0,
              "ticks": ""
             }
            },
            "type": "scatterpolargl"
           }
          ],
          "scatterternary": [
           {
            "marker": {
             "colorbar": {
              "outlinewidth": 0,
              "ticks": ""
             }
            },
            "type": "scatterternary"
           }
          ],
          "surface": [
           {
            "colorbar": {
             "outlinewidth": 0,
             "ticks": ""
            },
            "colorscale": [
             [
              0,
              "#0d0887"
             ],
             [
              0.1111111111111111,
              "#46039f"
             ],
             [
              0.2222222222222222,
              "#7201a8"
             ],
             [
              0.3333333333333333,
              "#9c179e"
             ],
             [
              0.4444444444444444,
              "#bd3786"
             ],
             [
              0.5555555555555556,
              "#d8576b"
             ],
             [
              0.6666666666666666,
              "#ed7953"
             ],
             [
              0.7777777777777778,
              "#fb9f3a"
             ],
             [
              0.8888888888888888,
              "#fdca26"
             ],
             [
              1,
              "#f0f921"
             ]
            ],
            "type": "surface"
           }
          ],
          "table": [
           {
            "cells": {
             "fill": {
              "color": "#EBF0F8"
             },
             "line": {
              "color": "white"
             }
            },
            "header": {
             "fill": {
              "color": "#C8D4E3"
             },
             "line": {
              "color": "white"
             }
            },
            "type": "table"
           }
          ]
         },
         "layout": {
          "annotationdefaults": {
           "arrowcolor": "#2a3f5f",
           "arrowhead": 0,
           "arrowwidth": 1
          },
          "autotypenumbers": "strict",
          "coloraxis": {
           "colorbar": {
            "outlinewidth": 0,
            "ticks": ""
           }
          },
          "colorscale": {
           "diverging": [
            [
             0,
             "#8e0152"
            ],
            [
             0.1,
             "#c51b7d"
            ],
            [
             0.2,
             "#de77ae"
            ],
            [
             0.3,
             "#f1b6da"
            ],
            [
             0.4,
             "#fde0ef"
            ],
            [
             0.5,
             "#f7f7f7"
            ],
            [
             0.6,
             "#e6f5d0"
            ],
            [
             0.7,
             "#b8e186"
            ],
            [
             0.8,
             "#7fbc41"
            ],
            [
             0.9,
             "#4d9221"
            ],
            [
             1,
             "#276419"
            ]
           ],
           "sequential": [
            [
             0,
             "#0d0887"
            ],
            [
             0.1111111111111111,
             "#46039f"
            ],
            [
             0.2222222222222222,
             "#7201a8"
            ],
            [
             0.3333333333333333,
             "#9c179e"
            ],
            [
             0.4444444444444444,
             "#bd3786"
            ],
            [
             0.5555555555555556,
             "#d8576b"
            ],
            [
             0.6666666666666666,
             "#ed7953"
            ],
            [
             0.7777777777777778,
             "#fb9f3a"
            ],
            [
             0.8888888888888888,
             "#fdca26"
            ],
            [
             1,
             "#f0f921"
            ]
           ],
           "sequentialminus": [
            [
             0,
             "#0d0887"
            ],
            [
             0.1111111111111111,
             "#46039f"
            ],
            [
             0.2222222222222222,
             "#7201a8"
            ],
            [
             0.3333333333333333,
             "#9c179e"
            ],
            [
             0.4444444444444444,
             "#bd3786"
            ],
            [
             0.5555555555555556,
             "#d8576b"
            ],
            [
             0.6666666666666666,
             "#ed7953"
            ],
            [
             0.7777777777777778,
             "#fb9f3a"
            ],
            [
             0.8888888888888888,
             "#fdca26"
            ],
            [
             1,
             "#f0f921"
            ]
           ]
          },
          "colorway": [
           "#636efa",
           "#EF553B",
           "#00cc96",
           "#ab63fa",
           "#FFA15A",
           "#19d3f3",
           "#FF6692",
           "#B6E880",
           "#FF97FF",
           "#FECB52"
          ],
          "font": {
           "color": "#2a3f5f"
          },
          "geo": {
           "bgcolor": "white",
           "lakecolor": "white",
           "landcolor": "#E5ECF6",
           "showlakes": true,
           "showland": true,
           "subunitcolor": "white"
          },
          "hoverlabel": {
           "align": "left"
          },
          "hovermode": "closest",
          "mapbox": {
           "style": "light"
          },
          "paper_bgcolor": "white",
          "plot_bgcolor": "#E5ECF6",
          "polar": {
           "angularaxis": {
            "gridcolor": "white",
            "linecolor": "white",
            "ticks": ""
           },
           "bgcolor": "#E5ECF6",
           "radialaxis": {
            "gridcolor": "white",
            "linecolor": "white",
            "ticks": ""
           }
          },
          "scene": {
           "xaxis": {
            "backgroundcolor": "#E5ECF6",
            "gridcolor": "white",
            "gridwidth": 2,
            "linecolor": "white",
            "showbackground": true,
            "ticks": "",
            "zerolinecolor": "white"
           },
           "yaxis": {
            "backgroundcolor": "#E5ECF6",
            "gridcolor": "white",
            "gridwidth": 2,
            "linecolor": "white",
            "showbackground": true,
            "ticks": "",
            "zerolinecolor": "white"
           },
           "zaxis": {
            "backgroundcolor": "#E5ECF6",
            "gridcolor": "white",
            "gridwidth": 2,
            "linecolor": "white",
            "showbackground": true,
            "ticks": "",
            "zerolinecolor": "white"
           }
          },
          "shapedefaults": {
           "line": {
            "color": "#2a3f5f"
           }
          },
          "ternary": {
           "aaxis": {
            "gridcolor": "white",
            "linecolor": "white",
            "ticks": ""
           },
           "baxis": {
            "gridcolor": "white",
            "linecolor": "white",
            "ticks": ""
           },
           "bgcolor": "#E5ECF6",
           "caxis": {
            "gridcolor": "white",
            "linecolor": "white",
            "ticks": ""
           }
          },
          "title": {
           "x": 0.05
          },
          "xaxis": {
           "automargin": true,
           "gridcolor": "white",
           "linecolor": "white",
           "ticks": "",
           "title": {
            "standoff": 15
           },
           "zerolinecolor": "white",
           "zerolinewidth": 2
          },
          "yaxis": {
           "automargin": true,
           "gridcolor": "white",
           "linecolor": "white",
           "ticks": "",
           "title": {
            "standoff": 15
           },
           "zerolinecolor": "white",
           "zerolinewidth": 2
          }
         }
        },
        "title": {
         "font": {
          "color": "#4D5663"
         }
        },
        "xaxis": {
         "gridcolor": "#E1E5ED",
         "showgrid": true,
         "tickfont": {
          "color": "#4D5663"
         },
         "title": {
          "font": {
           "color": "#4D5663"
          },
          "text": ""
         },
         "zerolinecolor": "#E1E5ED"
        },
        "yaxis": {
         "gridcolor": "#E1E5ED",
         "showgrid": true,
         "tickfont": {
          "color": "#4D5663"
         },
         "title": {
          "font": {
           "color": "#4D5663"
          },
          "text": ""
         },
         "zerolinecolor": "#E1E5ED"
        }
       }
      },
      "text/html": [
       "<div>                            <div id=\"d4287fee-363f-4521-931a-c1b6f51ed304\" class=\"plotly-graph-div\" style=\"height:525px; width:100%;\"></div>            <script type=\"text/javascript\">                require([\"plotly\"], function(Plotly) {                    window.PLOTLYENV=window.PLOTLYENV || {};\n",
       "                    window.PLOTLYENV.BASE_URL='https://plot.ly';                                    if (document.getElementById(\"d4287fee-363f-4521-931a-c1b6f51ed304\")) {                    Plotly.newPlot(                        \"d4287fee-363f-4521-931a-c1b6f51ed304\",                        [{\"boxpoints\": false, \"line\": {\"width\": 1.3}, \"marker\": {\"color\": \"rgba(255, 153, 51, 1.0)\"}, \"name\": \"A\", \"orientation\": \"v\", \"type\": \"box\", \"y\": [0.7961457405624094, 0.7284814151218412, 0.26548359872681926, 0.09796177533093198, 0.16039554911107967, 0.8538960016525153, 0.5143194744424351, 0.8823408698363037, 0.10169149730326843, 0.37418009544847985, 0.14379004460852274, 0.18556611232444564, 0.6246098355400076, 0.9218984953362767, 0.2825116119633392, 0.025667154651801583, 0.8807674740989928, 0.15312383740964997, 0.3609448046388689, 0.462122404687347, 0.8281767008551947, 0.25602771271014446, 0.5184068224488684, 0.4317823804334183, 0.9349155531133786, 0.7867759213501828, 0.4268871864768068, 0.300167803125691, 0.42280318832841124, 0.7446879666432202, 0.47321686938068463, 0.5577110119903705, 0.11171109942240587, 0.40318971844868956, 0.2603758181419701, 0.219877474343238, 0.053857386627579995, 0.8088059097887285, 0.9209436745100102, 0.8745231524949658, 0.2949533007483618, 0.887311709354388, 0.5471017318267117, 0.493643486641521, 0.5094948303901524, 0.10721823576890988, 0.167738619906465, 0.953168379508733, 0.368314911980802, 0.051387274114760295, 0.09491667168058915, 0.864567307509565, 0.46211591052271994, 0.45860323758304034, 0.20028401997575818, 0.1095853716236499, 0.018516754123969248, 0.6856560176317743, 0.1269781473307101, 0.9379491304039981, 0.1335361836371286, 0.06279034882844059, 0.8943435490959103, 0.551707977714464, 0.14958411439526642, 0.5735308198133929, 0.8241260434577439, 0.5163494467993835, 0.5782953371850309, 0.7005927544879943, 0.36595980963410757, 0.7287955599631818, 0.5918890451273127, 0.9321222250273381, 0.8441855301908775, 0.5869987672190866, 0.5292362148571884, 0.1672069726898341, 0.6483261454953964, 0.6961563408797535, 0.7282993731952485, 0.24422145750154323, 0.6993871931374737, 0.927164265629315, 0.7675810735126722, 0.26034724995830316, 0.20527077691044604, 0.12046995323104859, 0.4873389443137738, 0.21399535139658976, 0.3028795735652623, 0.5225122126491533, 0.694965670490673, 0.8592782179542262, 0.08802816220428178, 0.018103580151763277, 0.09318191944833143, 0.956197882251905, 0.7322281183573706, 0.8252656799642752]}, {\"boxpoints\": false, \"line\": {\"width\": 1.3}, \"marker\": {\"color\": \"rgba(55, 128, 191, 1.0)\"}, \"name\": \"B\", \"orientation\": \"v\", \"type\": \"box\", \"y\": [0.30857953492927903, 0.8121553993307652, 0.2039653274887121, 0.25529346533685626, 0.5103041824059154, 0.43952483526395336, 0.44118164953710093, 0.20578655729819428, 0.3217363318760861, 0.8296265610686704, 0.8539111798835303, 0.8892591943228391, 0.5404786931096184, 0.7893490841946954, 0.6170591496739061, 0.30738718476362015, 0.9176125587156925, 0.9902400376182472, 0.8600861547123857, 0.9932541730337555, 0.11042797186921705, 0.6274229666188915, 0.9282025897017747, 0.7379746790605323, 0.6469250722357799, 0.9975300976851719, 0.9977222281694023, 0.02753204788809771, 0.439478451591899, 0.8179637771126321, 0.677725138072461, 0.5622533337062408, 0.40270160566805924, 0.4435587816437937, 0.4742478717503821, 0.01769106034158563, 0.5114332771191957, 0.6634294794394282, 0.436871164412437, 0.09981950018046748, 0.1649177335879073, 0.7884644540728586, 0.2717591256561849, 0.606360658476486, 0.39138919962146645, 0.23871460679946788, 0.5978613163786668, 0.6250896574466769, 0.25346490509493513, 0.018347785412238693, 0.6193632689402007, 0.22321764499354646, 0.9616040218310179, 0.9314889200692019, 0.09610635824462521, 0.7162622384044823, 0.9217271924638042, 0.34576732604301064, 0.04489618220310676, 0.08029270350264206, 0.3916088306519312, 0.8430959200735835, 0.07427665097985003, 0.6727437134164113, 0.39301072732471154, 0.34474044558427686, 0.6416511492442835, 0.61622984287053, 0.5008111858876029, 0.17993632046185037, 0.5735805827229292, 0.5353913661354746, 0.20292429981778926, 0.3829783030580831, 0.6953189670009012, 0.6190010180088796, 0.1697824744863038, 0.8503157252513526, 0.38783526355082487, 0.6528138723986583, 0.8977190339004301, 0.5641157499641005, 0.42052115196793005, 0.4897330459421232, 0.7215918332011664, 0.9341240428249529, 0.29660676851939916, 0.02882528015139252, 0.2179140801848123, 0.5993149247684447, 0.6022660904927697, 0.09697971542478623, 0.4631243832913894, 0.4840556930979031, 0.2004295732865916, 0.9999637402482457, 0.03217834271117026, 0.3844195118945932, 0.27223559986961987, 0.39094300733257525]}, {\"boxpoints\": false, \"line\": {\"width\": 1.3}, \"marker\": {\"color\": \"rgba(50, 171, 96, 1.0)\"}, \"name\": \"C\", \"orientation\": \"v\", \"type\": \"box\", \"y\": [0.5527050560434741, 0.6078232140694618, 0.39031567258580024, 0.42128231469082267, 0.5362671329786663, 0.02101976103073322, 0.9619796724576098, 0.7905308703143286, 0.5543494178287254, 0.045436451523771626, 0.46458068358752136, 0.36220989304448903, 0.6237678392288813, 0.045583871786611496, 0.9358193774245493, 0.026502565511646203, 0.5330746072828394, 0.02618460019704616, 0.32531260235783654, 0.319618819348502, 0.7360500876400259, 0.5354854531629368, 0.2618496435829577, 0.3811779082393528, 0.6415180050023152, 0.18044204694860122, 0.6287066130833393, 0.11942150046516475, 0.9889944701360794, 0.6630937950041527, 0.419382485811552, 0.4984579924469602, 0.921639046451626, 0.32660678339897176, 0.8065127567547049, 0.2646894491622418, 0.8960747363647595, 0.7506588826639584, 0.8094394808769635, 0.8030919554953736, 0.3878689564050586, 0.4923060282418876, 0.5981412941533518, 0.4553176080969419, 0.29439623455300257, 0.34327382991206046, 0.12431655081482929, 0.9150332746774794, 0.7304318567126276, 0.8483523583999464, 0.7407860525143114, 0.7210891357543187, 0.27903020367700826, 0.8848552163809733, 0.17156038073860358, 0.04337319601643119, 0.9675109094635755, 0.21826316712618798, 0.8837981058013021, 0.23334188836155223, 0.8817678004920688, 0.8270816804722693, 0.3121661464012242, 0.47093112780988355, 0.05631173452240312, 0.6781537995237207, 0.29962547697846464, 0.7132524678076401, 0.5528475260328126, 0.2156688833512158, 0.14711978163359674, 0.22134786484242885, 0.5948171468562906, 0.23185465036000896, 0.7063108453628258, 0.6645979001720808, 0.4094248945995047, 0.34099084014397574, 0.43745593451003595, 0.8971552736641003, 0.9186331627268297, 0.1565063451750952, 0.030536054793041223, 0.7120068656889563, 0.8151175368176858, 0.8397887373665286, 0.4890855851711824, 0.8624076042689468, 0.18213992047467698, 0.7838746614124613, 0.19187996130544793, 0.8953959274705593, 0.04712811910093628, 0.14921765426846512, 0.22676921799086658, 0.5140121399447354, 0.14164989184838161, 0.43097066657347105, 0.1653842919218299, 0.8994061784192554]}, {\"boxpoints\": false, \"line\": {\"width\": 1.3}, \"marker\": {\"color\": \"rgba(128, 0, 128, 1.0)\"}, \"name\": \"D\", \"orientation\": \"v\", \"type\": \"box\", \"y\": [0.06297409133732523, 0.4498317757557111, 0.14529076286649523, 0.4845894745928305, 0.4130704879118061, 0.796512789928202, 0.9295504450327085, 0.3793375578938267, 0.5278337711366655, 0.511825137509974, 0.42342067806006056, 0.5176777092477235, 0.9476781730036348, 0.9492212471884358, 0.23567704052060323, 0.23095168170682667, 0.466517855451807, 0.5048539897228442, 0.9889531011244264, 0.15356703898892832, 0.9382528928587157, 0.13479990964220756, 0.7800139097349025, 0.4510054649110815, 0.5433094255621769, 0.9190550050225204, 0.8232021009407865, 0.9143199017774716, 0.814963931693124, 0.6607281953705231, 0.985432266704869, 0.3793754817086281, 0.9672654527380448, 0.43555100739467234, 0.870314575633575, 0.6387093488012034, 0.40104676785865667, 0.7598311322288964, 0.18355775746714265, 0.35669959008648533, 0.4984380881633692, 0.9488645780262781, 0.4015952631034039, 0.3526349196821108, 0.060427301579449755, 0.15770520639900665, 0.8242597523546178, 0.3630041389773585, 0.11198234447601463, 0.17368318115390213, 0.6032959356335771, 0.0605131007238473, 0.6032433570649129, 0.44858875102949225, 0.6451273708363193, 0.9235184521382503, 0.8663173507393312, 0.5096552434667105, 0.28375118986953574, 0.8731183705751937, 0.33760474785596717, 0.9866215707077263, 0.3204261960685829, 0.550479030106931, 0.8366045415425287, 0.21911434821379594, 0.44645271239522066, 0.10960341982385202, 0.017837501643790388, 0.7985511026669836, 0.9792751670088569, 0.719755938288002, 0.738167422668125, 0.6981296963135247, 0.0790876204266251, 0.5859056284689684, 0.14421117951782103, 0.6398948301061478, 0.892732978982978, 0.620780851372447, 0.9082357626843863, 0.2809927593769369, 0.5260148717619295, 0.568074185764813, 0.19825239595185518, 0.32140391828044723, 0.1254784509561896, 0.08300211699469007, 0.9852844749274566, 0.287594209170829, 0.5775792597370881, 0.17827220862773707, 0.428477432684761, 0.6415509715111595, 0.3851426369694514, 0.7382561345362859, 0.8766364472398716, 0.6754549093528949, 0.7008362345880325, 0.36657945843827766]}, {\"boxpoints\": false, \"line\": {\"width\": 1.3}, \"marker\": {\"color\": \"rgba(219, 64, 82, 1.0)\"}, \"name\": \"E\", \"orientation\": \"v\", \"type\": \"box\", \"y\": [0.20021815022576261, 0.6970090245079702, 0.510948010248452, 0.38656581174998383, 0.8368219714896773, 0.758320699665722, 0.6276244567530773, 0.3705681973275018, 0.5388412889825842, 0.05203459791807319, 0.5713830272357892, 0.8048620839513668, 0.19153119403827967, 0.4327355397607311, 0.923906115817141, 0.9533944529108536, 0.7570781457611088, 0.18519608773916119, 0.9025331056196263, 0.25327396945415936, 0.4212182606835919, 0.36426384184333127, 0.04007121804759861, 0.5595254899605618, 0.725687696864073, 0.8243086664545084, 0.8635646687362756, 0.9386542317475821, 0.2610070553397167, 0.11228289368336819, 0.8152944680653693, 0.33710617444336477, 0.6382590267890902, 0.6356309680056298, 0.8419573692419023, 0.8104897397781946, 0.28520696847418114, 0.3272991356074971, 0.4135024531372983, 0.11077586201515421, 0.04026777182158636, 0.8787261641821904, 0.4016769194484159, 0.34823748514100117, 0.9180031938982922, 0.3464048238153986, 0.3231513960814587, 0.4101889742422178, 0.21242665621873769, 0.8781532317425961, 0.9249493430563664, 0.8027021525499057, 0.8939385130830867, 0.2964210768947244, 0.2721375293569064, 0.6665749361611704, 0.9326493686355349, 0.16450368543895355, 0.6200526551776196, 0.8473445160748326, 0.537364147128254, 0.6692229340399083, 0.013579874426353888, 0.1718812156993882, 0.42732612777908074, 0.8018703931003419, 0.1117242714670672, 0.6074918028906466, 0.17923051332326467, 0.29370367113860973, 0.8118255188104506, 0.17038580537574943, 0.20367674010735481, 0.19860467141949012, 0.4043435100839745, 0.1230182483905864, 0.6304393917463661, 0.5187993516095545, 0.49899392830867595, 0.37195525003428287, 0.9012590354055442, 0.598559334461797, 0.8879934822711592, 0.6201762201726838, 0.4724005432870696, 0.3167638992946137, 0.5103442756824083, 0.5921731707788559, 0.8673516897601826, 0.10589342132430124, 0.3357128911669608, 0.9837375464694981, 0.1874837930251534, 0.19638230345775054, 0.7778787806649432, 0.7902020918679885, 0.3486619675272935, 0.5226359726071717, 0.641862136531932, 0.519592354729209]}],                        {\"legend\": {\"bgcolor\": \"#F5F6F9\", \"font\": {\"color\": \"#4D5663\"}}, \"paper_bgcolor\": \"#F5F6F9\", \"plot_bgcolor\": \"#F5F6F9\", \"template\": {\"data\": {\"bar\": [{\"error_x\": {\"color\": \"#2a3f5f\"}, \"error_y\": {\"color\": \"#2a3f5f\"}, \"marker\": {\"line\": {\"color\": \"#E5ECF6\", \"width\": 0.5}}, \"type\": \"bar\"}], \"barpolar\": [{\"marker\": {\"line\": {\"color\": \"#E5ECF6\", \"width\": 0.5}}, \"type\": \"barpolar\"}], \"carpet\": [{\"aaxis\": {\"endlinecolor\": \"#2a3f5f\", \"gridcolor\": \"white\", \"linecolor\": \"white\", \"minorgridcolor\": \"white\", \"startlinecolor\": \"#2a3f5f\"}, \"baxis\": {\"endlinecolor\": \"#2a3f5f\", \"gridcolor\": \"white\", \"linecolor\": \"white\", \"minorgridcolor\": \"white\", \"startlinecolor\": \"#2a3f5f\"}, \"type\": \"carpet\"}], \"choropleth\": [{\"colorbar\": {\"outlinewidth\": 0, \"ticks\": \"\"}, \"type\": \"choropleth\"}], \"contour\": [{\"colorbar\": {\"outlinewidth\": 0, \"ticks\": \"\"}, \"colorscale\": [[0.0, \"#0d0887\"], [0.1111111111111111, \"#46039f\"], [0.2222222222222222, \"#7201a8\"], [0.3333333333333333, \"#9c179e\"], [0.4444444444444444, \"#bd3786\"], [0.5555555555555556, \"#d8576b\"], [0.6666666666666666, \"#ed7953\"], [0.7777777777777778, \"#fb9f3a\"], [0.8888888888888888, \"#fdca26\"], [1.0, \"#f0f921\"]], \"type\": \"contour\"}], \"contourcarpet\": [{\"colorbar\": {\"outlinewidth\": 0, \"ticks\": \"\"}, \"type\": \"contourcarpet\"}], \"heatmap\": [{\"colorbar\": {\"outlinewidth\": 0, \"ticks\": \"\"}, \"colorscale\": [[0.0, \"#0d0887\"], [0.1111111111111111, \"#46039f\"], [0.2222222222222222, \"#7201a8\"], [0.3333333333333333, \"#9c179e\"], [0.4444444444444444, \"#bd3786\"], [0.5555555555555556, \"#d8576b\"], [0.6666666666666666, \"#ed7953\"], [0.7777777777777778, \"#fb9f3a\"], [0.8888888888888888, \"#fdca26\"], [1.0, \"#f0f921\"]], \"type\": \"heatmap\"}], \"heatmapgl\": [{\"colorbar\": {\"outlinewidth\": 0, \"ticks\": \"\"}, \"colorscale\": [[0.0, \"#0d0887\"], [0.1111111111111111, \"#46039f\"], [0.2222222222222222, \"#7201a8\"], [0.3333333333333333, \"#9c179e\"], [0.4444444444444444, \"#bd3786\"], [0.5555555555555556, \"#d8576b\"], [0.6666666666666666, \"#ed7953\"], [0.7777777777777778, \"#fb9f3a\"], [0.8888888888888888, \"#fdca26\"], [1.0, \"#f0f921\"]], \"type\": \"heatmapgl\"}], \"histogram\": [{\"marker\": {\"colorbar\": {\"outlinewidth\": 0, \"ticks\": \"\"}}, \"type\": \"histogram\"}], \"histogram2d\": [{\"colorbar\": {\"outlinewidth\": 0, \"ticks\": \"\"}, \"colorscale\": [[0.0, \"#0d0887\"], [0.1111111111111111, \"#46039f\"], [0.2222222222222222, \"#7201a8\"], [0.3333333333333333, \"#9c179e\"], [0.4444444444444444, \"#bd3786\"], [0.5555555555555556, \"#d8576b\"], [0.6666666666666666, \"#ed7953\"], [0.7777777777777778, \"#fb9f3a\"], [0.8888888888888888, \"#fdca26\"], [1.0, \"#f0f921\"]], \"type\": \"histogram2d\"}], \"histogram2dcontour\": [{\"colorbar\": {\"outlinewidth\": 0, \"ticks\": \"\"}, \"colorscale\": [[0.0, \"#0d0887\"], [0.1111111111111111, \"#46039f\"], [0.2222222222222222, \"#7201a8\"], [0.3333333333333333, \"#9c179e\"], [0.4444444444444444, \"#bd3786\"], [0.5555555555555556, \"#d8576b\"], [0.6666666666666666, \"#ed7953\"], [0.7777777777777778, \"#fb9f3a\"], [0.8888888888888888, \"#fdca26\"], [1.0, \"#f0f921\"]], \"type\": \"histogram2dcontour\"}], \"mesh3d\": [{\"colorbar\": {\"outlinewidth\": 0, \"ticks\": \"\"}, \"type\": \"mesh3d\"}], \"parcoords\": [{\"line\": {\"colorbar\": {\"outlinewidth\": 0, \"ticks\": \"\"}}, \"type\": \"parcoords\"}], \"pie\": [{\"automargin\": true, \"type\": \"pie\"}], \"scatter\": [{\"marker\": {\"colorbar\": {\"outlinewidth\": 0, \"ticks\": \"\"}}, \"type\": \"scatter\"}], \"scatter3d\": [{\"line\": {\"colorbar\": {\"outlinewidth\": 0, \"ticks\": \"\"}}, \"marker\": {\"colorbar\": {\"outlinewidth\": 0, \"ticks\": \"\"}}, \"type\": \"scatter3d\"}], \"scattercarpet\": [{\"marker\": {\"colorbar\": {\"outlinewidth\": 0, \"ticks\": \"\"}}, \"type\": \"scattercarpet\"}], \"scattergeo\": [{\"marker\": {\"colorbar\": {\"outlinewidth\": 0, \"ticks\": \"\"}}, \"type\": \"scattergeo\"}], \"scattergl\": [{\"marker\": {\"colorbar\": {\"outlinewidth\": 0, \"ticks\": \"\"}}, \"type\": \"scattergl\"}], \"scattermapbox\": [{\"marker\": {\"colorbar\": {\"outlinewidth\": 0, \"ticks\": \"\"}}, \"type\": \"scattermapbox\"}], \"scatterpolar\": [{\"marker\": {\"colorbar\": {\"outlinewidth\": 0, \"ticks\": \"\"}}, \"type\": \"scatterpolar\"}], \"scatterpolargl\": [{\"marker\": {\"colorbar\": {\"outlinewidth\": 0, \"ticks\": \"\"}}, \"type\": \"scatterpolargl\"}], \"scatterternary\": [{\"marker\": {\"colorbar\": {\"outlinewidth\": 0, \"ticks\": \"\"}}, \"type\": \"scatterternary\"}], \"surface\": [{\"colorbar\": {\"outlinewidth\": 0, \"ticks\": \"\"}, \"colorscale\": [[0.0, \"#0d0887\"], [0.1111111111111111, \"#46039f\"], [0.2222222222222222, \"#7201a8\"], [0.3333333333333333, \"#9c179e\"], [0.4444444444444444, \"#bd3786\"], [0.5555555555555556, \"#d8576b\"], [0.6666666666666666, \"#ed7953\"], [0.7777777777777778, \"#fb9f3a\"], [0.8888888888888888, \"#fdca26\"], [1.0, \"#f0f921\"]], \"type\": \"surface\"}], \"table\": [{\"cells\": {\"fill\": {\"color\": \"#EBF0F8\"}, \"line\": {\"color\": \"white\"}}, \"header\": {\"fill\": {\"color\": \"#C8D4E3\"}, \"line\": {\"color\": \"white\"}}, \"type\": \"table\"}]}, \"layout\": {\"annotationdefaults\": {\"arrowcolor\": \"#2a3f5f\", \"arrowhead\": 0, \"arrowwidth\": 1}, \"autotypenumbers\": \"strict\", \"coloraxis\": {\"colorbar\": {\"outlinewidth\": 0, \"ticks\": \"\"}}, \"colorscale\": {\"diverging\": [[0, \"#8e0152\"], [0.1, \"#c51b7d\"], [0.2, \"#de77ae\"], [0.3, \"#f1b6da\"], [0.4, \"#fde0ef\"], [0.5, \"#f7f7f7\"], [0.6, \"#e6f5d0\"], [0.7, \"#b8e186\"], [0.8, \"#7fbc41\"], [0.9, \"#4d9221\"], [1, \"#276419\"]], \"sequential\": [[0.0, \"#0d0887\"], [0.1111111111111111, \"#46039f\"], [0.2222222222222222, \"#7201a8\"], [0.3333333333333333, \"#9c179e\"], [0.4444444444444444, \"#bd3786\"], [0.5555555555555556, \"#d8576b\"], [0.6666666666666666, \"#ed7953\"], [0.7777777777777778, \"#fb9f3a\"], [0.8888888888888888, \"#fdca26\"], [1.0, \"#f0f921\"]], \"sequentialminus\": [[0.0, \"#0d0887\"], [0.1111111111111111, \"#46039f\"], [0.2222222222222222, \"#7201a8\"], [0.3333333333333333, \"#9c179e\"], [0.4444444444444444, \"#bd3786\"], [0.5555555555555556, \"#d8576b\"], [0.6666666666666666, \"#ed7953\"], [0.7777777777777778, \"#fb9f3a\"], [0.8888888888888888, \"#fdca26\"], [1.0, \"#f0f921\"]]}, \"colorway\": [\"#636efa\", \"#EF553B\", \"#00cc96\", \"#ab63fa\", \"#FFA15A\", \"#19d3f3\", \"#FF6692\", \"#B6E880\", \"#FF97FF\", \"#FECB52\"], \"font\": {\"color\": \"#2a3f5f\"}, \"geo\": {\"bgcolor\": \"white\", \"lakecolor\": \"white\", \"landcolor\": \"#E5ECF6\", \"showlakes\": true, \"showland\": true, \"subunitcolor\": \"white\"}, \"hoverlabel\": {\"align\": \"left\"}, \"hovermode\": \"closest\", \"mapbox\": {\"style\": \"light\"}, \"paper_bgcolor\": \"white\", \"plot_bgcolor\": \"#E5ECF6\", \"polar\": {\"angularaxis\": {\"gridcolor\": \"white\", \"linecolor\": \"white\", \"ticks\": \"\"}, \"bgcolor\": \"#E5ECF6\", \"radialaxis\": {\"gridcolor\": \"white\", \"linecolor\": \"white\", \"ticks\": \"\"}}, \"scene\": {\"xaxis\": {\"backgroundcolor\": \"#E5ECF6\", \"gridcolor\": \"white\", \"gridwidth\": 2, \"linecolor\": \"white\", \"showbackground\": true, \"ticks\": \"\", \"zerolinecolor\": \"white\"}, \"yaxis\": {\"backgroundcolor\": \"#E5ECF6\", \"gridcolor\": \"white\", \"gridwidth\": 2, \"linecolor\": \"white\", \"showbackground\": true, \"ticks\": \"\", \"zerolinecolor\": \"white\"}, \"zaxis\": {\"backgroundcolor\": \"#E5ECF6\", \"gridcolor\": \"white\", \"gridwidth\": 2, \"linecolor\": \"white\", \"showbackground\": true, \"ticks\": \"\", \"zerolinecolor\": \"white\"}}, \"shapedefaults\": {\"line\": {\"color\": \"#2a3f5f\"}}, \"ternary\": {\"aaxis\": {\"gridcolor\": \"white\", \"linecolor\": \"white\", \"ticks\": \"\"}, \"baxis\": {\"gridcolor\": \"white\", \"linecolor\": \"white\", \"ticks\": \"\"}, \"bgcolor\": \"#E5ECF6\", \"caxis\": {\"gridcolor\": \"white\", \"linecolor\": \"white\", \"ticks\": \"\"}}, \"title\": {\"x\": 0.05}, \"xaxis\": {\"automargin\": true, \"gridcolor\": \"white\", \"linecolor\": \"white\", \"ticks\": \"\", \"title\": {\"standoff\": 15}, \"zerolinecolor\": \"white\", \"zerolinewidth\": 2}, \"yaxis\": {\"automargin\": true, \"gridcolor\": \"white\", \"linecolor\": \"white\", \"ticks\": \"\", \"title\": {\"standoff\": 15}, \"zerolinecolor\": \"white\", \"zerolinewidth\": 2}}}, \"title\": {\"font\": {\"color\": \"#4D5663\"}}, \"xaxis\": {\"gridcolor\": \"#E1E5ED\", \"showgrid\": true, \"tickfont\": {\"color\": \"#4D5663\"}, \"title\": {\"font\": {\"color\": \"#4D5663\"}, \"text\": \"\"}, \"zerolinecolor\": \"#E1E5ED\"}, \"yaxis\": {\"gridcolor\": \"#E1E5ED\", \"showgrid\": true, \"tickfont\": {\"color\": \"#4D5663\"}, \"title\": {\"font\": {\"color\": \"#4D5663\"}, \"text\": \"\"}, \"zerolinecolor\": \"#E1E5ED\"}},                        {\"showLink\": true, \"linkText\": \"Export to plot.ly\", \"plotlyServerURL\": \"https://plot.ly\", \"responsive\": true}                    ).then(function(){\n",
       "                            \n",
       "var gd = document.getElementById('d4287fee-363f-4521-931a-c1b6f51ed304');\n",
       "var x = new MutationObserver(function (mutations, observer) {{\n",
       "        var display = window.getComputedStyle(gd).display;\n",
       "        if (!display || display === 'none') {{\n",
       "            console.log([gd, 'removed!']);\n",
       "            Plotly.purge(gd);\n",
       "            observer.disconnect();\n",
       "        }}\n",
       "}});\n",
       "\n",
       "// Listen for the removal of the full notebook cells\n",
       "var notebookContainer = gd.closest('#notebook-container');\n",
       "if (notebookContainer) {{\n",
       "    x.observe(notebookContainer, {childList: true});\n",
       "}}\n",
       "\n",
       "// Listen for the clearing of the current output cell\n",
       "var outputEl = gd.closest('.output');\n",
       "if (outputEl) {{\n",
       "    x.observe(outputEl, {childList: true});\n",
       "}}\n",
       "\n",
       "                        })                };                });            </script>        </div>"
      ]
     },
     "metadata": {},
     "output_type": "display_data"
    }
   ],
   "source": [
    "main(cat)"
   ]
  },
  {
   "cell_type": "code",
   "execution_count": null,
   "metadata": {},
   "outputs": [],
   "source": []
  }
 ],
 "metadata": {
  "kernelspec": {
   "display_name": "Python 3",
   "language": "python",
   "name": "python3"
  },
  "language_info": {
   "codemirror_mode": {
    "name": "ipython",
    "version": 3
   },
   "file_extension": ".py",
   "mimetype": "text/x-python",
   "name": "python",
   "nbconvert_exporter": "python",
   "pygments_lexer": "ipython3",
   "version": "3.7.7"
  }
 },
 "nbformat": 4,
 "nbformat_minor": 4
}
