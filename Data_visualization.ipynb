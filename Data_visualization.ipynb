{
 "cells": [
  {
   "cell_type": "code",
   "execution_count": 1,
   "metadata": {},
   "outputs": [],
   "source": [
    "import seaborn as sns\n",
    "import numpy as np\n",
    "import matplotlib.pyplot as plt\n",
    "import pandas as pd"
   ]
  },
  {
   "cell_type": "code",
   "execution_count": 2,
   "metadata": {},
   "outputs": [],
   "source": [
    "diamonds = sns.load_dataset('diamonds')"
   ]
  },
  {
   "cell_type": "code",
   "execution_count": 3,
   "metadata": {},
   "outputs": [
    {
     "data": {
      "text/html": [
       "<div>\n",
       "<style scoped>\n",
       "    .dataframe tbody tr th:only-of-type {\n",
       "        vertical-align: middle;\n",
       "    }\n",
       "\n",
       "    .dataframe tbody tr th {\n",
       "        vertical-align: top;\n",
       "    }\n",
       "\n",
       "    .dataframe thead th {\n",
       "        text-align: right;\n",
       "    }\n",
       "</style>\n",
       "<table border=\"1\" class=\"dataframe\">\n",
       "  <thead>\n",
       "    <tr style=\"text-align: right;\">\n",
       "      <th></th>\n",
       "      <th>carat</th>\n",
       "      <th>cut</th>\n",
       "      <th>color</th>\n",
       "      <th>clarity</th>\n",
       "      <th>depth</th>\n",
       "      <th>table</th>\n",
       "      <th>price</th>\n",
       "      <th>x</th>\n",
       "      <th>y</th>\n",
       "      <th>z</th>\n",
       "    </tr>\n",
       "  </thead>\n",
       "  <tbody>\n",
       "    <tr>\n",
       "      <th>0</th>\n",
       "      <td>0.23</td>\n",
       "      <td>Ideal</td>\n",
       "      <td>E</td>\n",
       "      <td>SI2</td>\n",
       "      <td>61.5</td>\n",
       "      <td>55.0</td>\n",
       "      <td>326</td>\n",
       "      <td>3.95</td>\n",
       "      <td>3.98</td>\n",
       "      <td>2.43</td>\n",
       "    </tr>\n",
       "    <tr>\n",
       "      <th>1</th>\n",
       "      <td>0.21</td>\n",
       "      <td>Premium</td>\n",
       "      <td>E</td>\n",
       "      <td>SI1</td>\n",
       "      <td>59.8</td>\n",
       "      <td>61.0</td>\n",
       "      <td>326</td>\n",
       "      <td>3.89</td>\n",
       "      <td>3.84</td>\n",
       "      <td>2.31</td>\n",
       "    </tr>\n",
       "    <tr>\n",
       "      <th>2</th>\n",
       "      <td>0.23</td>\n",
       "      <td>Good</td>\n",
       "      <td>E</td>\n",
       "      <td>VS1</td>\n",
       "      <td>56.9</td>\n",
       "      <td>65.0</td>\n",
       "      <td>327</td>\n",
       "      <td>4.05</td>\n",
       "      <td>4.07</td>\n",
       "      <td>2.31</td>\n",
       "    </tr>\n",
       "    <tr>\n",
       "      <th>3</th>\n",
       "      <td>0.29</td>\n",
       "      <td>Premium</td>\n",
       "      <td>I</td>\n",
       "      <td>VS2</td>\n",
       "      <td>62.4</td>\n",
       "      <td>58.0</td>\n",
       "      <td>334</td>\n",
       "      <td>4.20</td>\n",
       "      <td>4.23</td>\n",
       "      <td>2.63</td>\n",
       "    </tr>\n",
       "    <tr>\n",
       "      <th>4</th>\n",
       "      <td>0.31</td>\n",
       "      <td>Good</td>\n",
       "      <td>J</td>\n",
       "      <td>SI2</td>\n",
       "      <td>63.3</td>\n",
       "      <td>58.0</td>\n",
       "      <td>335</td>\n",
       "      <td>4.34</td>\n",
       "      <td>4.35</td>\n",
       "      <td>2.75</td>\n",
       "    </tr>\n",
       "    <tr>\n",
       "      <th>...</th>\n",
       "      <td>...</td>\n",
       "      <td>...</td>\n",
       "      <td>...</td>\n",
       "      <td>...</td>\n",
       "      <td>...</td>\n",
       "      <td>...</td>\n",
       "      <td>...</td>\n",
       "      <td>...</td>\n",
       "      <td>...</td>\n",
       "      <td>...</td>\n",
       "    </tr>\n",
       "    <tr>\n",
       "      <th>53935</th>\n",
       "      <td>0.72</td>\n",
       "      <td>Ideal</td>\n",
       "      <td>D</td>\n",
       "      <td>SI1</td>\n",
       "      <td>60.8</td>\n",
       "      <td>57.0</td>\n",
       "      <td>2757</td>\n",
       "      <td>5.75</td>\n",
       "      <td>5.76</td>\n",
       "      <td>3.50</td>\n",
       "    </tr>\n",
       "    <tr>\n",
       "      <th>53936</th>\n",
       "      <td>0.72</td>\n",
       "      <td>Good</td>\n",
       "      <td>D</td>\n",
       "      <td>SI1</td>\n",
       "      <td>63.1</td>\n",
       "      <td>55.0</td>\n",
       "      <td>2757</td>\n",
       "      <td>5.69</td>\n",
       "      <td>5.75</td>\n",
       "      <td>3.61</td>\n",
       "    </tr>\n",
       "    <tr>\n",
       "      <th>53937</th>\n",
       "      <td>0.70</td>\n",
       "      <td>Very Good</td>\n",
       "      <td>D</td>\n",
       "      <td>SI1</td>\n",
       "      <td>62.8</td>\n",
       "      <td>60.0</td>\n",
       "      <td>2757</td>\n",
       "      <td>5.66</td>\n",
       "      <td>5.68</td>\n",
       "      <td>3.56</td>\n",
       "    </tr>\n",
       "    <tr>\n",
       "      <th>53938</th>\n",
       "      <td>0.86</td>\n",
       "      <td>Premium</td>\n",
       "      <td>H</td>\n",
       "      <td>SI2</td>\n",
       "      <td>61.0</td>\n",
       "      <td>58.0</td>\n",
       "      <td>2757</td>\n",
       "      <td>6.15</td>\n",
       "      <td>6.12</td>\n",
       "      <td>3.74</td>\n",
       "    </tr>\n",
       "    <tr>\n",
       "      <th>53939</th>\n",
       "      <td>0.75</td>\n",
       "      <td>Ideal</td>\n",
       "      <td>D</td>\n",
       "      <td>SI2</td>\n",
       "      <td>62.2</td>\n",
       "      <td>55.0</td>\n",
       "      <td>2757</td>\n",
       "      <td>5.83</td>\n",
       "      <td>5.87</td>\n",
       "      <td>3.64</td>\n",
       "    </tr>\n",
       "  </tbody>\n",
       "</table>\n",
       "<p>53940 rows × 10 columns</p>\n",
       "</div>"
      ],
      "text/plain": [
       "       carat        cut color clarity  depth  table  price     x     y     z\n",
       "0       0.23      Ideal     E     SI2   61.5   55.0    326  3.95  3.98  2.43\n",
       "1       0.21    Premium     E     SI1   59.8   61.0    326  3.89  3.84  2.31\n",
       "2       0.23       Good     E     VS1   56.9   65.0    327  4.05  4.07  2.31\n",
       "3       0.29    Premium     I     VS2   62.4   58.0    334  4.20  4.23  2.63\n",
       "4       0.31       Good     J     SI2   63.3   58.0    335  4.34  4.35  2.75\n",
       "...      ...        ...   ...     ...    ...    ...    ...   ...   ...   ...\n",
       "53935   0.72      Ideal     D     SI1   60.8   57.0   2757  5.75  5.76  3.50\n",
       "53936   0.72       Good     D     SI1   63.1   55.0   2757  5.69  5.75  3.61\n",
       "53937   0.70  Very Good     D     SI1   62.8   60.0   2757  5.66  5.68  3.56\n",
       "53938   0.86    Premium     H     SI2   61.0   58.0   2757  6.15  6.12  3.74\n",
       "53939   0.75      Ideal     D     SI2   62.2   55.0   2757  5.83  5.87  3.64\n",
       "\n",
       "[53940 rows x 10 columns]"
      ]
     },
     "execution_count": 3,
     "metadata": {},
     "output_type": "execute_result"
    }
   ],
   "source": [
    "diamonds"
   ]
  },
  {
   "cell_type": "code",
   "execution_count": 4,
   "metadata": {},
   "outputs": [
    {
     "data": {
      "text/html": [
       "<div>\n",
       "<style scoped>\n",
       "    .dataframe tbody tr th:only-of-type {\n",
       "        vertical-align: middle;\n",
       "    }\n",
       "\n",
       "    .dataframe tbody tr th {\n",
       "        vertical-align: top;\n",
       "    }\n",
       "\n",
       "    .dataframe thead th {\n",
       "        text-align: right;\n",
       "    }\n",
       "</style>\n",
       "<table border=\"1\" class=\"dataframe\">\n",
       "  <thead>\n",
       "    <tr style=\"text-align: right;\">\n",
       "      <th></th>\n",
       "      <th>carat</th>\n",
       "      <th>cut</th>\n",
       "      <th>color</th>\n",
       "      <th>clarity</th>\n",
       "      <th>depth</th>\n",
       "      <th>table</th>\n",
       "      <th>price</th>\n",
       "      <th>x</th>\n",
       "      <th>y</th>\n",
       "      <th>z</th>\n",
       "    </tr>\n",
       "  </thead>\n",
       "  <tbody>\n",
       "    <tr>\n",
       "      <th>0</th>\n",
       "      <td>0.23</td>\n",
       "      <td>Ideal</td>\n",
       "      <td>E</td>\n",
       "      <td>SI2</td>\n",
       "      <td>61.5</td>\n",
       "      <td>55.0</td>\n",
       "      <td>326</td>\n",
       "      <td>3.95</td>\n",
       "      <td>3.98</td>\n",
       "      <td>2.43</td>\n",
       "    </tr>\n",
       "    <tr>\n",
       "      <th>1</th>\n",
       "      <td>0.21</td>\n",
       "      <td>Premium</td>\n",
       "      <td>E</td>\n",
       "      <td>SI1</td>\n",
       "      <td>59.8</td>\n",
       "      <td>61.0</td>\n",
       "      <td>326</td>\n",
       "      <td>3.89</td>\n",
       "      <td>3.84</td>\n",
       "      <td>2.31</td>\n",
       "    </tr>\n",
       "    <tr>\n",
       "      <th>2</th>\n",
       "      <td>0.23</td>\n",
       "      <td>Good</td>\n",
       "      <td>E</td>\n",
       "      <td>VS1</td>\n",
       "      <td>56.9</td>\n",
       "      <td>65.0</td>\n",
       "      <td>327</td>\n",
       "      <td>4.05</td>\n",
       "      <td>4.07</td>\n",
       "      <td>2.31</td>\n",
       "    </tr>\n",
       "    <tr>\n",
       "      <th>3</th>\n",
       "      <td>0.29</td>\n",
       "      <td>Premium</td>\n",
       "      <td>I</td>\n",
       "      <td>VS2</td>\n",
       "      <td>62.4</td>\n",
       "      <td>58.0</td>\n",
       "      <td>334</td>\n",
       "      <td>4.20</td>\n",
       "      <td>4.23</td>\n",
       "      <td>2.63</td>\n",
       "    </tr>\n",
       "    <tr>\n",
       "      <th>4</th>\n",
       "      <td>0.31</td>\n",
       "      <td>Good</td>\n",
       "      <td>J</td>\n",
       "      <td>SI2</td>\n",
       "      <td>63.3</td>\n",
       "      <td>58.0</td>\n",
       "      <td>335</td>\n",
       "      <td>4.34</td>\n",
       "      <td>4.35</td>\n",
       "      <td>2.75</td>\n",
       "    </tr>\n",
       "  </tbody>\n",
       "</table>\n",
       "</div>"
      ],
      "text/plain": [
       "   carat      cut color clarity  depth  table  price     x     y     z\n",
       "0   0.23    Ideal     E     SI2   61.5   55.0    326  3.95  3.98  2.43\n",
       "1   0.21  Premium     E     SI1   59.8   61.0    326  3.89  3.84  2.31\n",
       "2   0.23     Good     E     VS1   56.9   65.0    327  4.05  4.07  2.31\n",
       "3   0.29  Premium     I     VS2   62.4   58.0    334  4.20  4.23  2.63\n",
       "4   0.31     Good     J     SI2   63.3   58.0    335  4.34  4.35  2.75"
      ]
     },
     "execution_count": 4,
     "metadata": {},
     "output_type": "execute_result"
    }
   ],
   "source": [
    "diamonds.head()"
   ]
  },
  {
   "cell_type": "code",
   "execution_count": 5,
   "metadata": {},
   "outputs": [
    {
     "data": {
      "text/plain": [
       "<matplotlib.axes._subplots.AxesSubplot at 0x1c665548988>"
      ]
     },
     "execution_count": 5,
     "metadata": {},
     "output_type": "execute_result"
    },
    {
     "data": {
      "image/png": "[encoded data removed]",
      "text/plain": [
       "<Figure size 432x288 with 1 Axes>"
      ]
     },
     "metadata": {
      "needs_background": "light"
     },
     "output_type": "display_data"
    }
   ],
   "source": [
    "sns.distplot(diamonds['price'])"
   ]
  },
  {
   "cell_type": "code",
   "execution_count": 6,
   "metadata": {},
   "outputs": [
    {
     "data": {
      "text/plain": [
       "<matplotlib.axes._subplots.AxesSubplot at 0x1c66613a488>"
      ]
     },
     "execution_count": 6,
     "metadata": {},
     "output_type": "execute_result"
    },
    {
     "data": {
      "image/png": "[encoded data removed]",
      "text/plain": [
       "<Figure size 432x288 with 1 Axes>"
      ]
     },
     "metadata": {
      "needs_background": "light"
     },
     "output_type": "display_data"
    }
   ],
   "source": [
    "sns.kdeplot(diamonds['price'])"
   ]
  },
  {
   "cell_type": "code",
   "execution_count": 7,
   "metadata": {},
   "outputs": [],
   "source": [
    "import plotly as pl\n",
    "import cufflinks as cf\n",
    "import plotly.offline as po"
   ]
  },
  {
   "cell_type": "code",
   "execution_count": 8,
   "metadata": {},
   "outputs": [
    {
     "data": {
      "text/html": [
       "        <script type=\"text/javascript\">\n",
       "        window.PlotlyConfig = {MathJaxConfig: 'local'};\n",
       "        if (window.MathJax) {MathJax.Hub.Config({SVG: {font: \"STIX-Web\"}});}\n",
       "        if (typeof require !== 'undefined') {\n",
       "        require.undef(\"plotly\");\n",
       "        requirejs.config({\n",
       "            paths: {\n",
       "                'plotly': ['https://cdn.plot.ly/plotly-latest.min']\n",
       "            }\n",
       "        });\n",
       "        require(['plotly'], function(Plotly) {\n",
       "            window._Plotly = Plotly;\n",
       "        });\n",
       "        }\n",
       "        </script>\n",
       "        "
      ]
     },
     "metadata": {},
     "output_type": "display_data"
    },
    {
     "data": {
      "text/html": [
       "        <script type=\"text/javascript\">\n",
       "        window.PlotlyConfig = {MathJaxConfig: 'local'};\n",
       "        if (window.MathJax) {MathJax.Hub.Config({SVG: {font: \"STIX-Web\"}});}\n",
       "        if (typeof require !== 'undefined') {\n",
       "        require.undef(\"plotly\");\n",
       "        requirejs.config({\n",
       "            paths: {\n",
       "                'plotly': ['https://cdn.plot.ly/plotly-latest.min']\n",
       "            }\n",
       "        });\n",
       "        require(['plotly'], function(Plotly) {\n",
       "            window._Plotly = Plotly;\n",
       "        });\n",
       "        }\n",
       "        </script>\n",
       "        "
      ]
     },
     "metadata": {},
     "output_type": "display_data"
    }
   ],
   "source": [
    "po.init_notebook_mode(connected = True)\n",
    "cf.go_offline()"
   ]
  },
  {
   "cell_type": "code",
   "execution_count": 9,
   "metadata": {},
   "outputs": [],
   "source": [
    "df = pd.DataFrame(np.random.rand(100,5), columns =['a','b','c','d','e'])\n",
    "df2 = pd.DataFrame({'x':['a','b','c','d','e'], 'y':[1,2,3,4,5], 'z':[6,7,8,4,3]})"
   ]
  },
  {
   "cell_type": "code",
   "execution_count": 10,
   "metadata": {},
   "outputs": [
    {
     "data": {
      "application/vnd.plotly.v1+json": {
       "config": {
        "linkText": "Export to plot.ly",
        "plotlyServerURL": "https://plot.ly",
        "showLink": true
       },
       "data": [
        {
         "line": {
          "color": "rgba(255, 153, 51, 1.0)",
          "dash": "solid",
          "shape": "linear",
          "width": 1.3
         },
         "mode": "lines",
         "name": "a",
         "text": "",
         "type": "scatter",
         "x": [
          0,
          1,
          2,
          3,
          4,
          5,
          6,
          7,
          8,
          9,
          10,
          11,
          12,
          13,
          14,
          15,
          16,
          17,
          18,
          19,
          20,
          21,
          22,
          23,
          24,
          25,
          26,
          27,
          28,
          29,
          30,
          31,
          32,
          33,
          34,
          35,
          36,
          37,
          38,
          39,
          40,
          41,
          42,
          43,
          44,
          45,
          46,
          47,
          48,
          49,
          50,
          51,
          52,
          53,
          54,
          55,
          56,
          57,
          58,
          59,
          60,
          61,
          62,
          63,
          64,
          65,
          66,
          67,
          68,
          69,
          70,
          71,
          72,
          73,
          74,
          75,
          76,
          77,
          78,
          79,
          80,
          81,
          82,
          83,
          84,
          85,
          86,
          87,
          88,
          89,
          90,
          91,
          92,
          93,
          94,
          95,
          96,
          97,
          98,
          99
         ],
         "y": [
          0.31441513431481705,
          0.757834543337892,
          0.7742631153157491,
          0.2504749726759551,
          0.8620110639932879,
          0.09461017156051088,
          0.2431385930413701,
          0.49302985151321654,
          0.4352595632960975,
          0.7038578030179201,
          0.8763487875848481,
          0.7339318188327008,
          0.08867558921357765,
          0.5269614406224346,
          0.356275786244831,
          0.17016731530101203,
          0.2423048288125873,
          0.4111227209876712,
          0.14573547927966135,
          0.7691067452863537,
          0.6182783722870339,
          0.4553900130709443,
          0.9634798787242008,
          0.7268137882797039,
          0.9064672511679027,
          0.46720656865433974,
          0.8975690934048267,
          0.24765184509039917,
          0.4428287868918138,
          0.02656045645726124,
          0.2886780331635713,
          0.6309188505735734,
          0.07533692365640021,
          0.6373464490241852,
          0.9180593690729929,
          0.21320227699998107,
          0.6716488514003408,
          0.9862020477070677,
          0.5374153525740248,
          0.1659066591831575,
          0.178843512780963,
          0.007065448206866387,
          0.2495013400101137,
          0.5491518071463409,
          0.44950513382084123,
          0.8863120727005669,
          0.8263569615702878,
          0.9693353694169362,
          0.020163089922364374,
          0.1447071164960515,
          0.839401113193094,
          0.8753339851455629,
          0.2571436140350003,
          0.36053873689348304,
          0.36834777364157667,
          0.6914522835899672,
          0.9340058886272473,
          0.21628140051543754,
          0.03202002914769875,
          0.7425856641057595,
          0.40240770796636394,
          0.7486304917900775,
          0.7085745446496139,
          0.3792210339279678,
          0.7545593384713679,
          0.42385422697506614,
          0.3694510410095284,
          0.7195057782998479,
          0.92539638599149,
          0.4991726633008787,
          0.5411874808228686,
          0.07068192253094652,
          0.3594018608895382,
          0.20061653817673852,
          0.051699956979526784,
          0.7020406412986379,
          0.11538875720927677,
          0.6367916778061834,
          0.8661088182591468,
          0.17543672407091393,
          0.3898497090569648,
          0.7481925976798725,
          0.9861192368806755,
          0.9506440115659714,
          0.08403115679414075,
          0.5672796888648002,
          0.100405335077413,
          0.5668333698701895,
          0.7461272968353109,
          0.12330317300432292,
          0.5876052552420042,
          0.027220283105312437,
          0.8777367998451803,
          0.5403591790658719,
          0.384728723313121,
          0.035217680376770866,
          0.24708781226136767,
          0.1839268436538145,
          0.8144321283385751,
          0.9596911227012808
         ]
        },
        {
         "line": {
          "color": "rgba(55, 128, 191, 1.0)",
          "dash": "solid",
          "shape": "linear",
          "width": 1.3
         },
         "mode": "lines",
         "name": "b",
         "text": "",
         "type": "scatter",
         "x": [
          0,
          1,
          2,
          3,
          4,
          5,
          6,
          7,
          8,
          9,
          10,
          11,
          12,
          13,
          14,
          15,
          16,
          17,
          18,
          19,
          20,
          21,
          22,
          23,
          24,
          25,
          26,
          27,
          28,
          29,
          30,
          31,
          32,
          33,
          34,
          35,
          36,
          37,
          38,
          39,
          40,
          41,
          42,
          43,
          44,
          45,
          46,
          47,
          48,
          49,
          50,
          51,
          52,
          53,
          54,
          55,
          56,
          57,
          58,
          59,
          60,
          61,
          62,
          63,
          64,
          65,
          66,
          67,
          68,
          69,
          70,
          71,
          72,
          73,
          74,
          75,
          76,
          77,
          78,
          79,
          80,
          81,
          82,
          83,
          84,
          85,
          86,
          87,
          88,
          89,
          90,
          91,
          92,
          93,
          94,
          95,
          96,
          97,
          98,
          99
         ],
         "y": [
          0.909251239535944,
          0.8719807966046423,
          0.9263581725467491,
          0.5302357088005757,
          0.7160455499446902,
          0.11755981147160888,
          0.9243400802205453,
          0.6048310337209619,
          0.99848911627027,
          0.997818923010017,
          0.958715568880708,
          0.14470409741746926,
          0.32490655516882205,
          0.8259740691202068,
          0.5449674010652735,
          0.1179819340439443,
          0.6470803076640727,
          0.2371544001437944,
          0.3944147078093092,
          0.4553017979843986,
          0.6279575429476555,
          0.05722258804547986,
          0.8531392481614021,
          0.6052735062313108,
          0.271933660010758,
          0.44721239365275367,
          0.9309212413090223,
          0.19481999231733804,
          0.5477063581220064,
          0.17664460367893475,
          0.1479970311467077,
          0.2298546199156265,
          0.5846765046516161,
          0.8383754795729068,
          0.7385964840206619,
          0.32369168939120496,
          0.8086752919227206,
          0.2935415810630594,
          0.1009992474020679,
          0.5746206937317837,
          0.7464924845416215,
          0.9821924221253854,
          0.5979720756547672,
          0.4247219273881223,
          0.932846005920277,
          0.3678338350490642,
          0.01502406435085879,
          0.8231141056636773,
          0.3577245368455766,
          0.6429206757382323,
          0.5907511289623674,
          0.8707306829377549,
          0.6425281851509483,
          0.7852404369090897,
          0.006404843543884486,
          0.5495791221725458,
          0.5981302893634367,
          0.6925879522810264,
          0.8402415708910494,
          0.04064876137123341,
          0.3500904355095926,
          0.6336624538203731,
          0.7992231713719854,
          0.9031646404624668,
          0.4352182794736966,
          0.18222806430140004,
          0.607007928306649,
          0.8428862530174219,
          0.5703318693353945,
          0.640603890857624,
          0.29273746319372085,
          0.36274599719097755,
          0.8702770686839479,
          0.9492850513929987,
          0.5661295373744326,
          0.3851122958268606,
          0.684729733346108,
          0.9891947005226956,
          0.15362270036614767,
          0.82270042632811,
          0.2483082472919772,
          0.10956932064545177,
          0.223449153978462,
          0.6398654351478958,
          0.7769580602854608,
          0.2236671679809179,
          0.37151257431193796,
          0.9132297024351401,
          0.5072130284391141,
          0.7677028136188366,
          0.691500635465313,
          0.5360600096041178,
          0.05347991507119565,
          0.2973993960104748,
          0.8337169057872624,
          0.7521279691575821,
          0.29865293199106036,
          0.1982999248249404,
          0.5922575533056015,
          0.9106797400072707
         ]
        },
        {
         "line": {
          "color": "rgba(50, 171, 96, 1.0)",
          "dash": "solid",
          "shape": "linear",
          "width": 1.3
         },
         "mode": "lines",
         "name": "c",
         "text": "",
         "type": "scatter",
         "x": [
          0,
          1,
          2,
          3,
          4,
          5,
          6,
          7,
          8,
          9,
          10,
          11,
          12,
          13,
          14,
          15,
          16,
          17,
          18,
          19,
          20,
          21,
          22,
          23,
          24,
          25,
          26,
          27,
          28,
          29,
          30,
          31,
          32,
          33,
          34,
          35,
          36,
          37,
          38,
          39,
          40,
          41,
          42,
          43,
          44,
          45,
          46,
          47,
          48,
          49,
          50,
          51,
          52,
          53,
          54,
          55,
          56,
          57,
          58,
          59,
          60,
          61,
          62,
          63,
          64,
          65,
          66,
          67,
          68,
          69,
          70,
          71,
          72,
          73,
          74,
          75,
          76,
          77,
          78,
          79,
          80,
          81,
          82,
          83,
          84,
          85,
          86,
          87,
          88,
          89,
          90,
          91,
          92,
          93,
          94,
          95,
          96,
          97,
          98,
          99
         ],
         "y": [
          0.028247530405718813,
          0.17254928125419478,
          0.2652505659281773,
          0.300915666869782,
          0.6798722224305634,
          0.8898233871088354,
          0.5217951354887527,
          0.24141449926961267,
          0.15653422804448724,
          0.6365486633072993,
          0.7873746065410671,
          0.8651929712138772,
          0.039697077583567886,
          0.5888781791584565,
          0.7984769216247881,
          0.6504510929034076,
          0.9044772217551653,
          0.6722435587562038,
          0.9052412417291611,
          0.5951003858200249,
          0.20950964474254563,
          0.3036329869216313,
          0.4405318911552131,
          0.6123691515321473,
          0.7276327645537634,
          0.12276200611583055,
          0.618853820304931,
          0.33187483023194797,
          0.6865258255164624,
          0.4902218644127547,
          0.741654280248178,
          0.6811477892240396,
          0.6662007461991967,
          0.7453391453048279,
          0.4628463035373207,
          0.4258943945511554,
          0.9575594968342962,
          0.29503540497167824,
          0.06841229468835441,
          0.02290442522303371,
          0.4162955367255996,
          0.5878789166862862,
          0.10554884864698044,
          0.08936076452060349,
          0.23506294984165987,
          0.8688267950949355,
          0.6269605010088583,
          0.2056302974776516,
          0.585177556167756,
          0.42661994062798014,
          0.42276644355955006,
          0.9274649656993671,
          0.8418189579543383,
          0.5954033022235944,
          0.7422840250073004,
          0.9452141754276548,
          0.8096317534058268,
          0.16991464170038806,
          0.2920100533473614,
          0.4310015300294222,
          0.5641535812653017,
          0.7035896356548946,
          0.9141330880799917,
          0.562201462231937,
          0.4423891935193802,
          0.27082908014890483,
          0.900192408717217,
          0.16265313492545797,
          0.8531600193817881,
          0.3448570317110766,
          0.3924537195710327,
          0.08368833421256805,
          0.5124976574784178,
          0.544132489816705,
          0.18352720599421746,
          0.7698447487601368,
          0.5889712616335785,
          0.05234176610669916,
          0.12594190848665865,
          0.595200614110096,
          0.2747272613566645,
          0.9024111433420334,
          0.26502454927581953,
          0.8601604690161544,
          0.907980964776484,
          0.2050031352961732,
          0.6829555801797311,
          0.5140445113089126,
          0.13670119640066902,
          0.044945719007338236,
          0.23686775157864304,
          0.14804486145476115,
          0.46134266700362114,
          0.5048644968157823,
          0.9919162539770932,
          0.8465453511052655,
          0.6810505117526096,
          0.5776025131829987,
          0.44303877122874924,
          0.9686643816387196
         ]
        },
        {
         "line": {
          "color": "rgba(128, 0, 128, 1.0)",
          "dash": "solid",
          "shape": "linear",
          "width": 1.3
         },
         "mode": "lines",
         "name": "d",
         "text": "",
         "type": "scatter",
         "x": [
          0,
          1,
          2,
          3,
          4,
          5,
          6,
          7,
          8,
          9,
          10,
          11,
          12,
          13,
          14,
          15,
          16,
          17,
          18,
          19,
          20,
          21,
          22,
          23,
          24,
          25,
          26,
          27,
          28,
          29,
          30,
          31,
          32,
          33,
          34,
          35,
          36,
          37,
          38,
          39,
          40,
          41,
          42,
          43,
          44,
          45,
          46,
          47,
          48,
          49,
          50,
          51,
          52,
          53,
          54,
          55,
          56,
          57,
          58,
          59,
          60,
          61,
          62,
          63,
          64,
          65,
          66,
          67,
          68,
          69,
          70,
          71,
          72,
          73,
          74,
          75,
          76,
          77,
          78,
          79,
          80,
          81,
          82,
          83,
          84,
          85,
          86,
          87,
          88,
          89,
          90,
          91,
          92,
          93,
          94,
          95,
          96,
          97,
          98,
          99
         ],
         "y": [
          0.7345219193043514,
          0.7711839488532781,
          0.0011630468130858773,
          0.7022766516230197,
          0.44951567354397226,
          0.4774384305355811,
          0.2766281582621646,
          0.15878672985456455,
          0.20414892137287932,
          0.693750308229213,
          0.38564767730615235,
          0.4671664875678073,
          0.7189682929737438,
          0.4068657536297434,
          0.8817861565238685,
          0.06774856183294042,
          0.8989421281346855,
          0.4039517605510732,
          0.12328336157771558,
          0.6148393358172562,
          0.07598632949740824,
          0.542513494721236,
          0.5973748990221175,
          0.5080262555274183,
          0.9411259752532537,
          0.5601324771404306,
          0.7077516909500989,
          0.6166763427826241,
          0.19297294549089739,
          0.8105588769391002,
          0.8044884124543165,
          0.52215267141675,
          0.7530798952558982,
          0.2584242910102652,
          0.5983367864239825,
          0.2101533277599753,
          0.3112452669172848,
          0.7393889123479105,
          0.6102829873075877,
          0.3344097240534786,
          0.6733216434382594,
          0.5395935994808473,
          0.7727719461069077,
          0.5835532331904226,
          0.121887699780584,
          0.1010670265885153,
          0.44162292218376553,
          0.8289747482955978,
          0.40829678271135994,
          0.1962656711928744,
          0.02255394960013979,
          0.5833216272857848,
          0.332984470386263,
          0.043917742875064336,
          0.9616641740945793,
          0.8618964339778235,
          0.20162467432131015,
          0.9628462355864106,
          0.5756128292598139,
          0.5105831248393677,
          0.7598244527065962,
          0.876171584843563,
          0.23581932101815606,
          0.9595675147104846,
          0.17577489235714383,
          0.6271404645728633,
          0.6859546637422046,
          0.6174672903504578,
          0.20922442014580667,
          0.9245477679096562,
          0.9383061251713866,
          0.8105144958009091,
          0.4870516942849139,
          0.04120628519588865,
          0.7527104010093636,
          0.9195906502038192,
          0.8029859671342613,
          0.7601068154851309,
          0.38550426648644076,
          0.3470443741913536,
          0.6295942186048243,
          0.24160575286892638,
          0.525377332063438,
          0.9620574035437817,
          0.8497397715628359,
          0.698973885463429,
          0.3136128010275031,
          0.7235634590105477,
          0.4272261377514569,
          0.35248530379063003,
          0.7998311394615695,
          0.5506719328957519,
          0.9446275112853095,
          0.3412406755181805,
          0.3090585611377683,
          0.6667623520492086,
          0.13997194095156829,
          0.07183250433910404,
          0.04152188200734608,
          0.661792684814308
         ]
        },
        {
         "line": {
          "color": "rgba(219, 64, 82, 1.0)",
          "dash": "solid",
          "shape": "linear",
          "width": 1.3
         },
         "mode": "lines",
         "name": "e",
         "text": "",
         "type": "scatter",
         "x": [
          0,
          1,
          2,
          3,
          4,
          5,
          6,
          7,
          8,
          9,
          10,
          11,
          12,
          13,
          14,
          15,
          16,
          17,
          18,
          19,
          20,
          21,
          22,
          23,
          24,
          25,
          26,
          27,
          28,
          29,
          30,
          31,
          32,
          33,
          34,
          35,
          36,
          37,
          38,
          39,
          40,
          41,
          42,
          43,
          44,
          45,
          46,
          47,
          48,
          49,
          50,
          51,
          52,
          53,
          54,
          55,
          56,
          57,
          58,
          59,
          60,
          61,
          62,
          63,
          64,
          65,
          66,
          67,
          68,
          69,
          70,
          71,
          72,
          73,
          74,
          75,
          76,
          77,
          78,
          79,
          80,
          81,
          82,
          83,
          84,
          85,
          86,
          87,
          88,
          89,
          90,
          91,
          92,
          93,
          94,
          95,
          96,
          97,
          98,
          99
         ],
         "y": [
          0.8441482131459208,
          0.5216039062928214,
          0.576342971677043,
          0.7741677591462971,
          0.6814100715803433,
          0.33178129877319174,
          0.31305792368135366,
          0.6416326860462728,
          0.21174654489004874,
          0.07168130805911666,
          0.8527503773422891,
          0.7135067389490168,
          0.9524789039309994,
          0.690587235526413,
          0.4746464004519454,
          0.43038941033309785,
          0.4422841163996275,
          0.09878110050263589,
          0.7239585011249209,
          0.5404486483687883,
          0.9651437740351284,
          0.43054392640962347,
          0.8635136743263201,
          0.13408704364887503,
          0.3461777409085486,
          0.019081410274173094,
          0.03111167752563948,
          0.6069067569214917,
          0.643433968508191,
          0.6613391969205293,
          0.034956578247076875,
          0.495258701278673,
          0.7635526068157444,
          0.8442634968114576,
          0.7343999215040339,
          0.19485744431707075,
          0.6424333646211141,
          0.338614754092468,
          0.6189422763135657,
          0.9783676354242827,
          0.133241370369661,
          0.6612577289760788,
          0.2678089155657487,
          0.915803968158515,
          0.8271225204352407,
          0.16115970144253033,
          0.3398754216575508,
          0.2822252543440493,
          0.2611720970135324,
          0.8908629757686687,
          0.17590667717667474,
          0.9810671646522114,
          0.9207396261015776,
          0.5650920747677053,
          0.38123582058602534,
          0.10826123131207144,
          0.2681255339001105,
          0.927094588360067,
          0.144876098007235,
          0.8386009035185379,
          0.6835606346579665,
          0.045062012220492886,
          0.5534362186460304,
          0.380100323264952,
          0.9904044350352618,
          0.8531576354488493,
          0.6017908352006519,
          0.5135625012987498,
          0.39073368502768735,
          0.23844205479396896,
          0.5925873248782167,
          0.744334825411387,
          0.5103594953383878,
          0.19411218389176588,
          0.6422554278230251,
          0.7916288224552801,
          0.4243591642359438,
          0.2195410165699092,
          0.1320177104415925,
          0.962187610258314,
          0.8272062544227344,
          0.42358737806713465,
          0.5734254544562593,
          0.044196623265570945,
          0.4463720476249695,
          0.1563058570919923,
          0.47705691507475223,
          0.8367509594373888,
          0.37700569296598496,
          0.45854379304586546,
          0.9755985194540009,
          0.27465259141829823,
          0.6067032440484709,
          0.9738342209430678,
          0.22191534223739584,
          0.432340124525206,
          0.6540841633658616,
          0.8311086389337317,
          0.07090659257671827,
          0.8233577665582116
         ]
        }
       ],
       "layout": {
        "legend": {
         "bgcolor": "#F5F6F9",
         "font": {
          "color": "#4D5663"
         }
        },
        "paper_bgcolor": "#F5F6F9",
        "plot_bgcolor": "#F5F6F9",
        "template": {
         "data": {
          "bar": [
           {
            "error_x": {
             "color": "#2a3f5f"
            },
            "error_y": {
             "color": "#2a3f5f"
            },
            "marker": {
             "line": {
              "color": "#E5ECF6",
              "width": 0.5
             }
            },
            "type": "bar"
           }
          ],
          "barpolar": [
           {
            "marker": {
             "line": {
              "color": "#E5ECF6",
              "width": 0.5
             }
            },
            "type": "barpolar"
           }
          ],
          "carpet": [
           {
            "aaxis": {
             "endlinecolor": "#2a3f5f",
             "gridcolor": "white",
             "linecolor": "white",
             "minorgridcolor": "white",
             "startlinecolor": "#2a3f5f"
            },
            "baxis": {
             "endlinecolor": "#2a3f5f",
             "gridcolor": "white",
             "linecolor": "white",
             "minorgridcolor": "white",
             "startlinecolor": "#2a3f5f"
            },
            "type": "carpet"
           }
          ],
          "choropleth": [
           {
            "colorbar": {
             "outlinewidth": 0,
             "ticks": ""
            },
            "type": "choropleth"
           }
          ],
          "contour": [
           {
            "colorbar": {
             "outlinewidth": 0,
             "ticks": ""
            },
            "colorscale": [
             [
              0,
              "#0d0887"
             ],
             [
              0.1111111111111111,
              "#46039f"
             ],
             [
              0.2222222222222222,
              "#7201a8"
             ],
             [
              0.3333333333333333,
              "#9c179e"
             ],
             [
              0.4444444444444444,
              "#bd3786"
             ],
             [
              0.5555555555555556,
              "#d8576b"
             ],
             [
              0.6666666666666666,
              "#ed7953"
             ],
             [
              0.7777777777777778,
              "#fb9f3a"
             ],
             [
              0.8888888888888888,
              "#fdca26"
             ],
             [
              1,
              "#f0f921"
             ]
            ],
            "type": "contour"
           }
          ],
          "contourcarpet": [
           {
            "colorbar": {
             "outlinewidth": 0,
             "ticks": ""
            },
            "type": "contourcarpet"
           }
          ],
          "heatmap": [
           {
            "colorbar": {
             "outlinewidth": 0,
             "ticks": ""
            },
            "colorscale": [
             [
              0,
              "#0d0887"
             ],
             [
              0.1111111111111111,
              "#46039f"
             ],
             [
              0.2222222222222222,
              "#7201a8"
             ],
             [
              0.3333333333333333,
              "#9c179e"
             ],
             [
              0.4444444444444444,
              "#bd3786"
             ],
             [
              0.5555555555555556,
              "#d8576b"
             ],
             [
              0.6666666666666666,
              "#ed7953"
             ],
             [
              0.7777777777777778,
              "#fb9f3a"
             ],
             [
              0.8888888888888888,
              "#fdca26"
             ],
             [
              1,
              "#f0f921"
             ]
            ],
            "type": "heatmap"
           }
          ],
          "heatmapgl": [
           {
            "colorbar": {
             "outlinewidth": 0,
             "ticks": ""
            },
            "colorscale": [
             [
              0,
              "#0d0887"
             ],
             [
              0.1111111111111111,
              "#46039f"
             ],
             [
              0.2222222222222222,
              "#7201a8"
             ],
             [
              0.3333333333333333,
              "#9c179e"
             ],
             [
              0.4444444444444444,
              "#bd3786"
             ],
             [
              0.5555555555555556,
              "#d8576b"
             ],
             [
              0.6666666666666666,
              "#ed7953"
             ],
             [
              0.7777777777777778,
              "#fb9f3a"
             ],
             [
              0.8888888888888888,
              "#fdca26"
             ],
             [
              1,
              "#f0f921"
             ]
            ],
            "type": "heatmapgl"
           }
          ],
          "histogram": [
           {
            "marker": {
             "colorbar": {
              "outlinewidth": 0,
              "ticks": ""
             }
            },
            "type": "histogram"
           }
          ],
          "histogram2d": [
           {
            "colorbar": {
             "outlinewidth": 0,
             "ticks": ""
            },
            "colorscale": [
             [
              0,
              "#0d0887"
             ],
             [
              0.1111111111111111,
              "#46039f"
             ],
             [
              0.2222222222222222,
              "#7201a8"
             ],
             [
              0.3333333333333333,
              "#9c179e"
             ],
             [
              0.4444444444444444,
              "#bd3786"
             ],
             [
              0.5555555555555556,
              "#d8576b"
             ],
             [
              0.6666666666666666,
              "#ed7953"
             ],
             [
              0.7777777777777778,
              "#fb9f3a"
             ],
             [
              0.8888888888888888,
              "#fdca26"
             ],
             [
              1,
              "#f0f921"
             ]
            ],
            "type": "histogram2d"
           }
          ],
          "histogram2dcontour": [
           {
            "colorbar": {
             "outlinewidth": 0,
             "ticks": ""
            },
            "colorscale": [
             [
              0,
              "#0d0887"
             ],
             [
              0.1111111111111111,
              "#46039f"
             ],
             [
              0.2222222222222222,
              "#7201a8"
             ],
             [
              0.3333333333333333,
              "#9c179e"
             ],
             [
              0.4444444444444444,
              "#bd3786"
             ],
             [
              0.5555555555555556,
              "#d8576b"
             ],
             [
              0.6666666666666666,
              "#ed7953"
             ],
             [
              0.7777777777777778,
              "#fb9f3a"
             ],
             [
              0.8888888888888888,
              "#fdca26"
             ],
             [
              1,
              "#f0f921"
             ]
            ],
            "type": "histogram2dcontour"
           }
          ],
          "mesh3d": [
           {
            "colorbar": {
             "outlinewidth": 0,
             "ticks": ""
            },
            "type": "mesh3d"
           }
          ],
          "parcoords": [
           {
            "line": {
             "colorbar": {
              "outlinewidth": 0,
              "ticks": ""
             }
            },
            "type": "parcoords"
           }
          ],
          "pie": [
           {
            "automargin": true,
            "type": "pie"
           }
          ],
          "scatter": [
           {
            "marker": {
             "colorbar": {
              "outlinewidth": 0,
              "ticks": ""
             }
            },
            "type": "scatter"
           }
          ],
          "scatter3d": [
           {
            "line": {
             "colorbar": {
              "outlinewidth": 0,
              "ticks": ""
             }
            },
            "marker": {
             "colorbar": {
              "outlinewidth": 0,
              "ticks": ""
             }
            },
            "type": "scatter3d"
           }
          ],
          "scattercarpet": [
           {
            "marker": {
             "colorbar": {
              "outlinewidth": 0,
              "ticks": ""
             }
            },
            "type": "scattercarpet"
           }
          ],
          "scattergeo": [
           {
            "marker": {
             "colorbar": {
              "outlinewidth": 0,
              "ticks": ""
             }
            },
            "type": "scattergeo"
           }
          ],
          "scattergl": [
           {
            "marker": {
             "colorbar": {
              "outlinewidth": 0,
              "ticks": ""
             }
            },
            "type": "scattergl"
           }
          ],
          "scattermapbox": [
           {
            "marker": {
             "colorbar": {
              "outlinewidth": 0,
              "ticks": ""
             }
            },
            "type": "scattermapbox"
           }
          ],
          "scatterpolar": [
           {
            "marker": {
             "colorbar": {
              "outlinewidth": 0,
              "ticks": ""
             }
            },
            "type": "scatterpolar"
           }
          ],
          "scatterpolargl": [
           {
            "marker": {
             "colorbar": {
              "outlinewidth": 0,
              "ticks": ""
             }
            },
            "type": "scatterpolargl"
           }
          ],
          "scatterternary": [
           {
            "marker": {
             "colorbar": {
              "outlinewidth": 0,
              "ticks": ""
             }
            },
            "type": "scatterternary"
           }
          ],
          "surface": [
           {
            "colorbar": {
             "outlinewidth": 0,
             "ticks": ""
            },
            "colorscale": [
             [
              0,
              "#0d0887"
             ],
             [
              0.1111111111111111,
              "#46039f"
             ],
             [
              0.2222222222222222,
              "#7201a8"
             ],
             [
              0.3333333333333333,
              "#9c179e"
             ],
             [
              0.4444444444444444,
              "#bd3786"
             ],
             [
              0.5555555555555556,
              "#d8576b"
             ],
             [
              0.6666666666666666,
              "#ed7953"
             ],
             [
              0.7777777777777778,
              "#fb9f3a"
             ],
             [
              0.8888888888888888,
              "#fdca26"
             ],
             [
              1,
              "#f0f921"
             ]
            ],
            "type": "surface"
           }
          ],
          "table": [
           {
            "cells": {
             "fill": {
              "color": "#EBF0F8"
             },
             "line": {
              "color": "white"
             }
            },
            "header": {
             "fill": {
              "color": "#C8D4E3"
             },
             "line": {
              "color": "white"
             }
            },
            "type": "table"
           }
          ]
         },
         "layout": {
          "annotationdefaults": {
           "arrowcolor": "#2a3f5f",
           "arrowhead": 0,
           "arrowwidth": 1
          },
          "autotypenumbers": "strict",
          "coloraxis": {
           "colorbar": {
            "outlinewidth": 0,
            "ticks": ""
           }
          },
          "colorscale": {
           "diverging": [
            [
             0,
             "#8e0152"
            ],
            [
             0.1,
             "#c51b7d"
            ],
            [
             0.2,
             "#de77ae"
            ],
            [
             0.3,
             "#f1b6da"
            ],
            [
             0.4,
             "#fde0ef"
            ],
            [
             0.5,
             "#f7f7f7"
            ],
            [
             0.6,
             "#e6f5d0"
            ],
            [
             0.7,
             "#b8e186"
            ],
            [
             0.8,
             "#7fbc41"
            ],
            [
             0.9,
             "#4d9221"
            ],
            [
             1,
             "#276419"
            ]
           ],
           "sequential": [
            [
             0,
             "#0d0887"
            ],
            [
             0.1111111111111111,
             "#46039f"
            ],
            [
             0.2222222222222222,
             "#7201a8"
            ],
            [
             0.3333333333333333,
             "#9c179e"
            ],
            [
             0.4444444444444444,
             "#bd3786"
            ],
            [
             0.5555555555555556,
             "#d8576b"
            ],
            [
             0.6666666666666666,
             "#ed7953"
            ],
            [
             0.7777777777777778,
             "#fb9f3a"
            ],
            [
             0.8888888888888888,
             "#fdca26"
            ],
            [
             1,
             "#f0f921"
            ]
           ],
           "sequentialminus": [
            [
             0,
             "#0d0887"
            ],
            [
             0.1111111111111111,
             "#46039f"
            ],
            [
             0.2222222222222222,
             "#7201a8"
            ],
            [
             0.3333333333333333,
             "#9c179e"
            ],
            [
             0.4444444444444444,
             "#bd3786"
            ],
            [
             0.5555555555555556,
             "#d8576b"
            ],
            [
             0.6666666666666666,
             "#ed7953"
            ],
            [
             0.7777777777777778,
             "#fb9f3a"
            ],
            [
             0.8888888888888888,
             "#fdca26"
            ],
            [
             1,
             "#f0f921"
            ]
           ]
          },
          "colorway": [
           "#636efa",
           "#EF553B",
           "#00cc96",
           "#ab63fa",
           "#FFA15A",
           "#19d3f3",
           "#FF6692",
           "#B6E880",
           "#FF97FF",
           "#FECB52"
          ],
          "font": {
           "color": "#2a3f5f"
          },
          "geo": {
           "bgcolor": "white",
           "lakecolor": "white",
           "landcolor": "#E5ECF6",
           "showlakes": true,
           "showland": true,
           "subunitcolor": "white"
          },
          "hoverlabel": {
           "align": "left"
          },
          "hovermode": "closest",
          "mapbox": {
           "style": "light"
          },
          "paper_bgcolor": "white",
          "plot_bgcolor": "#E5ECF6",
          "polar": {
           "angularaxis": {
            "gridcolor": "white",
            "linecolor": "white",
            "ticks": ""
           },
           "bgcolor": "#E5ECF6",
           "radialaxis": {
            "gridcolor": "white",
            "linecolor": "white",
            "ticks": ""
           }
          },
          "scene": {
           "xaxis": {
            "backgroundcolor": "#E5ECF6",
            "gridcolor": "white",
            "gridwidth": 2,
            "linecolor": "white",
            "showbackground": true,
            "ticks": "",
            "zerolinecolor": "white"
           },
           "yaxis": {
            "backgroundcolor": "#E5ECF6",
            "gridcolor": "white",
            "gridwidth": 2,
            "linecolor": "white",
            "showbackground": true,
            "ticks": "",
            "zerolinecolor": "white"
           },
           "zaxis": {
            "backgroundcolor": "#E5ECF6",
            "gridcolor": "white",
            "gridwidth": 2,
            "linecolor": "white",
            "showbackground": true,
            "ticks": "",
            "zerolinecolor": "white"
           }
          },
          "shapedefaults": {
           "line": {
            "color": "#2a3f5f"
           }
          },
          "ternary": {
           "aaxis": {
            "gridcolor": "white",
            "linecolor": "white",
            "ticks": ""
           },
           "baxis": {
            "gridcolor": "white",
            "linecolor": "white",
            "ticks": ""
           },
           "bgcolor": "#E5ECF6",
           "caxis": {
            "gridcolor": "white",
            "linecolor": "white",
            "ticks": ""
           }
          },
          "title": {
           "x": 0.05
          },
          "xaxis": {
           "automargin": true,
           "gridcolor": "white",
           "linecolor": "white",
           "ticks": "",
           "title": {
            "standoff": 15
           },
           "zerolinecolor": "white",
           "zerolinewidth": 2
          },
          "yaxis": {
           "automargin": true,
           "gridcolor": "white",
           "linecolor": "white",
           "ticks": "",
           "title": {
            "standoff": 15
           },
           "zerolinecolor": "white",
           "zerolinewidth": 2
          }
         }
        },
        "title": {
         "font": {
          "color": "#4D5663"
         }
        },
        "xaxis": {
         "gridcolor": "#E1E5ED",
         "showgrid": true,
         "tickfont": {
          "color": "#4D5663"
         },
         "title": {
          "font": {
           "color": "#4D5663"
          },
          "text": ""
         },
         "zerolinecolor": "#E1E5ED"
        },
        "yaxis": {
         "gridcolor": "#E1E5ED",
         "showgrid": true,
         "tickfont": {
          "color": "#4D5663"
         },
         "title": {
          "font": {
           "color": "#4D5663"
          },
          "text": ""
         },
         "zerolinecolor": "#E1E5ED"
        }
       }
      },
      "text/html": [
       "<div>                            <div id=\"18e78aea-16aa-4e2b-b49f-2f40c84c684a\" class=\"plotly-graph-div\" style=\"height:525px; width:100%;\"></div>            <script type=\"text/javascript\">                require([\"plotly\"], function(Plotly) {                    window.PLOTLYENV=window.PLOTLYENV || {};\n",
       "                    window.PLOTLYENV.BASE_URL='https://plot.ly';                                    if (document.getElementById(\"18e78aea-16aa-4e2b-b49f-2f40c84c684a\")) {                    Plotly.newPlot(                        \"18e78aea-16aa-4e2b-b49f-2f40c84c684a\",                        [{\"line\": {\"color\": \"rgba(255, 153, 51, 1.0)\", \"dash\": \"solid\", \"shape\": \"linear\", \"width\": 1.3}, \"mode\": \"lines\", \"name\": \"a\", \"text\": \"\", \"type\": \"scatter\", \"x\": [0, 1, 2, 3, 4, 5, 6, 7, 8, 9, 10, 11, 12, 13, 14, 15, 16, 17, 18, 19, 20, 21, 22, 23, 24, 25, 26, 27, 28, 29, 30, 31, 32, 33, 34, 35, 36, 37, 38, 39, 40, 41, 42, 43, 44, 45, 46, 47, 48, 49, 50, 51, 52, 53, 54, 55, 56, 57, 58, 59, 60, 61, 62, 63, 64, 65, 66, 67, 68, 69, 70, 71, 72, 73, 74, 75, 76, 77, 78, 79, 80, 81, 82, 83, 84, 85, 86, 87, 88, 89, 90, 91, 92, 93, 94, 95, 96, 97, 98, 99], \"y\": [0.31441513431481705, 0.757834543337892, 0.7742631153157491, 0.2504749726759551, 0.8620110639932879, 0.09461017156051088, 0.2431385930413701, 0.49302985151321654, 0.4352595632960975, 0.7038578030179201, 0.8763487875848481, 0.7339318188327008, 0.08867558921357765, 0.5269614406224346, 0.356275786244831, 0.17016731530101203, 0.2423048288125873, 0.4111227209876712, 0.14573547927966135, 0.7691067452863537, 0.6182783722870339, 0.4553900130709443, 0.9634798787242008, 0.7268137882797039, 0.9064672511679027, 0.46720656865433974, 0.8975690934048267, 0.24765184509039917, 0.4428287868918138, 0.02656045645726124, 0.2886780331635713, 0.6309188505735734, 0.07533692365640021, 0.6373464490241852, 0.9180593690729929, 0.21320227699998107, 0.6716488514003408, 0.9862020477070677, 0.5374153525740248, 0.1659066591831575, 0.178843512780963, 0.007065448206866387, 0.2495013400101137, 0.5491518071463409, 0.44950513382084123, 0.8863120727005669, 0.8263569615702878, 0.9693353694169362, 0.020163089922364374, 0.1447071164960515, 0.839401113193094, 0.8753339851455629, 0.2571436140350003, 0.36053873689348304, 0.36834777364157667, 0.6914522835899672, 0.9340058886272473, 0.21628140051543754, 0.03202002914769875, 0.7425856641057595, 0.40240770796636394, 0.7486304917900775, 0.7085745446496139, 0.3792210339279678, 0.7545593384713679, 0.42385422697506614, 0.3694510410095284, 0.7195057782998479, 0.92539638599149, 0.4991726633008787, 0.5411874808228686, 0.07068192253094652, 0.3594018608895382, 0.20061653817673852, 0.051699956979526784, 0.7020406412986379, 0.11538875720927677, 0.6367916778061834, 0.8661088182591468, 0.17543672407091393, 0.3898497090569648, 0.7481925976798725, 0.9861192368806755, 0.9506440115659714, 0.08403115679414075, 0.5672796888648002, 0.100405335077413, 0.5668333698701895, 0.7461272968353109, 0.12330317300432292, 0.5876052552420042, 0.027220283105312437, 0.8777367998451803, 0.5403591790658719, 0.384728723313121, 0.035217680376770866, 0.24708781226136767, 0.1839268436538145, 0.8144321283385751, 0.9596911227012808]}, {\"line\": {\"color\": \"rgba(55, 128, 191, 1.0)\", \"dash\": \"solid\", \"shape\": \"linear\", \"width\": 1.3}, \"mode\": \"lines\", \"name\": \"b\", \"text\": \"\", \"type\": \"scatter\", \"x\": [0, 1, 2, 3, 4, 5, 6, 7, 8, 9, 10, 11, 12, 13, 14, 15, 16, 17, 18, 19, 20, 21, 22, 23, 24, 25, 26, 27, 28, 29, 30, 31, 32, 33, 34, 35, 36, 37, 38, 39, 40, 41, 42, 43, 44, 45, 46, 47, 48, 49, 50, 51, 52, 53, 54, 55, 56, 57, 58, 59, 60, 61, 62, 63, 64, 65, 66, 67, 68, 69, 70, 71, 72, 73, 74, 75, 76, 77, 78, 79, 80, 81, 82, 83, 84, 85, 86, 87, 88, 89, 90, 91, 92, 93, 94, 95, 96, 97, 98, 99], \"y\": [0.909251239535944, 0.8719807966046423, 0.9263581725467491, 0.5302357088005757, 0.7160455499446902, 0.11755981147160888, 0.9243400802205453, 0.6048310337209619, 0.99848911627027, 0.997818923010017, 0.958715568880708, 0.14470409741746926, 0.32490655516882205, 0.8259740691202068, 0.5449674010652735, 0.1179819340439443, 0.6470803076640727, 0.2371544001437944, 0.3944147078093092, 0.4553017979843986, 0.6279575429476555, 0.05722258804547986, 0.8531392481614021, 0.6052735062313108, 0.271933660010758, 0.44721239365275367, 0.9309212413090223, 0.19481999231733804, 0.5477063581220064, 0.17664460367893475, 0.1479970311467077, 0.2298546199156265, 0.5846765046516161, 0.8383754795729068, 0.7385964840206619, 0.32369168939120496, 0.8086752919227206, 0.2935415810630594, 0.1009992474020679, 0.5746206937317837, 0.7464924845416215, 0.9821924221253854, 0.5979720756547672, 0.4247219273881223, 0.932846005920277, 0.3678338350490642, 0.01502406435085879, 0.8231141056636773, 0.3577245368455766, 0.6429206757382323, 0.5907511289623674, 0.8707306829377549, 0.6425281851509483, 0.7852404369090897, 0.006404843543884486, 0.5495791221725458, 0.5981302893634367, 0.6925879522810264, 0.8402415708910494, 0.04064876137123341, 0.3500904355095926, 0.6336624538203731, 0.7992231713719854, 0.9031646404624668, 0.4352182794736966, 0.18222806430140004, 0.607007928306649, 0.8428862530174219, 0.5703318693353945, 0.640603890857624, 0.29273746319372085, 0.36274599719097755, 0.8702770686839479, 0.9492850513929987, 0.5661295373744326, 0.3851122958268606, 0.684729733346108, 0.9891947005226956, 0.15362270036614767, 0.82270042632811, 0.2483082472919772, 0.10956932064545177, 0.223449153978462, 0.6398654351478958, 0.7769580602854608, 0.2236671679809179, 0.37151257431193796, 0.9132297024351401, 0.5072130284391141, 0.7677028136188366, 0.691500635465313, 0.5360600096041178, 0.05347991507119565, 0.2973993960104748, 0.8337169057872624, 0.7521279691575821, 0.29865293199106036, 0.1982999248249404, 0.5922575533056015, 0.9106797400072707]}, {\"line\": {\"color\": \"rgba(50, 171, 96, 1.0)\", \"dash\": \"solid\", \"shape\": \"linear\", \"width\": 1.3}, \"mode\": \"lines\", \"name\": \"c\", \"text\": \"\", \"type\": \"scatter\", \"x\": [0, 1, 2, 3, 4, 5, 6, 7, 8, 9, 10, 11, 12, 13, 14, 15, 16, 17, 18, 19, 20, 21, 22, 23, 24, 25, 26, 27, 28, 29, 30, 31, 32, 33, 34, 35, 36, 37, 38, 39, 40, 41, 42, 43, 44, 45, 46, 47, 48, 49, 50, 51, 52, 53, 54, 55, 56, 57, 58, 59, 60, 61, 62, 63, 64, 65, 66, 67, 68, 69, 70, 71, 72, 73, 74, 75, 76, 77, 78, 79, 80, 81, 82, 83, 84, 85, 86, 87, 88, 89, 90, 91, 92, 93, 94, 95, 96, 97, 98, 99], \"y\": [0.028247530405718813, 0.17254928125419478, 0.2652505659281773, 0.300915666869782, 0.6798722224305634, 0.8898233871088354, 0.5217951354887527, 0.24141449926961267, 0.15653422804448724, 0.6365486633072993, 0.7873746065410671, 0.8651929712138772, 0.039697077583567886, 0.5888781791584565, 0.7984769216247881, 0.6504510929034076, 0.9044772217551653, 0.6722435587562038, 0.9052412417291611, 0.5951003858200249, 0.20950964474254563, 0.3036329869216313, 0.4405318911552131, 0.6123691515321473, 0.7276327645537634, 0.12276200611583055, 0.618853820304931, 0.33187483023194797, 0.6865258255164624, 0.4902218644127547, 0.741654280248178, 0.6811477892240396, 0.6662007461991967, 0.7453391453048279, 0.4628463035373207, 0.4258943945511554, 0.9575594968342962, 0.29503540497167824, 0.06841229468835441, 0.02290442522303371, 0.4162955367255996, 0.5878789166862862, 0.10554884864698044, 0.08936076452060349, 0.23506294984165987, 0.8688267950949355, 0.6269605010088583, 0.2056302974776516, 0.585177556167756, 0.42661994062798014, 0.42276644355955006, 0.9274649656993671, 0.8418189579543383, 0.5954033022235944, 0.7422840250073004, 0.9452141754276548, 0.8096317534058268, 0.16991464170038806, 0.2920100533473614, 0.4310015300294222, 0.5641535812653017, 0.7035896356548946, 0.9141330880799917, 0.562201462231937, 0.4423891935193802, 0.27082908014890483, 0.900192408717217, 0.16265313492545797, 0.8531600193817881, 0.3448570317110766, 0.3924537195710327, 0.08368833421256805, 0.5124976574784178, 0.544132489816705, 0.18352720599421746, 0.7698447487601368, 0.5889712616335785, 0.05234176610669916, 0.12594190848665865, 0.595200614110096, 0.2747272613566645, 0.9024111433420334, 0.26502454927581953, 0.8601604690161544, 0.907980964776484, 0.2050031352961732, 0.6829555801797311, 0.5140445113089126, 0.13670119640066902, 0.044945719007338236, 0.23686775157864304, 0.14804486145476115, 0.46134266700362114, 0.5048644968157823, 0.9919162539770932, 0.8465453511052655, 0.6810505117526096, 0.5776025131829987, 0.44303877122874924, 0.9686643816387196]}, {\"line\": {\"color\": \"rgba(128, 0, 128, 1.0)\", \"dash\": \"solid\", \"shape\": \"linear\", \"width\": 1.3}, \"mode\": \"lines\", \"name\": \"d\", \"text\": \"\", \"type\": \"scatter\", \"x\": [0, 1, 2, 3, 4, 5, 6, 7, 8, 9, 10, 11, 12, 13, 14, 15, 16, 17, 18, 19, 20, 21, 22, 23, 24, 25, 26, 27, 28, 29, 30, 31, 32, 33, 34, 35, 36, 37, 38, 39, 40, 41, 42, 43, 44, 45, 46, 47, 48, 49, 50, 51, 52, 53, 54, 55, 56, 57, 58, 59, 60, 61, 62, 63, 64, 65, 66, 67, 68, 69, 70, 71, 72, 73, 74, 75, 76, 77, 78, 79, 80, 81, 82, 83, 84, 85, 86, 87, 88, 89, 90, 91, 92, 93, 94, 95, 96, 97, 98, 99], \"y\": [0.7345219193043514, 0.7711839488532781, 0.0011630468130858773, 0.7022766516230197, 0.44951567354397226, 0.4774384305355811, 0.2766281582621646, 0.15878672985456455, 0.20414892137287932, 0.693750308229213, 0.38564767730615235, 0.4671664875678073, 0.7189682929737438, 0.4068657536297434, 0.8817861565238685, 0.06774856183294042, 0.8989421281346855, 0.4039517605510732, 0.12328336157771558, 0.6148393358172562, 0.07598632949740824, 0.542513494721236, 0.5973748990221175, 0.5080262555274183, 0.9411259752532537, 0.5601324771404306, 0.7077516909500989, 0.6166763427826241, 0.19297294549089739, 0.8105588769391002, 0.8044884124543165, 0.52215267141675, 0.7530798952558982, 0.2584242910102652, 0.5983367864239825, 0.2101533277599753, 0.3112452669172848, 0.7393889123479105, 0.6102829873075877, 0.3344097240534786, 0.6733216434382594, 0.5395935994808473, 0.7727719461069077, 0.5835532331904226, 0.121887699780584, 0.1010670265885153, 0.44162292218376553, 0.8289747482955978, 0.40829678271135994, 0.1962656711928744, 0.02255394960013979, 0.5833216272857848, 0.332984470386263, 0.043917742875064336, 0.9616641740945793, 0.8618964339778235, 0.20162467432131015, 0.9628462355864106, 0.5756128292598139, 0.5105831248393677, 0.7598244527065962, 0.876171584843563, 0.23581932101815606, 0.9595675147104846, 0.17577489235714383, 0.6271404645728633, 0.6859546637422046, 0.6174672903504578, 0.20922442014580667, 0.9245477679096562, 0.9383061251713866, 0.8105144958009091, 0.4870516942849139, 0.04120628519588865, 0.7527104010093636, 0.9195906502038192, 0.8029859671342613, 0.7601068154851309, 0.38550426648644076, 0.3470443741913536, 0.6295942186048243, 0.24160575286892638, 0.525377332063438, 0.9620574035437817, 0.8497397715628359, 0.698973885463429, 0.3136128010275031, 0.7235634590105477, 0.4272261377514569, 0.35248530379063003, 0.7998311394615695, 0.5506719328957519, 0.9446275112853095, 0.3412406755181805, 0.3090585611377683, 0.6667623520492086, 0.13997194095156829, 0.07183250433910404, 0.04152188200734608, 0.661792684814308]}, {\"line\": {\"color\": \"rgba(219, 64, 82, 1.0)\", \"dash\": \"solid\", \"shape\": \"linear\", \"width\": 1.3}, \"mode\": \"lines\", \"name\": \"e\", \"text\": \"\", \"type\": \"scatter\", \"x\": [0, 1, 2, 3, 4, 5, 6, 7, 8, 9, 10, 11, 12, 13, 14, 15, 16, 17, 18, 19, 20, 21, 22, 23, 24, 25, 26, 27, 28, 29, 30, 31, 32, 33, 34, 35, 36, 37, 38, 39, 40, 41, 42, 43, 44, 45, 46, 47, 48, 49, 50, 51, 52, 53, 54, 55, 56, 57, 58, 59, 60, 61, 62, 63, 64, 65, 66, 67, 68, 69, 70, 71, 72, 73, 74, 75, 76, 77, 78, 79, 80, 81, 82, 83, 84, 85, 86, 87, 88, 89, 90, 91, 92, 93, 94, 95, 96, 97, 98, 99], \"y\": [0.8441482131459208, 0.5216039062928214, 0.576342971677043, 0.7741677591462971, 0.6814100715803433, 0.33178129877319174, 0.31305792368135366, 0.6416326860462728, 0.21174654489004874, 0.07168130805911666, 0.8527503773422891, 0.7135067389490168, 0.9524789039309994, 0.690587235526413, 0.4746464004519454, 0.43038941033309785, 0.4422841163996275, 0.09878110050263589, 0.7239585011249209, 0.5404486483687883, 0.9651437740351284, 0.43054392640962347, 0.8635136743263201, 0.13408704364887503, 0.3461777409085486, 0.019081410274173094, 0.03111167752563948, 0.6069067569214917, 0.643433968508191, 0.6613391969205293, 0.034956578247076875, 0.495258701278673, 0.7635526068157444, 0.8442634968114576, 0.7343999215040339, 0.19485744431707075, 0.6424333646211141, 0.338614754092468, 0.6189422763135657, 0.9783676354242827, 0.133241370369661, 0.6612577289760788, 0.2678089155657487, 0.915803968158515, 0.8271225204352407, 0.16115970144253033, 0.3398754216575508, 0.2822252543440493, 0.2611720970135324, 0.8908629757686687, 0.17590667717667474, 0.9810671646522114, 0.9207396261015776, 0.5650920747677053, 0.38123582058602534, 0.10826123131207144, 0.2681255339001105, 0.927094588360067, 0.144876098007235, 0.8386009035185379, 0.6835606346579665, 0.045062012220492886, 0.5534362186460304, 0.380100323264952, 0.9904044350352618, 0.8531576354488493, 0.6017908352006519, 0.5135625012987498, 0.39073368502768735, 0.23844205479396896, 0.5925873248782167, 0.744334825411387, 0.5103594953383878, 0.19411218389176588, 0.6422554278230251, 0.7916288224552801, 0.4243591642359438, 0.2195410165699092, 0.1320177104415925, 0.962187610258314, 0.8272062544227344, 0.42358737806713465, 0.5734254544562593, 0.044196623265570945, 0.4463720476249695, 0.1563058570919923, 0.47705691507475223, 0.8367509594373888, 0.37700569296598496, 0.45854379304586546, 0.9755985194540009, 0.27465259141829823, 0.6067032440484709, 0.9738342209430678, 0.22191534223739584, 0.432340124525206, 0.6540841633658616, 0.8311086389337317, 0.07090659257671827, 0.8233577665582116]}],                        {\"legend\": {\"bgcolor\": \"#F5F6F9\", \"font\": {\"color\": \"#4D5663\"}}, \"paper_bgcolor\": \"#F5F6F9\", \"plot_bgcolor\": \"#F5F6F9\", \"template\": {\"data\": {\"bar\": [{\"error_x\": {\"color\": \"#2a3f5f\"}, \"error_y\": {\"color\": \"#2a3f5f\"}, \"marker\": {\"line\": {\"color\": \"#E5ECF6\", \"width\": 0.5}}, \"type\": \"bar\"}], \"barpolar\": [{\"marker\": {\"line\": {\"color\": \"#E5ECF6\", \"width\": 0.5}}, \"type\": \"barpolar\"}], \"carpet\": [{\"aaxis\": {\"endlinecolor\": \"#2a3f5f\", \"gridcolor\": \"white\", \"linecolor\": \"white\", \"minorgridcolor\": \"white\", \"startlinecolor\": \"#2a3f5f\"}, \"baxis\": {\"endlinecolor\": \"#2a3f5f\", \"gridcolor\": \"white\", \"linecolor\": \"white\", \"minorgridcolor\": \"white\", \"startlinecolor\": \"#2a3f5f\"}, \"type\": \"carpet\"}], \"choropleth\": [{\"colorbar\": {\"outlinewidth\": 0, \"ticks\": \"\"}, \"type\": \"choropleth\"}], \"contour\": [{\"colorbar\": {\"outlinewidth\": 0, \"ticks\": \"\"}, \"colorscale\": [[0.0, \"#0d0887\"], [0.1111111111111111, \"#46039f\"], [0.2222222222222222, \"#7201a8\"], [0.3333333333333333, \"#9c179e\"], [0.4444444444444444, \"#bd3786\"], [0.5555555555555556, \"#d8576b\"], [0.6666666666666666, \"#ed7953\"], [0.7777777777777778, \"#fb9f3a\"], [0.8888888888888888, \"#fdca26\"], [1.0, \"#f0f921\"]], \"type\": \"contour\"}], \"contourcarpet\": [{\"colorbar\": {\"outlinewidth\": 0, \"ticks\": \"\"}, \"type\": \"contourcarpet\"}], \"heatmap\": [{\"colorbar\": {\"outlinewidth\": 0, \"ticks\": \"\"}, \"colorscale\": [[0.0, \"#0d0887\"], [0.1111111111111111, \"#46039f\"], [0.2222222222222222, \"#7201a8\"], [0.3333333333333333, \"#9c179e\"], [0.4444444444444444, \"#bd3786\"], [0.5555555555555556, \"#d8576b\"], [0.6666666666666666, \"#ed7953\"], [0.7777777777777778, \"#fb9f3a\"], [0.8888888888888888, \"#fdca26\"], [1.0, \"#f0f921\"]], \"type\": \"heatmap\"}], \"heatmapgl\": [{\"colorbar\": {\"outlinewidth\": 0, \"ticks\": \"\"}, \"colorscale\": [[0.0, \"#0d0887\"], [0.1111111111111111, \"#46039f\"], [0.2222222222222222, \"#7201a8\"], [0.3333333333333333, \"#9c179e\"], [0.4444444444444444, \"#bd3786\"], [0.5555555555555556, \"#d8576b\"], [0.6666666666666666, \"#ed7953\"], [0.7777777777777778, \"#fb9f3a\"], [0.8888888888888888, \"#fdca26\"], [1.0, \"#f0f921\"]], \"type\": \"heatmapgl\"}], \"histogram\": [{\"marker\": {\"colorbar\": {\"outlinewidth\": 0, \"ticks\": \"\"}}, \"type\": \"histogram\"}], \"histogram2d\": [{\"colorbar\": {\"outlinewidth\": 0, \"ticks\": \"\"}, \"colorscale\": [[0.0, \"#0d0887\"], [0.1111111111111111, \"#46039f\"], [0.2222222222222222, \"#7201a8\"], [0.3333333333333333, \"#9c179e\"], [0.4444444444444444, \"#bd3786\"], [0.5555555555555556, \"#d8576b\"], [0.6666666666666666, \"#ed7953\"], [0.7777777777777778, \"#fb9f3a\"], [0.8888888888888888, \"#fdca26\"], [1.0, \"#f0f921\"]], \"type\": \"histogram2d\"}], \"histogram2dcontour\": [{\"colorbar\": {\"outlinewidth\": 0, \"ticks\": \"\"}, \"colorscale\": [[0.0, \"#0d0887\"], [0.1111111111111111, \"#46039f\"], [0.2222222222222222, \"#7201a8\"], [0.3333333333333333, \"#9c179e\"], [0.4444444444444444, \"#bd3786\"], [0.5555555555555556, \"#d8576b\"], [0.6666666666666666, \"#ed7953\"], [0.7777777777777778, \"#fb9f3a\"], [0.8888888888888888, \"#fdca26\"], [1.0, \"#f0f921\"]], \"type\": \"histogram2dcontour\"}], \"mesh3d\": [{\"colorbar\": {\"outlinewidth\": 0, \"ticks\": \"\"}, \"type\": \"mesh3d\"}], \"parcoords\": [{\"line\": {\"colorbar\": {\"outlinewidth\": 0, \"ticks\": \"\"}}, \"type\": \"parcoords\"}], \"pie\": [{\"automargin\": true, \"type\": \"pie\"}], \"scatter\": [{\"marker\": {\"colorbar\": {\"outlinewidth\": 0, \"ticks\": \"\"}}, \"type\": \"scatter\"}], \"scatter3d\": [{\"line\": {\"colorbar\": {\"outlinewidth\": 0, \"ticks\": \"\"}}, \"marker\": {\"colorbar\": {\"outlinewidth\": 0, \"ticks\": \"\"}}, \"type\": \"scatter3d\"}], \"scattercarpet\": [{\"marker\": {\"colorbar\": {\"outlinewidth\": 0, \"ticks\": \"\"}}, \"type\": \"scattercarpet\"}], \"scattergeo\": [{\"marker\": {\"colorbar\": {\"outlinewidth\": 0, \"ticks\": \"\"}}, \"type\": \"scattergeo\"}], \"scattergl\": [{\"marker\": {\"colorbar\": {\"outlinewidth\": 0, \"ticks\": \"\"}}, \"type\": \"scattergl\"}], \"scattermapbox\": [{\"marker\": {\"colorbar\": {\"outlinewidth\": 0, \"ticks\": \"\"}}, \"type\": \"scattermapbox\"}], \"scatterpolar\": [{\"marker\": {\"colorbar\": {\"outlinewidth\": 0, \"ticks\": \"\"}}, \"type\": \"scatterpolar\"}], \"scatterpolargl\": [{\"marker\": {\"colorbar\": {\"outlinewidth\": 0, \"ticks\": \"\"}}, \"type\": \"scatterpolargl\"}], \"scatterternary\": [{\"marker\": {\"colorbar\": {\"outlinewidth\": 0, \"ticks\": \"\"}}, \"type\": \"scatterternary\"}], \"surface\": [{\"colorbar\": {\"outlinewidth\": 0, \"ticks\": \"\"}, \"colorscale\": [[0.0, \"#0d0887\"], [0.1111111111111111, \"#46039f\"], [0.2222222222222222, \"#7201a8\"], [0.3333333333333333, \"#9c179e\"], [0.4444444444444444, \"#bd3786\"], [0.5555555555555556, \"#d8576b\"], [0.6666666666666666, \"#ed7953\"], [0.7777777777777778, \"#fb9f3a\"], [0.8888888888888888, \"#fdca26\"], [1.0, \"#f0f921\"]], \"type\": \"surface\"}], \"table\": [{\"cells\": {\"fill\": {\"color\": \"#EBF0F8\"}, \"line\": {\"color\": \"white\"}}, \"header\": {\"fill\": {\"color\": \"#C8D4E3\"}, \"line\": {\"color\": \"white\"}}, \"type\": \"table\"}]}, \"layout\": {\"annotationdefaults\": {\"arrowcolor\": \"#2a3f5f\", \"arrowhead\": 0, \"arrowwidth\": 1}, \"autotypenumbers\": \"strict\", \"coloraxis\": {\"colorbar\": {\"outlinewidth\": 0, \"ticks\": \"\"}}, \"colorscale\": {\"diverging\": [[0, \"#8e0152\"], [0.1, \"#c51b7d\"], [0.2, \"#de77ae\"], [0.3, \"#f1b6da\"], [0.4, \"#fde0ef\"], [0.5, \"#f7f7f7\"], [0.6, \"#e6f5d0\"], [0.7, \"#b8e186\"], [0.8, \"#7fbc41\"], [0.9, \"#4d9221\"], [1, \"#276419\"]], \"sequential\": [[0.0, \"#0d0887\"], [0.1111111111111111, \"#46039f\"], [0.2222222222222222, \"#7201a8\"], [0.3333333333333333, \"#9c179e\"], [0.4444444444444444, \"#bd3786\"], [0.5555555555555556, \"#d8576b\"], [0.6666666666666666, \"#ed7953\"], [0.7777777777777778, \"#fb9f3a\"], [0.8888888888888888, \"#fdca26\"], [1.0, \"#f0f921\"]], \"sequentialminus\": [[0.0, \"#0d0887\"], [0.1111111111111111, \"#46039f\"], [0.2222222222222222, \"#7201a8\"], [0.3333333333333333, \"#9c179e\"], [0.4444444444444444, \"#bd3786\"], [0.5555555555555556, \"#d8576b\"], [0.6666666666666666, \"#ed7953\"], [0.7777777777777778, \"#fb9f3a\"], [0.8888888888888888, \"#fdca26\"], [1.0, \"#f0f921\"]]}, \"colorway\": [\"#636efa\", \"#EF553B\", \"#00cc96\", \"#ab63fa\", \"#FFA15A\", \"#19d3f3\", \"#FF6692\", \"#B6E880\", \"#FF97FF\", \"#FECB52\"], \"font\": {\"color\": \"#2a3f5f\"}, \"geo\": {\"bgcolor\": \"white\", \"lakecolor\": \"white\", \"landcolor\": \"#E5ECF6\", \"showlakes\": true, \"showland\": true, \"subunitcolor\": \"white\"}, \"hoverlabel\": {\"align\": \"left\"}, \"hovermode\": \"closest\", \"mapbox\": {\"style\": \"light\"}, \"paper_bgcolor\": \"white\", \"plot_bgcolor\": \"#E5ECF6\", \"polar\": {\"angularaxis\": {\"gridcolor\": \"white\", \"linecolor\": \"white\", \"ticks\": \"\"}, \"bgcolor\": \"#E5ECF6\", \"radialaxis\": {\"gridcolor\": \"white\", \"linecolor\": \"white\", \"ticks\": \"\"}}, \"scene\": {\"xaxis\": {\"backgroundcolor\": \"#E5ECF6\", \"gridcolor\": \"white\", \"gridwidth\": 2, \"linecolor\": \"white\", \"showbackground\": true, \"ticks\": \"\", \"zerolinecolor\": \"white\"}, \"yaxis\": {\"backgroundcolor\": \"#E5ECF6\", \"gridcolor\": \"white\", \"gridwidth\": 2, \"linecolor\": \"white\", \"showbackground\": true, \"ticks\": \"\", \"zerolinecolor\": \"white\"}, \"zaxis\": {\"backgroundcolor\": \"#E5ECF6\", \"gridcolor\": \"white\", \"gridwidth\": 2, \"linecolor\": \"white\", \"showbackground\": true, \"ticks\": \"\", \"zerolinecolor\": \"white\"}}, \"shapedefaults\": {\"line\": {\"color\": \"#2a3f5f\"}}, \"ternary\": {\"aaxis\": {\"gridcolor\": \"white\", \"linecolor\": \"white\", \"ticks\": \"\"}, \"baxis\": {\"gridcolor\": \"white\", \"linecolor\": \"white\", \"ticks\": \"\"}, \"bgcolor\": \"#E5ECF6\", \"caxis\": {\"gridcolor\": \"white\", \"linecolor\": \"white\", \"ticks\": \"\"}}, \"title\": {\"x\": 0.05}, \"xaxis\": {\"automargin\": true, \"gridcolor\": \"white\", \"linecolor\": \"white\", \"ticks\": \"\", \"title\": {\"standoff\": 15}, \"zerolinecolor\": \"white\", \"zerolinewidth\": 2}, \"yaxis\": {\"automargin\": true, \"gridcolor\": \"white\", \"linecolor\": \"white\", \"ticks\": \"\", \"title\": {\"standoff\": 15}, \"zerolinecolor\": \"white\", \"zerolinewidth\": 2}}}, \"title\": {\"font\": {\"color\": \"#4D5663\"}}, \"xaxis\": {\"gridcolor\": \"#E1E5ED\", \"showgrid\": true, \"tickfont\": {\"color\": \"#4D5663\"}, \"title\": {\"font\": {\"color\": \"#4D5663\"}, \"text\": \"\"}, \"zerolinecolor\": \"#E1E5ED\"}, \"yaxis\": {\"gridcolor\": \"#E1E5ED\", \"showgrid\": true, \"tickfont\": {\"color\": \"#4D5663\"}, \"title\": {\"font\": {\"color\": \"#4D5663\"}, \"text\": \"\"}, \"zerolinecolor\": \"#E1E5ED\"}},                        {\"showLink\": true, \"linkText\": \"Export to plot.ly\", \"plotlyServerURL\": \"https://plot.ly\", \"responsive\": true}                    ).then(function(){\n",
       "                            \n",
       "var gd = document.getElementById('18e78aea-16aa-4e2b-b49f-2f40c84c684a');\n",
       "var x = new MutationObserver(function (mutations, observer) {{\n",
       "        var display = window.getComputedStyle(gd).display;\n",
       "        if (!display || display === 'none') {{\n",
       "            console.log([gd, 'removed!']);\n",
       "            Plotly.purge(gd);\n",
       "            observer.disconnect();\n",
       "        }}\n",
       "}});\n",
       "\n",
       "// Listen for the removal of the full notebook cells\n",
       "var notebookContainer = gd.closest('#notebook-container');\n",
       "if (notebookContainer) {{\n",
       "    x.observe(notebookContainer, {childList: true});\n",
       "}}\n",
       "\n",
       "// Listen for the clearing of the current output cell\n",
       "var outputEl = gd.closest('.output');\n",
       "if (outputEl) {{\n",
       "    x.observe(outputEl, {childList: true});\n",
       "}}\n",
       "\n",
       "                        })                };                });            </script>        </div>"
      ]
     },
     "metadata": {},
     "output_type": "display_data"
    }
   ],
   "source": [
    "df.iplot(kind='scatter')"
   ]
  },
  {
   "cell_type": "code",
   "execution_count": 12,
   "metadata": {},
   "outputs": [
    {
     "data": {
      "application/vnd.plotly.v1+json": {
       "config": {
        "linkText": "Export to plot.ly",
        "plotlyServerURL": "https://plot.ly",
        "showLink": true
       },
       "data": [
        {
         "line": {
          "color": "rgba(255, 153, 51, 1.0)",
          "dash": "solid",
          "shape": "linear",
          "width": 1.3
         },
         "mode": "lines",
         "name": "b",
         "text": "",
         "type": "scatter",
         "x": [
          0.31441513431481705,
          0.757834543337892,
          0.7742631153157491,
          0.2504749726759551,
          0.8620110639932879,
          0.09461017156051088,
          0.2431385930413701,
          0.49302985151321654,
          0.4352595632960975,
          0.7038578030179201,
          0.8763487875848481,
          0.7339318188327008,
          0.08867558921357765,
          0.5269614406224346,
          0.356275786244831,
          0.17016731530101203,
          0.2423048288125873,
          0.4111227209876712,
          0.14573547927966135,
          0.7691067452863537,
          0.6182783722870339,
          0.4553900130709443,
          0.9634798787242008,
          0.7268137882797039,
          0.9064672511679027,
          0.46720656865433974,
          0.8975690934048267,
          0.24765184509039917,
          0.4428287868918138,
          0.02656045645726124,
          0.2886780331635713,
          0.6309188505735734,
          0.07533692365640021,
          0.6373464490241852,
          0.9180593690729929,
          0.21320227699998107,
          0.6716488514003408,
          0.9862020477070677,
          0.5374153525740248,
          0.1659066591831575,
          0.178843512780963,
          0.007065448206866387,
          0.2495013400101137,
          0.5491518071463409,
          0.44950513382084123,
          0.8863120727005669,
          0.8263569615702878,
          0.9693353694169362,
          0.020163089922364374,
          0.1447071164960515,
          0.839401113193094,
          0.8753339851455629,
          0.2571436140350003,
          0.36053873689348304,
          0.36834777364157667,
          0.6914522835899672,
          0.9340058886272473,
          0.21628140051543754,
          0.03202002914769875,
          0.7425856641057595,
          0.40240770796636394,
          0.7486304917900775,
          0.7085745446496139,
          0.3792210339279678,
          0.7545593384713679,
          0.42385422697506614,
          0.3694510410095284,
          0.7195057782998479,
          0.92539638599149,
          0.4991726633008787,
          0.5411874808228686,
          0.07068192253094652,
          0.3594018608895382,
          0.20061653817673852,
          0.051699956979526784,
          0.7020406412986379,
          0.11538875720927677,
          0.6367916778061834,
          0.8661088182591468,
          0.17543672407091393,
          0.3898497090569648,
          0.7481925976798725,
          0.9861192368806755,
          0.9506440115659714,
          0.08403115679414075,
          0.5672796888648002,
          0.100405335077413,
          0.5668333698701895,
          0.7461272968353109,
          0.12330317300432292,
          0.5876052552420042,
          0.027220283105312437,
          0.8777367998451803,
          0.5403591790658719,
          0.384728723313121,
          0.035217680376770866,
          0.24708781226136767,
          0.1839268436538145,
          0.8144321283385751,
          0.9596911227012808
         ],
         "y": [
          0.909251239535944,
          0.8719807966046423,
          0.9263581725467491,
          0.5302357088005757,
          0.7160455499446902,
          0.11755981147160888,
          0.9243400802205453,
          0.6048310337209619,
          0.99848911627027,
          0.997818923010017,
          0.958715568880708,
          0.14470409741746926,
          0.32490655516882205,
          0.8259740691202068,
          0.5449674010652735,
          0.1179819340439443,
          0.6470803076640727,
          0.2371544001437944,
          0.3944147078093092,
          0.4553017979843986,
          0.6279575429476555,
          0.05722258804547986,
          0.8531392481614021,
          0.6052735062313108,
          0.271933660010758,
          0.44721239365275367,
          0.9309212413090223,
          0.19481999231733804,
          0.5477063581220064,
          0.17664460367893475,
          0.1479970311467077,
          0.2298546199156265,
          0.5846765046516161,
          0.8383754795729068,
          0.7385964840206619,
          0.32369168939120496,
          0.8086752919227206,
          0.2935415810630594,
          0.1009992474020679,
          0.5746206937317837,
          0.7464924845416215,
          0.9821924221253854,
          0.5979720756547672,
          0.4247219273881223,
          0.932846005920277,
          0.3678338350490642,
          0.01502406435085879,
          0.8231141056636773,
          0.3577245368455766,
          0.6429206757382323,
          0.5907511289623674,
          0.8707306829377549,
          0.6425281851509483,
          0.7852404369090897,
          0.006404843543884486,
          0.5495791221725458,
          0.5981302893634367,
          0.6925879522810264,
          0.8402415708910494,
          0.04064876137123341,
          0.3500904355095926,
          0.6336624538203731,
          0.7992231713719854,
          0.9031646404624668,
          0.4352182794736966,
          0.18222806430140004,
          0.607007928306649,
          0.8428862530174219,
          0.5703318693353945,
          0.640603890857624,
          0.29273746319372085,
          0.36274599719097755,
          0.8702770686839479,
          0.9492850513929987,
          0.5661295373744326,
          0.3851122958268606,
          0.684729733346108,
          0.9891947005226956,
          0.15362270036614767,
          0.82270042632811,
          0.2483082472919772,
          0.10956932064545177,
          0.223449153978462,
          0.6398654351478958,
          0.7769580602854608,
          0.2236671679809179,
          0.37151257431193796,
          0.9132297024351401,
          0.5072130284391141,
          0.7677028136188366,
          0.691500635465313,
          0.5360600096041178,
          0.05347991507119565,
          0.2973993960104748,
          0.8337169057872624,
          0.7521279691575821,
          0.29865293199106036,
          0.1982999248249404,
          0.5922575533056015,
          0.9106797400072707
         ]
        }
       ],
       "layout": {
        "legend": {
         "bgcolor": "#F5F6F9",
         "font": {
          "color": "#4D5663"
         }
        },
        "paper_bgcolor": "#F5F6F9",
        "plot_bgcolor": "#F5F6F9",
        "template": {
         "data": {
          "bar": [
           {
            "error_x": {
             "color": "#2a3f5f"
            },
            "error_y": {
             "color": "#2a3f5f"
            },
            "marker": {
             "line": {
              "color": "#E5ECF6",
              "width": 0.5
             }
            },
            "type": "bar"
           }
          ],
          "barpolar": [
           {
            "marker": {
             "line": {
              "color": "#E5ECF6",
              "width": 0.5
             }
            },
            "type": "barpolar"
           }
          ],
          "carpet": [
           {
            "aaxis": {
             "endlinecolor": "#2a3f5f",
             "gridcolor": "white",
             "linecolor": "white",
             "minorgridcolor": "white",
             "startlinecolor": "#2a3f5f"
            },
            "baxis": {
             "endlinecolor": "#2a3f5f",
             "gridcolor": "white",
             "linecolor": "white",
             "minorgridcolor": "white",
             "startlinecolor": "#2a3f5f"
            },
            "type": "carpet"
           }
          ],
          "choropleth": [
           {
            "colorbar": {
             "outlinewidth": 0,
             "ticks": ""
            },
            "type": "choropleth"
           }
          ],
          "contour": [
           {
            "colorbar": {
             "outlinewidth": 0,
             "ticks": ""
            },
            "colorscale": [
             [
              0,
              "#0d0887"
             ],
             [
              0.1111111111111111,
              "#46039f"
             ],
             [
              0.2222222222222222,
              "#7201a8"
             ],
             [
              0.3333333333333333,
              "#9c179e"
             ],
             [
              0.4444444444444444,
              "#bd3786"
             ],
             [
              0.5555555555555556,
              "#d8576b"
             ],
             [
              0.6666666666666666,
              "#ed7953"
             ],
             [
              0.7777777777777778,
              "#fb9f3a"
             ],
             [
              0.8888888888888888,
              "#fdca26"
             ],
             [
              1,
              "#f0f921"
             ]
            ],
            "type": "contour"
           }
          ],
          "contourcarpet": [
           {
            "colorbar": {
             "outlinewidth": 0,
             "ticks": ""
            },
            "type": "contourcarpet"
           }
          ],
          "heatmap": [
           {
            "colorbar": {
             "outlinewidth": 0,
             "ticks": ""
            },
            "colorscale": [
             [
              0,
              "#0d0887"
             ],
             [
              0.1111111111111111,
              "#46039f"
             ],
             [
              0.2222222222222222,
              "#7201a8"
             ],
             [
              0.3333333333333333,
              "#9c179e"
             ],
             [
              0.4444444444444444,
              "#bd3786"
             ],
             [
              0.5555555555555556,
              "#d8576b"
             ],
             [
              0.6666666666666666,
              "#ed7953"
             ],
             [
              0.7777777777777778,
              "#fb9f3a"
             ],
             [
              0.8888888888888888,
              "#fdca26"
             ],
             [
              1,
              "#f0f921"
             ]
            ],
            "type": "heatmap"
           }
          ],
          "heatmapgl": [
           {
            "colorbar": {
             "outlinewidth": 0,
             "ticks": ""
            },
            "colorscale": [
             [
              0,
              "#0d0887"
             ],
             [
              0.1111111111111111,
              "#46039f"
             ],
             [
              0.2222222222222222,
              "#7201a8"
             ],
             [
              0.3333333333333333,
              "#9c179e"
             ],
             [
              0.4444444444444444,
              "#bd3786"
             ],
             [
              0.5555555555555556,
              "#d8576b"
             ],
             [
              0.6666666666666666,
              "#ed7953"
             ],
             [
              0.7777777777777778,
              "#fb9f3a"
             ],
             [
              0.8888888888888888,
              "#fdca26"
             ],
             [
              1,
              "#f0f921"
             ]
            ],
            "type": "heatmapgl"
           }
          ],
          "histogram": [
           {
            "marker": {
             "colorbar": {
              "outlinewidth": 0,
              "ticks": ""
             }
            },
            "type": "histogram"
           }
          ],
          "histogram2d": [
           {
            "colorbar": {
             "outlinewidth": 0,
             "ticks": ""
            },
            "colorscale": [
             [
              0,
              "#0d0887"
             ],
             [
              0.1111111111111111,
              "#46039f"
             ],
             [
              0.2222222222222222,
              "#7201a8"
             ],
             [
              0.3333333333333333,
              "#9c179e"
             ],
             [
              0.4444444444444444,
              "#bd3786"
             ],
             [
              0.5555555555555556,
              "#d8576b"
             ],
             [
              0.6666666666666666,
              "#ed7953"
             ],
             [
              0.7777777777777778,
              "#fb9f3a"
             ],
             [
              0.8888888888888888,
              "#fdca26"
             ],
             [
              1,
              "#f0f921"
             ]
            ],
            "type": "histogram2d"
           }
          ],
          "histogram2dcontour": [
           {
            "colorbar": {
             "outlinewidth": 0,
             "ticks": ""
            },
            "colorscale": [
             [
              0,
              "#0d0887"
             ],
             [
              0.1111111111111111,
              "#46039f"
             ],
             [
              0.2222222222222222,
              "#7201a8"
             ],
             [
              0.3333333333333333,
              "#9c179e"
             ],
             [
              0.4444444444444444,
              "#bd3786"
             ],
             [
              0.5555555555555556,
              "#d8576b"
             ],
             [
              0.6666666666666666,
              "#ed7953"
             ],
             [
              0.7777777777777778,
              "#fb9f3a"
             ],
             [
              0.8888888888888888,
              "#fdca26"
             ],
             [
              1,
              "#f0f921"
             ]
            ],
            "type": "histogram2dcontour"
           }
          ],
          "mesh3d": [
           {
            "colorbar": {
             "outlinewidth": 0,
             "ticks": ""
            },
            "type": "mesh3d"
           }
          ],
          "parcoords": [
           {
            "line": {
             "colorbar": {
              "outlinewidth": 0,
              "ticks": ""
             }
            },
            "type": "parcoords"
           }
          ],
          "pie": [
           {
            "automargin": true,
            "type": "pie"
           }
          ],
          "scatter": [
           {
            "marker": {
             "colorbar": {
              "outlinewidth": 0,
              "ticks": ""
             }
            },
            "type": "scatter"
           }
          ],
          "scatter3d": [
           {
            "line": {
             "colorbar": {
              "outlinewidth": 0,
              "ticks": ""
             }
            },
            "marker": {
             "colorbar": {
              "outlinewidth": 0,
              "ticks": ""
             }
            },
            "type": "scatter3d"
           }
          ],
          "scattercarpet": [
           {
            "marker": {
             "colorbar": {
              "outlinewidth": 0,
              "ticks": ""
             }
            },
            "type": "scattercarpet"
           }
          ],
          "scattergeo": [
           {
            "marker": {
             "colorbar": {
              "outlinewidth": 0,
              "ticks": ""
             }
            },
            "type": "scattergeo"
           }
          ],
          "scattergl": [
           {
            "marker": {
             "colorbar": {
              "outlinewidth": 0,
              "ticks": ""
             }
            },
            "type": "scattergl"
           }
          ],
          "scattermapbox": [
           {
            "marker": {
             "colorbar": {
              "outlinewidth": 0,
              "ticks": ""
             }
            },
            "type": "scattermapbox"
           }
          ],
          "scatterpolar": [
           {
            "marker": {
             "colorbar": {
              "outlinewidth": 0,
              "ticks": ""
             }
            },
            "type": "scatterpolar"
           }
          ],
          "scatterpolargl": [
           {
            "marker": {
             "colorbar": {
              "outlinewidth": 0,
              "ticks": ""
             }
            },
            "type": "scatterpolargl"
           }
          ],
          "scatterternary": [
           {
            "marker": {
             "colorbar": {
              "outlinewidth": 0,
              "ticks": ""
             }
            },
            "type": "scatterternary"
           }
          ],
          "surface": [
           {
            "colorbar": {
             "outlinewidth": 0,
             "ticks": ""
            },
            "colorscale": [
             [
              0,
              "#0d0887"
             ],
             [
              0.1111111111111111,
              "#46039f"
             ],
             [
              0.2222222222222222,
              "#7201a8"
             ],
             [
              0.3333333333333333,
              "#9c179e"
             ],
             [
              0.4444444444444444,
              "#bd3786"
             ],
             [
              0.5555555555555556,
              "#d8576b"
             ],
             [
              0.6666666666666666,
              "#ed7953"
             ],
             [
              0.7777777777777778,
              "#fb9f3a"
             ],
             [
              0.8888888888888888,
              "#fdca26"
             ],
             [
              1,
              "#f0f921"
             ]
            ],
            "type": "surface"
           }
          ],
          "table": [
           {
            "cells": {
             "fill": {
              "color": "#EBF0F8"
             },
             "line": {
              "color": "white"
             }
            },
            "header": {
             "fill": {
              "color": "#C8D4E3"
             },
             "line": {
              "color": "white"
             }
            },
            "type": "table"
           }
          ]
         },
         "layout": {
          "annotationdefaults": {
           "arrowcolor": "#2a3f5f",
           "arrowhead": 0,
           "arrowwidth": 1
          },
          "autotypenumbers": "strict",
          "coloraxis": {
           "colorbar": {
            "outlinewidth": 0,
            "ticks": ""
           }
          },
          "colorscale": {
           "diverging": [
            [
             0,
             "#8e0152"
            ],
            [
             0.1,
             "#c51b7d"
            ],
            [
             0.2,
             "#de77ae"
            ],
            [
             0.3,
             "#f1b6da"
            ],
            [
             0.4,
             "#fde0ef"
            ],
            [
             0.5,
             "#f7f7f7"
            ],
            [
             0.6,
             "#e6f5d0"
            ],
            [
             0.7,
             "#b8e186"
            ],
            [
             0.8,
             "#7fbc41"
            ],
            [
             0.9,
             "#4d9221"
            ],
            [
             1,
             "#276419"
            ]
           ],
           "sequential": [
            [
             0,
             "#0d0887"
            ],
            [
             0.1111111111111111,
             "#46039f"
            ],
            [
             0.2222222222222222,
             "#7201a8"
            ],
            [
             0.3333333333333333,
             "#9c179e"
            ],
            [
             0.4444444444444444,
             "#bd3786"
            ],
            [
             0.5555555555555556,
             "#d8576b"
            ],
            [
             0.6666666666666666,
             "#ed7953"
            ],
            [
             0.7777777777777778,
             "#fb9f3a"
            ],
            [
             0.8888888888888888,
             "#fdca26"
            ],
            [
             1,
             "#f0f921"
            ]
           ],
           "sequentialminus": [
            [
             0,
             "#0d0887"
            ],
            [
             0.1111111111111111,
             "#46039f"
            ],
            [
             0.2222222222222222,
             "#7201a8"
            ],
            [
             0.3333333333333333,
             "#9c179e"
            ],
            [
             0.4444444444444444,
             "#bd3786"
            ],
            [
             0.5555555555555556,
             "#d8576b"
            ],
            [
             0.6666666666666666,
             "#ed7953"
            ],
            [
             0.7777777777777778,
             "#fb9f3a"
            ],
            [
             0.8888888888888888,
             "#fdca26"
            ],
            [
             1,
             "#f0f921"
            ]
           ]
          },
          "colorway": [
           "#636efa",
           "#EF553B",
           "#00cc96",
           "#ab63fa",
           "#FFA15A",
           "#19d3f3",
           "#FF6692",
           "#B6E880",
           "#FF97FF",
           "#FECB52"
          ],
          "font": {
           "color": "#2a3f5f"
          },
          "geo": {
           "bgcolor": "white",
           "lakecolor": "white",
           "landcolor": "#E5ECF6",
           "showlakes": true,
           "showland": true,
           "subunitcolor": "white"
          },
          "hoverlabel": {
           "align": "left"
          },
          "hovermode": "closest",
          "mapbox": {
           "style": "light"
          },
          "paper_bgcolor": "white",
          "plot_bgcolor": "#E5ECF6",
          "polar": {
           "angularaxis": {
            "gridcolor": "white",
            "linecolor": "white",
            "ticks": ""
           },
           "bgcolor": "#E5ECF6",
           "radialaxis": {
            "gridcolor": "white",
            "linecolor": "white",
            "ticks": ""
           }
          },
          "scene": {
           "xaxis": {
            "backgroundcolor": "#E5ECF6",
            "gridcolor": "white",
            "gridwidth": 2,
            "linecolor": "white",
            "showbackground": true,
            "ticks": "",
            "zerolinecolor": "white"
           },
           "yaxis": {
            "backgroundcolor": "#E5ECF6",
            "gridcolor": "white",
            "gridwidth": 2,
            "linecolor": "white",
            "showbackground": true,
            "ticks": "",
            "zerolinecolor": "white"
           },
           "zaxis": {
            "backgroundcolor": "#E5ECF6",
            "gridcolor": "white",
            "gridwidth": 2,
            "linecolor": "white",
            "showbackground": true,
            "ticks": "",
            "zerolinecolor": "white"
           }
          },
          "shapedefaults": {
           "line": {
            "color": "#2a3f5f"
           }
          },
          "ternary": {
           "aaxis": {
            "gridcolor": "white",
            "linecolor": "white",
            "ticks": ""
           },
           "baxis": {
            "gridcolor": "white",
            "linecolor": "white",
            "ticks": ""
           },
           "bgcolor": "#E5ECF6",
           "caxis": {
            "gridcolor": "white",
            "linecolor": "white",
            "ticks": ""
           }
          },
          "title": {
           "x": 0.05
          },
          "xaxis": {
           "automargin": true,
           "gridcolor": "white",
           "linecolor": "white",
           "ticks": "",
           "title": {
            "standoff": 15
           },
           "zerolinecolor": "white",
           "zerolinewidth": 2
          },
          "yaxis": {
           "automargin": true,
           "gridcolor": "white",
           "linecolor": "white",
           "ticks": "",
           "title": {
            "standoff": 15
           },
           "zerolinecolor": "white",
           "zerolinewidth": 2
          }
         }
        },
        "title": {
         "font": {
          "color": "#4D5663"
         }
        },
        "xaxis": {
         "gridcolor": "#E1E5ED",
         "showgrid": true,
         "tickfont": {
          "color": "#4D5663"
         },
         "title": {
          "font": {
           "color": "#4D5663"
          },
          "text": ""
         },
         "zerolinecolor": "#E1E5ED"
        },
        "yaxis": {
         "gridcolor": "#E1E5ED",
         "showgrid": true,
         "tickfont": {
          "color": "#4D5663"
         },
         "title": {
          "font": {
           "color": "#4D5663"
          },
          "text": ""
         },
         "zerolinecolor": "#E1E5ED"
        }
       }
      },
      "text/html": [
       "<div>                            <div id=\"79405126-43e6-484c-9575-71203685b51c\" class=\"plotly-graph-div\" style=\"height:525px; width:100%;\"></div>            <script type=\"text/javascript\">                require([\"plotly\"], function(Plotly) {                    window.PLOTLYENV=window.PLOTLYENV || {};\n",
       "                    window.PLOTLYENV.BASE_URL='https://plot.ly';                                    if (document.getElementById(\"79405126-43e6-484c-9575-71203685b51c\")) {                    Plotly.newPlot(                        \"79405126-43e6-484c-9575-71203685b51c\",                        [{\"line\": {\"color\": \"rgba(255, 153, 51, 1.0)\", \"dash\": \"solid\", \"shape\": \"linear\", \"width\": 1.3}, \"mode\": \"lines\", \"name\": \"b\", \"text\": \"\", \"type\": \"scatter\", \"x\": [0.31441513431481705, 0.757834543337892, 0.7742631153157491, 0.2504749726759551, 0.8620110639932879, 0.09461017156051088, 0.2431385930413701, 0.49302985151321654, 0.4352595632960975, 0.7038578030179201, 0.8763487875848481, 0.7339318188327008, 0.08867558921357765, 0.5269614406224346, 0.356275786244831, 0.17016731530101203, 0.2423048288125873, 0.4111227209876712, 0.14573547927966135, 0.7691067452863537, 0.6182783722870339, 0.4553900130709443, 0.9634798787242008, 0.7268137882797039, 0.9064672511679027, 0.46720656865433974, 0.8975690934048267, 0.24765184509039917, 0.4428287868918138, 0.02656045645726124, 0.2886780331635713, 0.6309188505735734, 0.07533692365640021, 0.6373464490241852, 0.9180593690729929, 0.21320227699998107, 0.6716488514003408, 0.9862020477070677, 0.5374153525740248, 0.1659066591831575, 0.178843512780963, 0.007065448206866387, 0.2495013400101137, 0.5491518071463409, 0.44950513382084123, 0.8863120727005669, 0.8263569615702878, 0.9693353694169362, 0.020163089922364374, 0.1447071164960515, 0.839401113193094, 0.8753339851455629, 0.2571436140350003, 0.36053873689348304, 0.36834777364157667, 0.6914522835899672, 0.9340058886272473, 0.21628140051543754, 0.03202002914769875, 0.7425856641057595, 0.40240770796636394, 0.7486304917900775, 0.7085745446496139, 0.3792210339279678, 0.7545593384713679, 0.42385422697506614, 0.3694510410095284, 0.7195057782998479, 0.92539638599149, 0.4991726633008787, 0.5411874808228686, 0.07068192253094652, 0.3594018608895382, 0.20061653817673852, 0.051699956979526784, 0.7020406412986379, 0.11538875720927677, 0.6367916778061834, 0.8661088182591468, 0.17543672407091393, 0.3898497090569648, 0.7481925976798725, 0.9861192368806755, 0.9506440115659714, 0.08403115679414075, 0.5672796888648002, 0.100405335077413, 0.5668333698701895, 0.7461272968353109, 0.12330317300432292, 0.5876052552420042, 0.027220283105312437, 0.8777367998451803, 0.5403591790658719, 0.384728723313121, 0.035217680376770866, 0.24708781226136767, 0.1839268436538145, 0.8144321283385751, 0.9596911227012808], \"y\": [0.909251239535944, 0.8719807966046423, 0.9263581725467491, 0.5302357088005757, 0.7160455499446902, 0.11755981147160888, 0.9243400802205453, 0.6048310337209619, 0.99848911627027, 0.997818923010017, 0.958715568880708, 0.14470409741746926, 0.32490655516882205, 0.8259740691202068, 0.5449674010652735, 0.1179819340439443, 0.6470803076640727, 0.2371544001437944, 0.3944147078093092, 0.4553017979843986, 0.6279575429476555, 0.05722258804547986, 0.8531392481614021, 0.6052735062313108, 0.271933660010758, 0.44721239365275367, 0.9309212413090223, 0.19481999231733804, 0.5477063581220064, 0.17664460367893475, 0.1479970311467077, 0.2298546199156265, 0.5846765046516161, 0.8383754795729068, 0.7385964840206619, 0.32369168939120496, 0.8086752919227206, 0.2935415810630594, 0.1009992474020679, 0.5746206937317837, 0.7464924845416215, 0.9821924221253854, 0.5979720756547672, 0.4247219273881223, 0.932846005920277, 0.3678338350490642, 0.01502406435085879, 0.8231141056636773, 0.3577245368455766, 0.6429206757382323, 0.5907511289623674, 0.8707306829377549, 0.6425281851509483, 0.7852404369090897, 0.006404843543884486, 0.5495791221725458, 0.5981302893634367, 0.6925879522810264, 0.8402415708910494, 0.04064876137123341, 0.3500904355095926, 0.6336624538203731, 0.7992231713719854, 0.9031646404624668, 0.4352182794736966, 0.18222806430140004, 0.607007928306649, 0.8428862530174219, 0.5703318693353945, 0.640603890857624, 0.29273746319372085, 0.36274599719097755, 0.8702770686839479, 0.9492850513929987, 0.5661295373744326, 0.3851122958268606, 0.684729733346108, 0.9891947005226956, 0.15362270036614767, 0.82270042632811, 0.2483082472919772, 0.10956932064545177, 0.223449153978462, 0.6398654351478958, 0.7769580602854608, 0.2236671679809179, 0.37151257431193796, 0.9132297024351401, 0.5072130284391141, 0.7677028136188366, 0.691500635465313, 0.5360600096041178, 0.05347991507119565, 0.2973993960104748, 0.8337169057872624, 0.7521279691575821, 0.29865293199106036, 0.1982999248249404, 0.5922575533056015, 0.9106797400072707]}],                        {\"legend\": {\"bgcolor\": \"#F5F6F9\", \"font\": {\"color\": \"#4D5663\"}}, \"paper_bgcolor\": \"#F5F6F9\", \"plot_bgcolor\": \"#F5F6F9\", \"template\": {\"data\": {\"bar\": [{\"error_x\": {\"color\": \"#2a3f5f\"}, \"error_y\": {\"color\": \"#2a3f5f\"}, \"marker\": {\"line\": {\"color\": \"#E5ECF6\", \"width\": 0.5}}, \"type\": \"bar\"}], \"barpolar\": [{\"marker\": {\"line\": {\"color\": \"#E5ECF6\", \"width\": 0.5}}, \"type\": \"barpolar\"}], \"carpet\": [{\"aaxis\": {\"endlinecolor\": \"#2a3f5f\", \"gridcolor\": \"white\", \"linecolor\": \"white\", \"minorgridcolor\": \"white\", \"startlinecolor\": \"#2a3f5f\"}, \"baxis\": {\"endlinecolor\": \"#2a3f5f\", \"gridcolor\": \"white\", \"linecolor\": \"white\", \"minorgridcolor\": \"white\", \"startlinecolor\": \"#2a3f5f\"}, \"type\": \"carpet\"}], \"choropleth\": [{\"colorbar\": {\"outlinewidth\": 0, \"ticks\": \"\"}, \"type\": \"choropleth\"}], \"contour\": [{\"colorbar\": {\"outlinewidth\": 0, \"ticks\": \"\"}, \"colorscale\": [[0.0, \"#0d0887\"], [0.1111111111111111, \"#46039f\"], [0.2222222222222222, \"#7201a8\"], [0.3333333333333333, \"#9c179e\"], [0.4444444444444444, \"#bd3786\"], [0.5555555555555556, \"#d8576b\"], [0.6666666666666666, \"#ed7953\"], [0.7777777777777778, \"#fb9f3a\"], [0.8888888888888888, \"#fdca26\"], [1.0, \"#f0f921\"]], \"type\": \"contour\"}], \"contourcarpet\": [{\"colorbar\": {\"outlinewidth\": 0, \"ticks\": \"\"}, \"type\": \"contourcarpet\"}], \"heatmap\": [{\"colorbar\": {\"outlinewidth\": 0, \"ticks\": \"\"}, \"colorscale\": [[0.0, \"#0d0887\"], [0.1111111111111111, \"#46039f\"], [0.2222222222222222, \"#7201a8\"], [0.3333333333333333, \"#9c179e\"], [0.4444444444444444, \"#bd3786\"], [0.5555555555555556, \"#d8576b\"], [0.6666666666666666, \"#ed7953\"], [0.7777777777777778, \"#fb9f3a\"], [0.8888888888888888, \"#fdca26\"], [1.0, \"#f0f921\"]], \"type\": \"heatmap\"}], \"heatmapgl\": [{\"colorbar\": {\"outlinewidth\": 0, \"ticks\": \"\"}, \"colorscale\": [[0.0, \"#0d0887\"], [0.1111111111111111, \"#46039f\"], [0.2222222222222222, \"#7201a8\"], [0.3333333333333333, \"#9c179e\"], [0.4444444444444444, \"#bd3786\"], [0.5555555555555556, \"#d8576b\"], [0.6666666666666666, \"#ed7953\"], [0.7777777777777778, \"#fb9f3a\"], [0.8888888888888888, \"#fdca26\"], [1.0, \"#f0f921\"]], \"type\": \"heatmapgl\"}], \"histogram\": [{\"marker\": {\"colorbar\": {\"outlinewidth\": 0, \"ticks\": \"\"}}, \"type\": \"histogram\"}], \"histogram2d\": [{\"colorbar\": {\"outlinewidth\": 0, \"ticks\": \"\"}, \"colorscale\": [[0.0, \"#0d0887\"], [0.1111111111111111, \"#46039f\"], [0.2222222222222222, \"#7201a8\"], [0.3333333333333333, \"#9c179e\"], [0.4444444444444444, \"#bd3786\"], [0.5555555555555556, \"#d8576b\"], [0.6666666666666666, \"#ed7953\"], [0.7777777777777778, \"#fb9f3a\"], [0.8888888888888888, \"#fdca26\"], [1.0, \"#f0f921\"]], \"type\": \"histogram2d\"}], \"histogram2dcontour\": [{\"colorbar\": {\"outlinewidth\": 0, \"ticks\": \"\"}, \"colorscale\": [[0.0, \"#0d0887\"], [0.1111111111111111, \"#46039f\"], [0.2222222222222222, \"#7201a8\"], [0.3333333333333333, \"#9c179e\"], [0.4444444444444444, \"#bd3786\"], [0.5555555555555556, \"#d8576b\"], [0.6666666666666666, \"#ed7953\"], [0.7777777777777778, \"#fb9f3a\"], [0.8888888888888888, \"#fdca26\"], [1.0, \"#f0f921\"]], \"type\": \"histogram2dcontour\"}], \"mesh3d\": [{\"colorbar\": {\"outlinewidth\": 0, \"ticks\": \"\"}, \"type\": \"mesh3d\"}], \"parcoords\": [{\"line\": {\"colorbar\": {\"outlinewidth\": 0, \"ticks\": \"\"}}, \"type\": \"parcoords\"}], \"pie\": [{\"automargin\": true, \"type\": \"pie\"}], \"scatter\": [{\"marker\": {\"colorbar\": {\"outlinewidth\": 0, \"ticks\": \"\"}}, \"type\": \"scatter\"}], \"scatter3d\": [{\"line\": {\"colorbar\": {\"outlinewidth\": 0, \"ticks\": \"\"}}, \"marker\": {\"colorbar\": {\"outlinewidth\": 0, \"ticks\": \"\"}}, \"type\": \"scatter3d\"}], \"scattercarpet\": [{\"marker\": {\"colorbar\": {\"outlinewidth\": 0, \"ticks\": \"\"}}, \"type\": \"scattercarpet\"}], \"scattergeo\": [{\"marker\": {\"colorbar\": {\"outlinewidth\": 0, \"ticks\": \"\"}}, \"type\": \"scattergeo\"}], \"scattergl\": [{\"marker\": {\"colorbar\": {\"outlinewidth\": 0, \"ticks\": \"\"}}, \"type\": \"scattergl\"}], \"scattermapbox\": [{\"marker\": {\"colorbar\": {\"outlinewidth\": 0, \"ticks\": \"\"}}, \"type\": \"scattermapbox\"}], \"scatterpolar\": [{\"marker\": {\"colorbar\": {\"outlinewidth\": 0, \"ticks\": \"\"}}, \"type\": \"scatterpolar\"}], \"scatterpolargl\": [{\"marker\": {\"colorbar\": {\"outlinewidth\": 0, \"ticks\": \"\"}}, \"type\": \"scatterpolargl\"}], \"scatterternary\": [{\"marker\": {\"colorbar\": {\"outlinewidth\": 0, \"ticks\": \"\"}}, \"type\": \"scatterternary\"}], \"surface\": [{\"colorbar\": {\"outlinewidth\": 0, \"ticks\": \"\"}, \"colorscale\": [[0.0, \"#0d0887\"], [0.1111111111111111, \"#46039f\"], [0.2222222222222222, \"#7201a8\"], [0.3333333333333333, \"#9c179e\"], [0.4444444444444444, \"#bd3786\"], [0.5555555555555556, \"#d8576b\"], [0.6666666666666666, \"#ed7953\"], [0.7777777777777778, \"#fb9f3a\"], [0.8888888888888888, \"#fdca26\"], [1.0, \"#f0f921\"]], \"type\": \"surface\"}], \"table\": [{\"cells\": {\"fill\": {\"color\": \"#EBF0F8\"}, \"line\": {\"color\": \"white\"}}, \"header\": {\"fill\": {\"color\": \"#C8D4E3\"}, \"line\": {\"color\": \"white\"}}, \"type\": \"table\"}]}, \"layout\": {\"annotationdefaults\": {\"arrowcolor\": \"#2a3f5f\", \"arrowhead\": 0, \"arrowwidth\": 1}, \"autotypenumbers\": \"strict\", \"coloraxis\": {\"colorbar\": {\"outlinewidth\": 0, \"ticks\": \"\"}}, \"colorscale\": {\"diverging\": [[0, \"#8e0152\"], [0.1, \"#c51b7d\"], [0.2, \"#de77ae\"], [0.3, \"#f1b6da\"], [0.4, \"#fde0ef\"], [0.5, \"#f7f7f7\"], [0.6, \"#e6f5d0\"], [0.7, \"#b8e186\"], [0.8, \"#7fbc41\"], [0.9, \"#4d9221\"], [1, \"#276419\"]], \"sequential\": [[0.0, \"#0d0887\"], [0.1111111111111111, \"#46039f\"], [0.2222222222222222, \"#7201a8\"], [0.3333333333333333, \"#9c179e\"], [0.4444444444444444, \"#bd3786\"], [0.5555555555555556, \"#d8576b\"], [0.6666666666666666, \"#ed7953\"], [0.7777777777777778, \"#fb9f3a\"], [0.8888888888888888, \"#fdca26\"], [1.0, \"#f0f921\"]], \"sequentialminus\": [[0.0, \"#0d0887\"], [0.1111111111111111, \"#46039f\"], [0.2222222222222222, \"#7201a8\"], [0.3333333333333333, \"#9c179e\"], [0.4444444444444444, \"#bd3786\"], [0.5555555555555556, \"#d8576b\"], [0.6666666666666666, \"#ed7953\"], [0.7777777777777778, \"#fb9f3a\"], [0.8888888888888888, \"#fdca26\"], [1.0, \"#f0f921\"]]}, \"colorway\": [\"#636efa\", \"#EF553B\", \"#00cc96\", \"#ab63fa\", \"#FFA15A\", \"#19d3f3\", \"#FF6692\", \"#B6E880\", \"#FF97FF\", \"#FECB52\"], \"font\": {\"color\": \"#2a3f5f\"}, \"geo\": {\"bgcolor\": \"white\", \"lakecolor\": \"white\", \"landcolor\": \"#E5ECF6\", \"showlakes\": true, \"showland\": true, \"subunitcolor\": \"white\"}, \"hoverlabel\": {\"align\": \"left\"}, \"hovermode\": \"closest\", \"mapbox\": {\"style\": \"light\"}, \"paper_bgcolor\": \"white\", \"plot_bgcolor\": \"#E5ECF6\", \"polar\": {\"angularaxis\": {\"gridcolor\": \"white\", \"linecolor\": \"white\", \"ticks\": \"\"}, \"bgcolor\": \"#E5ECF6\", \"radialaxis\": {\"gridcolor\": \"white\", \"linecolor\": \"white\", \"ticks\": \"\"}}, \"scene\": {\"xaxis\": {\"backgroundcolor\": \"#E5ECF6\", \"gridcolor\": \"white\", \"gridwidth\": 2, \"linecolor\": \"white\", \"showbackground\": true, \"ticks\": \"\", \"zerolinecolor\": \"white\"}, \"yaxis\": {\"backgroundcolor\": \"#E5ECF6\", \"gridcolor\": \"white\", \"gridwidth\": 2, \"linecolor\": \"white\", \"showbackground\": true, \"ticks\": \"\", \"zerolinecolor\": \"white\"}, \"zaxis\": {\"backgroundcolor\": \"#E5ECF6\", \"gridcolor\": \"white\", \"gridwidth\": 2, \"linecolor\": \"white\", \"showbackground\": true, \"ticks\": \"\", \"zerolinecolor\": \"white\"}}, \"shapedefaults\": {\"line\": {\"color\": \"#2a3f5f\"}}, \"ternary\": {\"aaxis\": {\"gridcolor\": \"white\", \"linecolor\": \"white\", \"ticks\": \"\"}, \"baxis\": {\"gridcolor\": \"white\", \"linecolor\": \"white\", \"ticks\": \"\"}, \"bgcolor\": \"#E5ECF6\", \"caxis\": {\"gridcolor\": \"white\", \"linecolor\": \"white\", \"ticks\": \"\"}}, \"title\": {\"x\": 0.05}, \"xaxis\": {\"automargin\": true, \"gridcolor\": \"white\", \"linecolor\": \"white\", \"ticks\": \"\", \"title\": {\"standoff\": 15}, \"zerolinecolor\": \"white\", \"zerolinewidth\": 2}, \"yaxis\": {\"automargin\": true, \"gridcolor\": \"white\", \"linecolor\": \"white\", \"ticks\": \"\", \"title\": {\"standoff\": 15}, \"zerolinecolor\": \"white\", \"zerolinewidth\": 2}}}, \"title\": {\"font\": {\"color\": \"#4D5663\"}}, \"xaxis\": {\"gridcolor\": \"#E1E5ED\", \"showgrid\": true, \"tickfont\": {\"color\": \"#4D5663\"}, \"title\": {\"font\": {\"color\": \"#4D5663\"}, \"text\": \"\"}, \"zerolinecolor\": \"#E1E5ED\"}, \"yaxis\": {\"gridcolor\": \"#E1E5ED\", \"showgrid\": true, \"tickfont\": {\"color\": \"#4D5663\"}, \"title\": {\"font\": {\"color\": \"#4D5663\"}, \"text\": \"\"}, \"zerolinecolor\": \"#E1E5ED\"}},                        {\"showLink\": true, \"linkText\": \"Export to plot.ly\", \"plotlyServerURL\": \"https://plot.ly\", \"responsive\": true}                    ).then(function(){\n",
       "                            \n",
       "var gd = document.getElementById('79405126-43e6-484c-9575-71203685b51c');\n",
       "var x = new MutationObserver(function (mutations, observer) {{\n",
       "        var display = window.getComputedStyle(gd).display;\n",
       "        if (!display || display === 'none') {{\n",
       "            console.log([gd, 'removed!']);\n",
       "            Plotly.purge(gd);\n",
       "            observer.disconnect();\n",
       "        }}\n",
       "}});\n",
       "\n",
       "// Listen for the removal of the full notebook cells\n",
       "var notebookContainer = gd.closest('#notebook-container');\n",
       "if (notebookContainer) {{\n",
       "    x.observe(notebookContainer, {childList: true});\n",
       "}}\n",
       "\n",
       "// Listen for the clearing of the current output cell\n",
       "var outputEl = gd.closest('.output');\n",
       "if (outputEl) {{\n",
       "    x.observe(outputEl, {childList: true});\n",
       "}}\n",
       "\n",
       "                        })                };                });            </script>        </div>"
      ]
     },
     "metadata": {},
     "output_type": "display_data"
    }
   ],
   "source": [
    "df.iplot(kind='scatter', x='a', y='b')"
   ]
  },
  {
   "cell_type": "code",
   "execution_count": 13,
   "metadata": {
    "scrolled": true
   },
   "outputs": [
    {
     "data": {
      "application/vnd.plotly.v1+json": {
       "config": {
        "linkText": "Export to plot.ly",
        "plotlyServerURL": "https://plot.ly",
        "showLink": true
       },
       "data": [
        {
         "line": {
          "color": "rgba(255, 153, 51, 1.0)",
          "dash": "solid",
          "shape": "linear",
          "width": 1.3
         },
         "marker": {
          "size": 12,
          "symbol": "circle"
         },
         "mode": "markers",
         "name": "b",
         "text": "",
         "type": "scatter",
         "x": [
          0.31441513431481705,
          0.757834543337892,
          0.7742631153157491,
          0.2504749726759551,
          0.8620110639932879,
          0.09461017156051088,
          0.2431385930413701,
          0.49302985151321654,
          0.4352595632960975,
          0.7038578030179201,
          0.8763487875848481,
          0.7339318188327008,
          0.08867558921357765,
          0.5269614406224346,
          0.356275786244831,
          0.17016731530101203,
          0.2423048288125873,
          0.4111227209876712,
          0.14573547927966135,
          0.7691067452863537,
          0.6182783722870339,
          0.4553900130709443,
          0.9634798787242008,
          0.7268137882797039,
          0.9064672511679027,
          0.46720656865433974,
          0.8975690934048267,
          0.24765184509039917,
          0.4428287868918138,
          0.02656045645726124,
          0.2886780331635713,
          0.6309188505735734,
          0.07533692365640021,
          0.6373464490241852,
          0.9180593690729929,
          0.21320227699998107,
          0.6716488514003408,
          0.9862020477070677,
          0.5374153525740248,
          0.1659066591831575,
          0.178843512780963,
          0.007065448206866387,
          0.2495013400101137,
          0.5491518071463409,
          0.44950513382084123,
          0.8863120727005669,
          0.8263569615702878,
          0.9693353694169362,
          0.020163089922364374,
          0.1447071164960515,
          0.839401113193094,
          0.8753339851455629,
          0.2571436140350003,
          0.36053873689348304,
          0.36834777364157667,
          0.6914522835899672,
          0.9340058886272473,
          0.21628140051543754,
          0.03202002914769875,
          0.7425856641057595,
          0.40240770796636394,
          0.7486304917900775,
          0.7085745446496139,
          0.3792210339279678,
          0.7545593384713679,
          0.42385422697506614,
          0.3694510410095284,
          0.7195057782998479,
          0.92539638599149,
          0.4991726633008787,
          0.5411874808228686,
          0.07068192253094652,
          0.3594018608895382,
          0.20061653817673852,
          0.051699956979526784,
          0.7020406412986379,
          0.11538875720927677,
          0.6367916778061834,
          0.8661088182591468,
          0.17543672407091393,
          0.3898497090569648,
          0.7481925976798725,
          0.9861192368806755,
          0.9506440115659714,
          0.08403115679414075,
          0.5672796888648002,
          0.100405335077413,
          0.5668333698701895,
          0.7461272968353109,
          0.12330317300432292,
          0.5876052552420042,
          0.027220283105312437,
          0.8777367998451803,
          0.5403591790658719,
          0.384728723313121,
          0.035217680376770866,
          0.24708781226136767,
          0.1839268436538145,
          0.8144321283385751,
          0.9596911227012808
         ],
         "y": [
          0.909251239535944,
          0.8719807966046423,
          0.9263581725467491,
          0.5302357088005757,
          0.7160455499446902,
          0.11755981147160888,
          0.9243400802205453,
          0.6048310337209619,
          0.99848911627027,
          0.997818923010017,
          0.958715568880708,
          0.14470409741746926,
          0.32490655516882205,
          0.8259740691202068,
          0.5449674010652735,
          0.1179819340439443,
          0.6470803076640727,
          0.2371544001437944,
          0.3944147078093092,
          0.4553017979843986,
          0.6279575429476555,
          0.05722258804547986,
          0.8531392481614021,
          0.6052735062313108,
          0.271933660010758,
          0.44721239365275367,
          0.9309212413090223,
          0.19481999231733804,
          0.5477063581220064,
          0.17664460367893475,
          0.1479970311467077,
          0.2298546199156265,
          0.5846765046516161,
          0.8383754795729068,
          0.7385964840206619,
          0.32369168939120496,
          0.8086752919227206,
          0.2935415810630594,
          0.1009992474020679,
          0.5746206937317837,
          0.7464924845416215,
          0.9821924221253854,
          0.5979720756547672,
          0.4247219273881223,
          0.932846005920277,
          0.3678338350490642,
          0.01502406435085879,
          0.8231141056636773,
          0.3577245368455766,
          0.6429206757382323,
          0.5907511289623674,
          0.8707306829377549,
          0.6425281851509483,
          0.7852404369090897,
          0.006404843543884486,
          0.5495791221725458,
          0.5981302893634367,
          0.6925879522810264,
          0.8402415708910494,
          0.04064876137123341,
          0.3500904355095926,
          0.6336624538203731,
          0.7992231713719854,
          0.9031646404624668,
          0.4352182794736966,
          0.18222806430140004,
          0.607007928306649,
          0.8428862530174219,
          0.5703318693353945,
          0.640603890857624,
          0.29273746319372085,
          0.36274599719097755,
          0.8702770686839479,
          0.9492850513929987,
          0.5661295373744326,
          0.3851122958268606,
          0.684729733346108,
          0.9891947005226956,
          0.15362270036614767,
          0.82270042632811,
          0.2483082472919772,
          0.10956932064545177,
          0.223449153978462,
          0.6398654351478958,
          0.7769580602854608,
          0.2236671679809179,
          0.37151257431193796,
          0.9132297024351401,
          0.5072130284391141,
          0.7677028136188366,
          0.691500635465313,
          0.5360600096041178,
          0.05347991507119565,
          0.2973993960104748,
          0.8337169057872624,
          0.7521279691575821,
          0.29865293199106036,
          0.1982999248249404,
          0.5922575533056015,
          0.9106797400072707
         ]
        }
       ],
       "layout": {
        "legend": {
         "bgcolor": "#F5F6F9",
         "font": {
          "color": "#4D5663"
         }
        },
        "paper_bgcolor": "#F5F6F9",
        "plot_bgcolor": "#F5F6F9",
        "template": {
         "data": {
          "bar": [
           {
            "error_x": {
             "color": "#2a3f5f"
            },
            "error_y": {
             "color": "#2a3f5f"
            },
            "marker": {
             "line": {
              "color": "#E5ECF6",
              "width": 0.5
             }
            },
            "type": "bar"
           }
          ],
          "barpolar": [
           {
            "marker": {
             "line": {
              "color": "#E5ECF6",
              "width": 0.5
             }
            },
            "type": "barpolar"
           }
          ],
          "carpet": [
           {
            "aaxis": {
             "endlinecolor": "#2a3f5f",
             "gridcolor": "white",
             "linecolor": "white",
             "minorgridcolor": "white",
             "startlinecolor": "#2a3f5f"
            },
            "baxis": {
             "endlinecolor": "#2a3f5f",
             "gridcolor": "white",
             "linecolor": "white",
             "minorgridcolor": "white",
             "startlinecolor": "#2a3f5f"
            },
            "type": "carpet"
           }
          ],
          "choropleth": [
           {
            "colorbar": {
             "outlinewidth": 0,
             "ticks": ""
            },
            "type": "choropleth"
           }
          ],
          "contour": [
           {
            "colorbar": {
             "outlinewidth": 0,
             "ticks": ""
            },
            "colorscale": [
             [
              0,
              "#0d0887"
             ],
             [
              0.1111111111111111,
              "#46039f"
             ],
             [
              0.2222222222222222,
              "#7201a8"
             ],
             [
              0.3333333333333333,
              "#9c179e"
             ],
             [
              0.4444444444444444,
              "#bd3786"
             ],
             [
              0.5555555555555556,
              "#d8576b"
             ],
             [
              0.6666666666666666,
              "#ed7953"
             ],
             [
              0.7777777777777778,
              "#fb9f3a"
             ],
             [
              0.8888888888888888,
              "#fdca26"
             ],
             [
              1,
              "#f0f921"
             ]
            ],
            "type": "contour"
           }
          ],
          "contourcarpet": [
           {
            "colorbar": {
             "outlinewidth": 0,
             "ticks": ""
            },
            "type": "contourcarpet"
           }
          ],
          "heatmap": [
           {
            "colorbar": {
             "outlinewidth": 0,
             "ticks": ""
            },
            "colorscale": [
             [
              0,
              "#0d0887"
             ],
             [
              0.1111111111111111,
              "#46039f"
             ],
             [
              0.2222222222222222,
              "#7201a8"
             ],
             [
              0.3333333333333333,
              "#9c179e"
             ],
             [
              0.4444444444444444,
              "#bd3786"
             ],
             [
              0.5555555555555556,
              "#d8576b"
             ],
             [
              0.6666666666666666,
              "#ed7953"
             ],
             [
              0.7777777777777778,
              "#fb9f3a"
             ],
             [
              0.8888888888888888,
              "#fdca26"
             ],
             [
              1,
              "#f0f921"
             ]
            ],
            "type": "heatmap"
           }
          ],
          "heatmapgl": [
           {
            "colorbar": {
             "outlinewidth": 0,
             "ticks": ""
            },
            "colorscale": [
             [
              0,
              "#0d0887"
             ],
             [
              0.1111111111111111,
              "#46039f"
             ],
             [
              0.2222222222222222,
              "#7201a8"
             ],
             [
              0.3333333333333333,
              "#9c179e"
             ],
             [
              0.4444444444444444,
              "#bd3786"
             ],
             [
              0.5555555555555556,
              "#d8576b"
             ],
             [
              0.6666666666666666,
              "#ed7953"
             ],
             [
              0.7777777777777778,
              "#fb9f3a"
             ],
             [
              0.8888888888888888,
              "#fdca26"
             ],
             [
              1,
              "#f0f921"
             ]
            ],
            "type": "heatmapgl"
           }
          ],
          "histogram": [
           {
            "marker": {
             "colorbar": {
              "outlinewidth": 0,
              "ticks": ""
             }
            },
            "type": "histogram"
           }
          ],
          "histogram2d": [
           {
            "colorbar": {
             "outlinewidth": 0,
             "ticks": ""
            },
            "colorscale": [
             [
              0,
              "#0d0887"
             ],
             [
              0.1111111111111111,
              "#46039f"
             ],
             [
              0.2222222222222222,
              "#7201a8"
             ],
             [
              0.3333333333333333,
              "#9c179e"
             ],
             [
              0.4444444444444444,
              "#bd3786"
             ],
             [
              0.5555555555555556,
              "#d8576b"
             ],
             [
              0.6666666666666666,
              "#ed7953"
             ],
             [
              0.7777777777777778,
              "#fb9f3a"
             ],
             [
              0.8888888888888888,
              "#fdca26"
             ],
             [
              1,
              "#f0f921"
             ]
            ],
            "type": "histogram2d"
           }
          ],
          "histogram2dcontour": [
           {
            "colorbar": {
             "outlinewidth": 0,
             "ticks": ""
            },
            "colorscale": [
             [
              0,
              "#0d0887"
             ],
             [
              0.1111111111111111,
              "#46039f"
             ],
             [
              0.2222222222222222,
              "#7201a8"
             ],
             [
              0.3333333333333333,
              "#9c179e"
             ],
             [
              0.4444444444444444,
              "#bd3786"
             ],
             [
              0.5555555555555556,
              "#d8576b"
             ],
             [
              0.6666666666666666,
              "#ed7953"
             ],
             [
              0.7777777777777778,
              "#fb9f3a"
             ],
             [
              0.8888888888888888,
              "#fdca26"
             ],
             [
              1,
              "#f0f921"
             ]
            ],
            "type": "histogram2dcontour"
           }
          ],
          "mesh3d": [
           {
            "colorbar": {
             "outlinewidth": 0,
             "ticks": ""
            },
            "type": "mesh3d"
           }
          ],
          "parcoords": [
           {
            "line": {
             "colorbar": {
              "outlinewidth": 0,
              "ticks": ""
             }
            },
            "type": "parcoords"
           }
          ],
          "pie": [
           {
            "automargin": true,
            "type": "pie"
           }
          ],
          "scatter": [
           {
            "marker": {
             "colorbar": {
              "outlinewidth": 0,
              "ticks": ""
             }
            },
            "type": "scatter"
           }
          ],
          "scatter3d": [
           {
            "line": {
             "colorbar": {
              "outlinewidth": 0,
              "ticks": ""
             }
            },
            "marker": {
             "colorbar": {
              "outlinewidth": 0,
              "ticks": ""
             }
            },
            "type": "scatter3d"
           }
          ],
          "scattercarpet": [
           {
            "marker": {
             "colorbar": {
              "outlinewidth": 0,
              "ticks": ""
             }
            },
            "type": "scattercarpet"
           }
          ],
          "scattergeo": [
           {
            "marker": {
             "colorbar": {
              "outlinewidth": 0,
              "ticks": ""
             }
            },
            "type": "scattergeo"
           }
          ],
          "scattergl": [
           {
            "marker": {
             "colorbar": {
              "outlinewidth": 0,
              "ticks": ""
             }
            },
            "type": "scattergl"
           }
          ],
          "scattermapbox": [
           {
            "marker": {
             "colorbar": {
              "outlinewidth": 0,
              "ticks": ""
             }
            },
            "type": "scattermapbox"
           }
          ],
          "scatterpolar": [
           {
            "marker": {
             "colorbar": {
              "outlinewidth": 0,
              "ticks": ""
             }
            },
            "type": "scatterpolar"
           }
          ],
          "scatterpolargl": [
           {
            "marker": {
             "colorbar": {
              "outlinewidth": 0,
              "ticks": ""
             }
            },
            "type": "scatterpolargl"
           }
          ],
          "scatterternary": [
           {
            "marker": {
             "colorbar": {
              "outlinewidth": 0,
              "ticks": ""
             }
            },
            "type": "scatterternary"
           }
          ],
          "surface": [
           {
            "colorbar": {
             "outlinewidth": 0,
             "ticks": ""
            },
            "colorscale": [
             [
              0,
              "#0d0887"
             ],
             [
              0.1111111111111111,
              "#46039f"
             ],
             [
              0.2222222222222222,
              "#7201a8"
             ],
             [
              0.3333333333333333,
              "#9c179e"
             ],
             [
              0.4444444444444444,
              "#bd3786"
             ],
             [
              0.5555555555555556,
              "#d8576b"
             ],
             [
              0.6666666666666666,
              "#ed7953"
             ],
             [
              0.7777777777777778,
              "#fb9f3a"
             ],
             [
              0.8888888888888888,
              "#fdca26"
             ],
             [
              1,
              "#f0f921"
             ]
            ],
            "type": "surface"
           }
          ],
          "table": [
           {
            "cells": {
             "fill": {
              "color": "#EBF0F8"
             },
             "line": {
              "color": "white"
             }
            },
            "header": {
             "fill": {
              "color": "#C8D4E3"
             },
             "line": {
              "color": "white"
             }
            },
            "type": "table"
           }
          ]
         },
         "layout": {
          "annotationdefaults": {
           "arrowcolor": "#2a3f5f",
           "arrowhead": 0,
           "arrowwidth": 1
          },
          "autotypenumbers": "strict",
          "coloraxis": {
           "colorbar": {
            "outlinewidth": 0,
            "ticks": ""
           }
          },
          "colorscale": {
           "diverging": [
            [
             0,
             "#8e0152"
            ],
            [
             0.1,
             "#c51b7d"
            ],
            [
             0.2,
             "#de77ae"
            ],
            [
             0.3,
             "#f1b6da"
            ],
            [
             0.4,
             "#fde0ef"
            ],
            [
             0.5,
             "#f7f7f7"
            ],
            [
             0.6,
             "#e6f5d0"
            ],
            [
             0.7,
             "#b8e186"
            ],
            [
             0.8,
             "#7fbc41"
            ],
            [
             0.9,
             "#4d9221"
            ],
            [
             1,
             "#276419"
            ]
           ],
           "sequential": [
            [
             0,
             "#0d0887"
            ],
            [
             0.1111111111111111,
             "#46039f"
            ],
            [
             0.2222222222222222,
             "#7201a8"
            ],
            [
             0.3333333333333333,
             "#9c179e"
            ],
            [
             0.4444444444444444,
             "#bd3786"
            ],
            [
             0.5555555555555556,
             "#d8576b"
            ],
            [
             0.6666666666666666,
             "#ed7953"
            ],
            [
             0.7777777777777778,
             "#fb9f3a"
            ],
            [
             0.8888888888888888,
             "#fdca26"
            ],
            [
             1,
             "#f0f921"
            ]
           ],
           "sequentialminus": [
            [
             0,
             "#0d0887"
            ],
            [
             0.1111111111111111,
             "#46039f"
            ],
            [
             0.2222222222222222,
             "#7201a8"
            ],
            [
             0.3333333333333333,
             "#9c179e"
            ],
            [
             0.4444444444444444,
             "#bd3786"
            ],
            [
             0.5555555555555556,
             "#d8576b"
            ],
            [
             0.6666666666666666,
             "#ed7953"
            ],
            [
             0.7777777777777778,
             "#fb9f3a"
            ],
            [
             0.8888888888888888,
             "#fdca26"
            ],
            [
             1,
             "#f0f921"
            ]
           ]
          },
          "colorway": [
           "#636efa",
           "#EF553B",
           "#00cc96",
           "#ab63fa",
           "#FFA15A",
           "#19d3f3",
           "#FF6692",
           "#B6E880",
           "#FF97FF",
           "#FECB52"
          ],
          "font": {
           "color": "#2a3f5f"
          },
          "geo": {
           "bgcolor": "white",
           "lakecolor": "white",
           "landcolor": "#E5ECF6",
           "showlakes": true,
           "showland": true,
           "subunitcolor": "white"
          },
          "hoverlabel": {
           "align": "left"
          },
          "hovermode": "closest",
          "mapbox": {
           "style": "light"
          },
          "paper_bgcolor": "white",
          "plot_bgcolor": "#E5ECF6",
          "polar": {
           "angularaxis": {
            "gridcolor": "white",
            "linecolor": "white",
            "ticks": ""
           },
           "bgcolor": "#E5ECF6",
           "radialaxis": {
            "gridcolor": "white",
            "linecolor": "white",
            "ticks": ""
           }
          },
          "scene": {
           "xaxis": {
            "backgroundcolor": "#E5ECF6",
            "gridcolor": "white",
            "gridwidth": 2,
            "linecolor": "white",
            "showbackground": true,
            "ticks": "",
            "zerolinecolor": "white"
           },
           "yaxis": {
            "backgroundcolor": "#E5ECF6",
            "gridcolor": "white",
            "gridwidth": 2,
            "linecolor": "white",
            "showbackground": true,
            "ticks": "",
            "zerolinecolor": "white"
           },
           "zaxis": {
            "backgroundcolor": "#E5ECF6",
            "gridcolor": "white",
            "gridwidth": 2,
            "linecolor": "white",
            "showbackground": true,
            "ticks": "",
            "zerolinecolor": "white"
           }
          },
          "shapedefaults": {
           "line": {
            "color": "#2a3f5f"
           }
          },
          "ternary": {
           "aaxis": {
            "gridcolor": "white",
            "linecolor": "white",
            "ticks": ""
           },
           "baxis": {
            "gridcolor": "white",
            "linecolor": "white",
            "ticks": ""
           },
           "bgcolor": "#E5ECF6",
           "caxis": {
            "gridcolor": "white",
            "linecolor": "white",
            "ticks": ""
           }
          },
          "title": {
           "x": 0.05
          },
          "xaxis": {
           "automargin": true,
           "gridcolor": "white",
           "linecolor": "white",
           "ticks": "",
           "title": {
            "standoff": 15
           },
           "zerolinecolor": "white",
           "zerolinewidth": 2
          },
          "yaxis": {
           "automargin": true,
           "gridcolor": "white",
           "linecolor": "white",
           "ticks": "",
           "title": {
            "standoff": 15
           },
           "zerolinecolor": "white",
           "zerolinewidth": 2
          }
         }
        },
        "title": {
         "font": {
          "color": "#4D5663"
         }
        },
        "xaxis": {
         "gridcolor": "#E1E5ED",
         "showgrid": true,
         "tickfont": {
          "color": "#4D5663"
         },
         "title": {
          "font": {
           "color": "#4D5663"
          },
          "text": ""
         },
         "zerolinecolor": "#E1E5ED"
        },
        "yaxis": {
         "gridcolor": "#E1E5ED",
         "showgrid": true,
         "tickfont": {
          "color": "#4D5663"
         },
         "title": {
          "font": {
           "color": "#4D5663"
          },
          "text": ""
         },
         "zerolinecolor": "#E1E5ED"
        }
       }
      },
      "text/html": [
       "<div>                            <div id=\"119815bd-2777-4d48-a9de-951ed9cba24d\" class=\"plotly-graph-div\" style=\"height:525px; width:100%;\"></div>            <script type=\"text/javascript\">                require([\"plotly\"], function(Plotly) {                    window.PLOTLYENV=window.PLOTLYENV || {};\n",
       "                    window.PLOTLYENV.BASE_URL='https://plot.ly';                                    if (document.getElementById(\"119815bd-2777-4d48-a9de-951ed9cba24d\")) {                    Plotly.newPlot(                        \"119815bd-2777-4d48-a9de-951ed9cba24d\",                        [{\"line\": {\"color\": \"rgba(255, 153, 51, 1.0)\", \"dash\": \"solid\", \"shape\": \"linear\", \"width\": 1.3}, \"marker\": {\"size\": 12, \"symbol\": \"circle\"}, \"mode\": \"markers\", \"name\": \"b\", \"text\": \"\", \"type\": \"scatter\", \"x\": [0.31441513431481705, 0.757834543337892, 0.7742631153157491, 0.2504749726759551, 0.8620110639932879, 0.09461017156051088, 0.2431385930413701, 0.49302985151321654, 0.4352595632960975, 0.7038578030179201, 0.8763487875848481, 0.7339318188327008, 0.08867558921357765, 0.5269614406224346, 0.356275786244831, 0.17016731530101203, 0.2423048288125873, 0.4111227209876712, 0.14573547927966135, 0.7691067452863537, 0.6182783722870339, 0.4553900130709443, 0.9634798787242008, 0.7268137882797039, 0.9064672511679027, 0.46720656865433974, 0.8975690934048267, 0.24765184509039917, 0.4428287868918138, 0.02656045645726124, 0.2886780331635713, 0.6309188505735734, 0.07533692365640021, 0.6373464490241852, 0.9180593690729929, 0.21320227699998107, 0.6716488514003408, 0.9862020477070677, 0.5374153525740248, 0.1659066591831575, 0.178843512780963, 0.007065448206866387, 0.2495013400101137, 0.5491518071463409, 0.44950513382084123, 0.8863120727005669, 0.8263569615702878, 0.9693353694169362, 0.020163089922364374, 0.1447071164960515, 0.839401113193094, 0.8753339851455629, 0.2571436140350003, 0.36053873689348304, 0.36834777364157667, 0.6914522835899672, 0.9340058886272473, 0.21628140051543754, 0.03202002914769875, 0.7425856641057595, 0.40240770796636394, 0.7486304917900775, 0.7085745446496139, 0.3792210339279678, 0.7545593384713679, 0.42385422697506614, 0.3694510410095284, 0.7195057782998479, 0.92539638599149, 0.4991726633008787, 0.5411874808228686, 0.07068192253094652, 0.3594018608895382, 0.20061653817673852, 0.051699956979526784, 0.7020406412986379, 0.11538875720927677, 0.6367916778061834, 0.8661088182591468, 0.17543672407091393, 0.3898497090569648, 0.7481925976798725, 0.9861192368806755, 0.9506440115659714, 0.08403115679414075, 0.5672796888648002, 0.100405335077413, 0.5668333698701895, 0.7461272968353109, 0.12330317300432292, 0.5876052552420042, 0.027220283105312437, 0.8777367998451803, 0.5403591790658719, 0.384728723313121, 0.035217680376770866, 0.24708781226136767, 0.1839268436538145, 0.8144321283385751, 0.9596911227012808], \"y\": [0.909251239535944, 0.8719807966046423, 0.9263581725467491, 0.5302357088005757, 0.7160455499446902, 0.11755981147160888, 0.9243400802205453, 0.6048310337209619, 0.99848911627027, 0.997818923010017, 0.958715568880708, 0.14470409741746926, 0.32490655516882205, 0.8259740691202068, 0.5449674010652735, 0.1179819340439443, 0.6470803076640727, 0.2371544001437944, 0.3944147078093092, 0.4553017979843986, 0.6279575429476555, 0.05722258804547986, 0.8531392481614021, 0.6052735062313108, 0.271933660010758, 0.44721239365275367, 0.9309212413090223, 0.19481999231733804, 0.5477063581220064, 0.17664460367893475, 0.1479970311467077, 0.2298546199156265, 0.5846765046516161, 0.8383754795729068, 0.7385964840206619, 0.32369168939120496, 0.8086752919227206, 0.2935415810630594, 0.1009992474020679, 0.5746206937317837, 0.7464924845416215, 0.9821924221253854, 0.5979720756547672, 0.4247219273881223, 0.932846005920277, 0.3678338350490642, 0.01502406435085879, 0.8231141056636773, 0.3577245368455766, 0.6429206757382323, 0.5907511289623674, 0.8707306829377549, 0.6425281851509483, 0.7852404369090897, 0.006404843543884486, 0.5495791221725458, 0.5981302893634367, 0.6925879522810264, 0.8402415708910494, 0.04064876137123341, 0.3500904355095926, 0.6336624538203731, 0.7992231713719854, 0.9031646404624668, 0.4352182794736966, 0.18222806430140004, 0.607007928306649, 0.8428862530174219, 0.5703318693353945, 0.640603890857624, 0.29273746319372085, 0.36274599719097755, 0.8702770686839479, 0.9492850513929987, 0.5661295373744326, 0.3851122958268606, 0.684729733346108, 0.9891947005226956, 0.15362270036614767, 0.82270042632811, 0.2483082472919772, 0.10956932064545177, 0.223449153978462, 0.6398654351478958, 0.7769580602854608, 0.2236671679809179, 0.37151257431193796, 0.9132297024351401, 0.5072130284391141, 0.7677028136188366, 0.691500635465313, 0.5360600096041178, 0.05347991507119565, 0.2973993960104748, 0.8337169057872624, 0.7521279691575821, 0.29865293199106036, 0.1982999248249404, 0.5922575533056015, 0.9106797400072707]}],                        {\"legend\": {\"bgcolor\": \"#F5F6F9\", \"font\": {\"color\": \"#4D5663\"}}, \"paper_bgcolor\": \"#F5F6F9\", \"plot_bgcolor\": \"#F5F6F9\", \"template\": {\"data\": {\"bar\": [{\"error_x\": {\"color\": \"#2a3f5f\"}, \"error_y\": {\"color\": \"#2a3f5f\"}, \"marker\": {\"line\": {\"color\": \"#E5ECF6\", \"width\": 0.5}}, \"type\": \"bar\"}], \"barpolar\": [{\"marker\": {\"line\": {\"color\": \"#E5ECF6\", \"width\": 0.5}}, \"type\": \"barpolar\"}], \"carpet\": [{\"aaxis\": {\"endlinecolor\": \"#2a3f5f\", \"gridcolor\": \"white\", \"linecolor\": \"white\", \"minorgridcolor\": \"white\", \"startlinecolor\": \"#2a3f5f\"}, \"baxis\": {\"endlinecolor\": \"#2a3f5f\", \"gridcolor\": \"white\", \"linecolor\": \"white\", \"minorgridcolor\": \"white\", \"startlinecolor\": \"#2a3f5f\"}, \"type\": \"carpet\"}], \"choropleth\": [{\"colorbar\": {\"outlinewidth\": 0, \"ticks\": \"\"}, \"type\": \"choropleth\"}], \"contour\": [{\"colorbar\": {\"outlinewidth\": 0, \"ticks\": \"\"}, \"colorscale\": [[0.0, \"#0d0887\"], [0.1111111111111111, \"#46039f\"], [0.2222222222222222, \"#7201a8\"], [0.3333333333333333, \"#9c179e\"], [0.4444444444444444, \"#bd3786\"], [0.5555555555555556, \"#d8576b\"], [0.6666666666666666, \"#ed7953\"], [0.7777777777777778, \"#fb9f3a\"], [0.8888888888888888, \"#fdca26\"], [1.0, \"#f0f921\"]], \"type\": \"contour\"}], \"contourcarpet\": [{\"colorbar\": {\"outlinewidth\": 0, \"ticks\": \"\"}, \"type\": \"contourcarpet\"}], \"heatmap\": [{\"colorbar\": {\"outlinewidth\": 0, \"ticks\": \"\"}, \"colorscale\": [[0.0, \"#0d0887\"], [0.1111111111111111, \"#46039f\"], [0.2222222222222222, \"#7201a8\"], [0.3333333333333333, \"#9c179e\"], [0.4444444444444444, \"#bd3786\"], [0.5555555555555556, \"#d8576b\"], [0.6666666666666666, \"#ed7953\"], [0.7777777777777778, \"#fb9f3a\"], [0.8888888888888888, \"#fdca26\"], [1.0, \"#f0f921\"]], \"type\": \"heatmap\"}], \"heatmapgl\": [{\"colorbar\": {\"outlinewidth\": 0, \"ticks\": \"\"}, \"colorscale\": [[0.0, \"#0d0887\"], [0.1111111111111111, \"#46039f\"], [0.2222222222222222, \"#7201a8\"], [0.3333333333333333, \"#9c179e\"], [0.4444444444444444, \"#bd3786\"], [0.5555555555555556, \"#d8576b\"], [0.6666666666666666, \"#ed7953\"], [0.7777777777777778, \"#fb9f3a\"], [0.8888888888888888, \"#fdca26\"], [1.0, \"#f0f921\"]], \"type\": \"heatmapgl\"}], \"histogram\": [{\"marker\": {\"colorbar\": {\"outlinewidth\": 0, \"ticks\": \"\"}}, \"type\": \"histogram\"}], \"histogram2d\": [{\"colorbar\": {\"outlinewidth\": 0, \"ticks\": \"\"}, \"colorscale\": [[0.0, \"#0d0887\"], [0.1111111111111111, \"#46039f\"], [0.2222222222222222, \"#7201a8\"], [0.3333333333333333, \"#9c179e\"], [0.4444444444444444, \"#bd3786\"], [0.5555555555555556, \"#d8576b\"], [0.6666666666666666, \"#ed7953\"], [0.7777777777777778, \"#fb9f3a\"], [0.8888888888888888, \"#fdca26\"], [1.0, \"#f0f921\"]], \"type\": \"histogram2d\"}], \"histogram2dcontour\": [{\"colorbar\": {\"outlinewidth\": 0, \"ticks\": \"\"}, \"colorscale\": [[0.0, \"#0d0887\"], [0.1111111111111111, \"#46039f\"], [0.2222222222222222, \"#7201a8\"], [0.3333333333333333, \"#9c179e\"], [0.4444444444444444, \"#bd3786\"], [0.5555555555555556, \"#d8576b\"], [0.6666666666666666, \"#ed7953\"], [0.7777777777777778, \"#fb9f3a\"], [0.8888888888888888, \"#fdca26\"], [1.0, \"#f0f921\"]], \"type\": \"histogram2dcontour\"}], \"mesh3d\": [{\"colorbar\": {\"outlinewidth\": 0, \"ticks\": \"\"}, \"type\": \"mesh3d\"}], \"parcoords\": [{\"line\": {\"colorbar\": {\"outlinewidth\": 0, \"ticks\": \"\"}}, \"type\": \"parcoords\"}], \"pie\": [{\"automargin\": true, \"type\": \"pie\"}], \"scatter\": [{\"marker\": {\"colorbar\": {\"outlinewidth\": 0, \"ticks\": \"\"}}, \"type\": \"scatter\"}], \"scatter3d\": [{\"line\": {\"colorbar\": {\"outlinewidth\": 0, \"ticks\": \"\"}}, \"marker\": {\"colorbar\": {\"outlinewidth\": 0, \"ticks\": \"\"}}, \"type\": \"scatter3d\"}], \"scattercarpet\": [{\"marker\": {\"colorbar\": {\"outlinewidth\": 0, \"ticks\": \"\"}}, \"type\": \"scattercarpet\"}], \"scattergeo\": [{\"marker\": {\"colorbar\": {\"outlinewidth\": 0, \"ticks\": \"\"}}, \"type\": \"scattergeo\"}], \"scattergl\": [{\"marker\": {\"colorbar\": {\"outlinewidth\": 0, \"ticks\": \"\"}}, \"type\": \"scattergl\"}], \"scattermapbox\": [{\"marker\": {\"colorbar\": {\"outlinewidth\": 0, \"ticks\": \"\"}}, \"type\": \"scattermapbox\"}], \"scatterpolar\": [{\"marker\": {\"colorbar\": {\"outlinewidth\": 0, \"ticks\": \"\"}}, \"type\": \"scatterpolar\"}], \"scatterpolargl\": [{\"marker\": {\"colorbar\": {\"outlinewidth\": 0, \"ticks\": \"\"}}, \"type\": \"scatterpolargl\"}], \"scatterternary\": [{\"marker\": {\"colorbar\": {\"outlinewidth\": 0, \"ticks\": \"\"}}, \"type\": \"scatterternary\"}], \"surface\": [{\"colorbar\": {\"outlinewidth\": 0, \"ticks\": \"\"}, \"colorscale\": [[0.0, \"#0d0887\"], [0.1111111111111111, \"#46039f\"], [0.2222222222222222, \"#7201a8\"], [0.3333333333333333, \"#9c179e\"], [0.4444444444444444, \"#bd3786\"], [0.5555555555555556, \"#d8576b\"], [0.6666666666666666, \"#ed7953\"], [0.7777777777777778, \"#fb9f3a\"], [0.8888888888888888, \"#fdca26\"], [1.0, \"#f0f921\"]], \"type\": \"surface\"}], \"table\": [{\"cells\": {\"fill\": {\"color\": \"#EBF0F8\"}, \"line\": {\"color\": \"white\"}}, \"header\": {\"fill\": {\"color\": \"#C8D4E3\"}, \"line\": {\"color\": \"white\"}}, \"type\": \"table\"}]}, \"layout\": {\"annotationdefaults\": {\"arrowcolor\": \"#2a3f5f\", \"arrowhead\": 0, \"arrowwidth\": 1}, \"autotypenumbers\": \"strict\", \"coloraxis\": {\"colorbar\": {\"outlinewidth\": 0, \"ticks\": \"\"}}, \"colorscale\": {\"diverging\": [[0, \"#8e0152\"], [0.1, \"#c51b7d\"], [0.2, \"#de77ae\"], [0.3, \"#f1b6da\"], [0.4, \"#fde0ef\"], [0.5, \"#f7f7f7\"], [0.6, \"#e6f5d0\"], [0.7, \"#b8e186\"], [0.8, \"#7fbc41\"], [0.9, \"#4d9221\"], [1, \"#276419\"]], \"sequential\": [[0.0, \"#0d0887\"], [0.1111111111111111, \"#46039f\"], [0.2222222222222222, \"#7201a8\"], [0.3333333333333333, \"#9c179e\"], [0.4444444444444444, \"#bd3786\"], [0.5555555555555556, \"#d8576b\"], [0.6666666666666666, \"#ed7953\"], [0.7777777777777778, \"#fb9f3a\"], [0.8888888888888888, \"#fdca26\"], [1.0, \"#f0f921\"]], \"sequentialminus\": [[0.0, \"#0d0887\"], [0.1111111111111111, \"#46039f\"], [0.2222222222222222, \"#7201a8\"], [0.3333333333333333, \"#9c179e\"], [0.4444444444444444, \"#bd3786\"], [0.5555555555555556, \"#d8576b\"], [0.6666666666666666, \"#ed7953\"], [0.7777777777777778, \"#fb9f3a\"], [0.8888888888888888, \"#fdca26\"], [1.0, \"#f0f921\"]]}, \"colorway\": [\"#636efa\", \"#EF553B\", \"#00cc96\", \"#ab63fa\", \"#FFA15A\", \"#19d3f3\", \"#FF6692\", \"#B6E880\", \"#FF97FF\", \"#FECB52\"], \"font\": {\"color\": \"#2a3f5f\"}, \"geo\": {\"bgcolor\": \"white\", \"lakecolor\": \"white\", \"landcolor\": \"#E5ECF6\", \"showlakes\": true, \"showland\": true, \"subunitcolor\": \"white\"}, \"hoverlabel\": {\"align\": \"left\"}, \"hovermode\": \"closest\", \"mapbox\": {\"style\": \"light\"}, \"paper_bgcolor\": \"white\", \"plot_bgcolor\": \"#E5ECF6\", \"polar\": {\"angularaxis\": {\"gridcolor\": \"white\", \"linecolor\": \"white\", \"ticks\": \"\"}, \"bgcolor\": \"#E5ECF6\", \"radialaxis\": {\"gridcolor\": \"white\", \"linecolor\": \"white\", \"ticks\": \"\"}}, \"scene\": {\"xaxis\": {\"backgroundcolor\": \"#E5ECF6\", \"gridcolor\": \"white\", \"gridwidth\": 2, \"linecolor\": \"white\", \"showbackground\": true, \"ticks\": \"\", \"zerolinecolor\": \"white\"}, \"yaxis\": {\"backgroundcolor\": \"#E5ECF6\", \"gridcolor\": \"white\", \"gridwidth\": 2, \"linecolor\": \"white\", \"showbackground\": true, \"ticks\": \"\", \"zerolinecolor\": \"white\"}, \"zaxis\": {\"backgroundcolor\": \"#E5ECF6\", \"gridcolor\": \"white\", \"gridwidth\": 2, \"linecolor\": \"white\", \"showbackground\": true, \"ticks\": \"\", \"zerolinecolor\": \"white\"}}, \"shapedefaults\": {\"line\": {\"color\": \"#2a3f5f\"}}, \"ternary\": {\"aaxis\": {\"gridcolor\": \"white\", \"linecolor\": \"white\", \"ticks\": \"\"}, \"baxis\": {\"gridcolor\": \"white\", \"linecolor\": \"white\", \"ticks\": \"\"}, \"bgcolor\": \"#E5ECF6\", \"caxis\": {\"gridcolor\": \"white\", \"linecolor\": \"white\", \"ticks\": \"\"}}, \"title\": {\"x\": 0.05}, \"xaxis\": {\"automargin\": true, \"gridcolor\": \"white\", \"linecolor\": \"white\", \"ticks\": \"\", \"title\": {\"standoff\": 15}, \"zerolinecolor\": \"white\", \"zerolinewidth\": 2}, \"yaxis\": {\"automargin\": true, \"gridcolor\": \"white\", \"linecolor\": \"white\", \"ticks\": \"\", \"title\": {\"standoff\": 15}, \"zerolinecolor\": \"white\", \"zerolinewidth\": 2}}}, \"title\": {\"font\": {\"color\": \"#4D5663\"}}, \"xaxis\": {\"gridcolor\": \"#E1E5ED\", \"showgrid\": true, \"tickfont\": {\"color\": \"#4D5663\"}, \"title\": {\"font\": {\"color\": \"#4D5663\"}, \"text\": \"\"}, \"zerolinecolor\": \"#E1E5ED\"}, \"yaxis\": {\"gridcolor\": \"#E1E5ED\", \"showgrid\": true, \"tickfont\": {\"color\": \"#4D5663\"}, \"title\": {\"font\": {\"color\": \"#4D5663\"}, \"text\": \"\"}, \"zerolinecolor\": \"#E1E5ED\"}},                        {\"showLink\": true, \"linkText\": \"Export to plot.ly\", \"plotlyServerURL\": \"https://plot.ly\", \"responsive\": true}                    ).then(function(){\n",
       "                            \n",
       "var gd = document.getElementById('119815bd-2777-4d48-a9de-951ed9cba24d');\n",
       "var x = new MutationObserver(function (mutations, observer) {{\n",
       "        var display = window.getComputedStyle(gd).display;\n",
       "        if (!display || display === 'none') {{\n",
       "            console.log([gd, 'removed!']);\n",
       "            Plotly.purge(gd);\n",
       "            observer.disconnect();\n",
       "        }}\n",
       "}});\n",
       "\n",
       "// Listen for the removal of the full notebook cells\n",
       "var notebookContainer = gd.closest('#notebook-container');\n",
       "if (notebookContainer) {{\n",
       "    x.observe(notebookContainer, {childList: true});\n",
       "}}\n",
       "\n",
       "// Listen for the clearing of the current output cell\n",
       "var outputEl = gd.closest('.output');\n",
       "if (outputEl) {{\n",
       "    x.observe(outputEl, {childList: true});\n",
       "}}\n",
       "\n",
       "                        })                };                });            </script>        </div>"
      ]
     },
     "metadata": {},
     "output_type": "display_data"
    }
   ],
   "source": [
    "df.iplot(kind='scatter', x='a', y='b', mode='markers')"
   ]
  },
  {
   "cell_type": "code",
   "execution_count": 14,
   "metadata": {
    "scrolled": true
   },
   "outputs": [
    {
     "data": {
      "application/vnd.plotly.v1+json": {
       "config": {
        "linkText": "Export to plot.ly",
        "plotlyServerURL": "https://plot.ly",
        "showLink": true
       },
       "data": [
        {
         "colorscale": [
          [
           0,
           "rgb(255, 153, 51)"
          ],
          [
           0.1111111111111111,
           "rgb(55, 128, 191)"
          ],
          [
           0.2222222222222222,
           "rgb(50, 171, 96)"
          ],
          [
           0.3333333333333333,
           "rgb(128, 0, 128)"
          ],
          [
           0.4444444444444444,
           "rgb(219, 64, 82)"
          ],
          [
           0.5555555555555556,
           "rgb(0, 128, 128)"
          ],
          [
           0.6666666666666666,
           "rgb(255, 255, 51)"
          ],
          [
           0.7777777777777778,
           "rgb(128, 128, 0)"
          ],
          [
           0.8888888888888888,
           "rgb(251, 128, 114)"
          ],
          [
           1,
           "rgb(128, 177, 211)"
          ]
         ],
         "type": "surface",
         "x": [
          0,
          1,
          2,
          3,
          4,
          5,
          6,
          7,
          8,
          9,
          10,
          11,
          12,
          13,
          14,
          15,
          16,
          17,
          18,
          19,
          20,
          21,
          22,
          23,
          24,
          25,
          26,
          27,
          28,
          29,
          30,
          31,
          32,
          33,
          34,
          35,
          36,
          37,
          38,
          39,
          40,
          41,
          42,
          43,
          44,
          45,
          46,
          47,
          48,
          49,
          50,
          51,
          52,
          53,
          54,
          55,
          56,
          57,
          58,
          59,
          60,
          61,
          62,
          63,
          64,
          65,
          66,
          67,
          68,
          69,
          70,
          71,
          72,
          73,
          74,
          75,
          76,
          77,
          78,
          79,
          80,
          81,
          82,
          83,
          84,
          85,
          86,
          87,
          88,
          89,
          90,
          91,
          92,
          93,
          94,
          95,
          96,
          97,
          98,
          99
         ],
         "y": [
          "a",
          "b",
          "c",
          "d",
          "e"
         ],
         "z": [
          [
           0.31441513431481705,
           0.757834543337892,
           0.7742631153157491,
           0.2504749726759551,
           0.8620110639932879,
           0.09461017156051088,
           0.2431385930413701,
           0.49302985151321654,
           0.4352595632960975,
           0.7038578030179201,
           0.8763487875848481,
           0.7339318188327008,
           0.08867558921357765,
           0.5269614406224346,
           0.356275786244831,
           0.17016731530101203,
           0.2423048288125873,
           0.4111227209876712,
           0.14573547927966135,
           0.7691067452863537,
           0.6182783722870339,
           0.4553900130709443,
           0.9634798787242008,
           0.7268137882797039,
           0.9064672511679027,
           0.46720656865433974,
           0.8975690934048267,
           0.24765184509039917,
           0.4428287868918138,
           0.02656045645726124,
           0.2886780331635713,
           0.6309188505735734,
           0.07533692365640021,
           0.6373464490241852,
           0.9180593690729929,
           0.21320227699998107,
           0.6716488514003408,
           0.9862020477070677,
           0.5374153525740248,
           0.1659066591831575,
           0.178843512780963,
           0.007065448206866387,
           0.2495013400101137,
           0.5491518071463409,
           0.44950513382084123,
           0.8863120727005669,
           0.8263569615702878,
           0.9693353694169362,
           0.020163089922364374,
           0.1447071164960515,
           0.839401113193094,
           0.8753339851455629,
           0.2571436140350003,
           0.36053873689348304,
           0.36834777364157667,
           0.6914522835899672,
           0.9340058886272473,
           0.21628140051543754,
           0.03202002914769875,
           0.7425856641057595,
           0.40240770796636394,
           0.7486304917900775,
           0.7085745446496139,
           0.3792210339279678,
           0.7545593384713679,
           0.42385422697506614,
           0.3694510410095284,
           0.7195057782998479,
           0.92539638599149,
           0.4991726633008787,
           0.5411874808228686,
           0.07068192253094652,
           0.3594018608895382,
           0.20061653817673852,
           0.051699956979526784,
           0.7020406412986379,
           0.11538875720927677,
           0.6367916778061834,
           0.8661088182591468,
           0.17543672407091393,
           0.3898497090569648,
           0.7481925976798725,
           0.9861192368806755,
           0.9506440115659714,
           0.08403115679414075,
           0.5672796888648002,
           0.100405335077413,
           0.5668333698701895,
           0.7461272968353109,
           0.12330317300432292,
           0.5876052552420042,
           0.027220283105312437,
           0.8777367998451803,
           0.5403591790658719,
           0.384728723313121,
           0.035217680376770866,
           0.24708781226136767,
           0.1839268436538145,
           0.8144321283385751,
           0.9596911227012808
          ],
          [
           0.909251239535944,
           0.8719807966046423,
           0.9263581725467491,
           0.5302357088005757,
           0.7160455499446902,
           0.11755981147160888,
           0.9243400802205453,
           0.6048310337209619,
           0.99848911627027,
           0.997818923010017,
           0.958715568880708,
           0.14470409741746926,
           0.32490655516882205,
           0.8259740691202068,
           0.5449674010652735,
           0.1179819340439443,
           0.6470803076640727,
           0.2371544001437944,
           0.3944147078093092,
           0.4553017979843986,
           0.6279575429476555,
           0.05722258804547986,
           0.8531392481614021,
           0.6052735062313108,
           0.271933660010758,
           0.44721239365275367,
           0.9309212413090223,
           0.19481999231733804,
           0.5477063581220064,
           0.17664460367893475,
           0.1479970311467077,
           0.2298546199156265,
           0.5846765046516161,
           0.8383754795729068,
           0.7385964840206619,
           0.32369168939120496,
           0.8086752919227206,
           0.2935415810630594,
           0.1009992474020679,
           0.5746206937317837,
           0.7464924845416215,
           0.9821924221253854,
           0.5979720756547672,
           0.4247219273881223,
           0.932846005920277,
           0.3678338350490642,
           0.01502406435085879,
           0.8231141056636773,
           0.3577245368455766,
           0.6429206757382323,
           0.5907511289623674,
           0.8707306829377549,
           0.6425281851509483,
           0.7852404369090897,
           0.006404843543884486,
           0.5495791221725458,
           0.5981302893634367,
           0.6925879522810264,
           0.8402415708910494,
           0.04064876137123341,
           0.3500904355095926,
           0.6336624538203731,
           0.7992231713719854,
           0.9031646404624668,
           0.4352182794736966,
           0.18222806430140004,
           0.607007928306649,
           0.8428862530174219,
           0.5703318693353945,
           0.640603890857624,
           0.29273746319372085,
           0.36274599719097755,
           0.8702770686839479,
           0.9492850513929987,
           0.5661295373744326,
           0.3851122958268606,
           0.684729733346108,
           0.9891947005226956,
           0.15362270036614767,
           0.82270042632811,
           0.2483082472919772,
           0.10956932064545177,
           0.223449153978462,
           0.6398654351478958,
           0.7769580602854608,
           0.2236671679809179,
           0.37151257431193796,
           0.9132297024351401,
           0.5072130284391141,
           0.7677028136188366,
           0.691500635465313,
           0.5360600096041178,
           0.05347991507119565,
           0.2973993960104748,
           0.8337169057872624,
           0.7521279691575821,
           0.29865293199106036,
           0.1982999248249404,
           0.5922575533056015,
           0.9106797400072707
          ],
          [
           0.028247530405718813,
           0.17254928125419478,
           0.2652505659281773,
           0.300915666869782,
           0.6798722224305634,
           0.8898233871088354,
           0.5217951354887527,
           0.24141449926961267,
           0.15653422804448724,
           0.6365486633072993,
           0.7873746065410671,
           0.8651929712138772,
           0.039697077583567886,
           0.5888781791584565,
           0.7984769216247881,
           0.6504510929034076,
           0.9044772217551653,
           0.6722435587562038,
           0.9052412417291611,
           0.5951003858200249,
           0.20950964474254563,
           0.3036329869216313,
           0.4405318911552131,
           0.6123691515321473,
           0.7276327645537634,
           0.12276200611583055,
           0.618853820304931,
           0.33187483023194797,
           0.6865258255164624,
           0.4902218644127547,
           0.741654280248178,
           0.6811477892240396,
           0.6662007461991967,
           0.7453391453048279,
           0.4628463035373207,
           0.4258943945511554,
           0.9575594968342962,
           0.29503540497167824,
           0.06841229468835441,
           0.02290442522303371,
           0.4162955367255996,
           0.5878789166862862,
           0.10554884864698044,
           0.08936076452060349,
           0.23506294984165987,
           0.8688267950949355,
           0.6269605010088583,
           0.2056302974776516,
           0.585177556167756,
           0.42661994062798014,
           0.42276644355955006,
           0.9274649656993671,
           0.8418189579543383,
           0.5954033022235944,
           0.7422840250073004,
           0.9452141754276548,
           0.8096317534058268,
           0.16991464170038806,
           0.2920100533473614,
           0.4310015300294222,
           0.5641535812653017,
           0.7035896356548946,
           0.9141330880799917,
           0.562201462231937,
           0.4423891935193802,
           0.27082908014890483,
           0.900192408717217,
           0.16265313492545797,
           0.8531600193817881,
           0.3448570317110766,
           0.3924537195710327,
           0.08368833421256805,
           0.5124976574784178,
           0.544132489816705,
           0.18352720599421746,
           0.7698447487601368,
           0.5889712616335785,
           0.05234176610669916,
           0.12594190848665865,
           0.595200614110096,
           0.2747272613566645,
           0.9024111433420334,
           0.26502454927581953,
           0.8601604690161544,
           0.907980964776484,
           0.2050031352961732,
           0.6829555801797311,
           0.5140445113089126,
           0.13670119640066902,
           0.044945719007338236,
           0.23686775157864304,
           0.14804486145476115,
           0.46134266700362114,
           0.5048644968157823,
           0.9919162539770932,
           0.8465453511052655,
           0.6810505117526096,
           0.5776025131829987,
           0.44303877122874924,
           0.9686643816387196
          ],
          [
           0.7345219193043514,
           0.7711839488532781,
           0.0011630468130858773,
           0.7022766516230197,
           0.44951567354397226,
           0.4774384305355811,
           0.2766281582621646,
           0.15878672985456455,
           0.20414892137287932,
           0.693750308229213,
           0.38564767730615235,
           0.4671664875678073,
           0.7189682929737438,
           0.4068657536297434,
           0.8817861565238685,
           0.06774856183294042,
           0.8989421281346855,
           0.4039517605510732,
           0.12328336157771558,
           0.6148393358172562,
           0.07598632949740824,
           0.542513494721236,
           0.5973748990221175,
           0.5080262555274183,
           0.9411259752532537,
           0.5601324771404306,
           0.7077516909500989,
           0.6166763427826241,
           0.19297294549089739,
           0.8105588769391002,
           0.8044884124543165,
           0.52215267141675,
           0.7530798952558982,
           0.2584242910102652,
           0.5983367864239825,
           0.2101533277599753,
           0.3112452669172848,
           0.7393889123479105,
           0.6102829873075877,
           0.3344097240534786,
           0.6733216434382594,
           0.5395935994808473,
           0.7727719461069077,
           0.5835532331904226,
           0.121887699780584,
           0.1010670265885153,
           0.44162292218376553,
           0.8289747482955978,
           0.40829678271135994,
           0.1962656711928744,
           0.02255394960013979,
           0.5833216272857848,
           0.332984470386263,
           0.043917742875064336,
           0.9616641740945793,
           0.8618964339778235,
           0.20162467432131015,
           0.9628462355864106,
           0.5756128292598139,
           0.5105831248393677,
           0.7598244527065962,
           0.876171584843563,
           0.23581932101815606,
           0.9595675147104846,
           0.17577489235714383,
           0.6271404645728633,
           0.6859546637422046,
           0.6174672903504578,
           0.20922442014580667,
           0.9245477679096562,
           0.9383061251713866,
           0.8105144958009091,
           0.4870516942849139,
           0.04120628519588865,
           0.7527104010093636,
           0.9195906502038192,
           0.8029859671342613,
           0.7601068154851309,
           0.38550426648644076,
           0.3470443741913536,
           0.6295942186048243,
           0.24160575286892638,
           0.525377332063438,
           0.9620574035437817,
           0.8497397715628359,
           0.698973885463429,
           0.3136128010275031,
           0.7235634590105477,
           0.4272261377514569,
           0.35248530379063003,
           0.7998311394615695,
           0.5506719328957519,
           0.9446275112853095,
           0.3412406755181805,
           0.3090585611377683,
           0.6667623520492086,
           0.13997194095156829,
           0.07183250433910404,
           0.04152188200734608,
           0.661792684814308
          ],
          [
           0.8441482131459208,
           0.5216039062928214,
           0.576342971677043,
           0.7741677591462971,
           0.6814100715803433,
           0.33178129877319174,
           0.31305792368135366,
           0.6416326860462728,
           0.21174654489004874,
           0.07168130805911666,
           0.8527503773422891,
           0.7135067389490168,
           0.9524789039309994,
           0.690587235526413,
           0.4746464004519454,
           0.43038941033309785,
           0.4422841163996275,
           0.09878110050263589,
           0.7239585011249209,
           0.5404486483687883,
           0.9651437740351284,
           0.43054392640962347,
           0.8635136743263201,
           0.13408704364887503,
           0.3461777409085486,
           0.019081410274173094,
           0.03111167752563948,
           0.6069067569214917,
           0.643433968508191,
           0.6613391969205293,
           0.034956578247076875,
           0.495258701278673,
           0.7635526068157444,
           0.8442634968114576,
           0.7343999215040339,
           0.19485744431707075,
           0.6424333646211141,
           0.338614754092468,
           0.6189422763135657,
           0.9783676354242827,
           0.133241370369661,
           0.6612577289760788,
           0.2678089155657487,
           0.915803968158515,
           0.8271225204352407,
           0.16115970144253033,
           0.3398754216575508,
           0.2822252543440493,
           0.2611720970135324,
           0.8908629757686687,
           0.17590667717667474,
           0.9810671646522114,
           0.9207396261015776,
           0.5650920747677053,
           0.38123582058602534,
           0.10826123131207144,
           0.2681255339001105,
           0.927094588360067,
           0.144876098007235,
           0.8386009035185379,
           0.6835606346579665,
           0.045062012220492886,
           0.5534362186460304,
           0.380100323264952,
           0.9904044350352618,
           0.8531576354488493,
           0.6017908352006519,
           0.5135625012987498,
           0.39073368502768735,
           0.23844205479396896,
           0.5925873248782167,
           0.744334825411387,
           0.5103594953383878,
           0.19411218389176588,
           0.6422554278230251,
           0.7916288224552801,
           0.4243591642359438,
           0.2195410165699092,
           0.1320177104415925,
           0.962187610258314,
           0.8272062544227344,
           0.42358737806713465,
           0.5734254544562593,
           0.044196623265570945,
           0.4463720476249695,
           0.1563058570919923,
           0.47705691507475223,
           0.8367509594373888,
           0.37700569296598496,
           0.45854379304586546,
           0.9755985194540009,
           0.27465259141829823,
           0.6067032440484709,
           0.9738342209430678,
           0.22191534223739584,
           0.432340124525206,
           0.6540841633658616,
           0.8311086389337317,
           0.07090659257671827,
           0.8233577665582116
          ]
         ]
        }
       ],
       "layout": {
        "legend": {
         "bgcolor": "#F5F6F9",
         "font": {
          "color": "#4D5663"
         }
        },
        "paper_bgcolor": "#F5F6F9",
        "plot_bgcolor": "#F5F6F9",
        "template": {
         "data": {
          "bar": [
           {
            "error_x": {
             "color": "#2a3f5f"
            },
            "error_y": {
             "color": "#2a3f5f"
            },
            "marker": {
             "line": {
              "color": "#E5ECF6",
              "width": 0.5
             }
            },
            "type": "bar"
           }
          ],
          "barpolar": [
           {
            "marker": {
             "line": {
              "color": "#E5ECF6",
              "width": 0.5
             }
            },
            "type": "barpolar"
           }
          ],
          "carpet": [
           {
            "aaxis": {
             "endlinecolor": "#2a3f5f",
             "gridcolor": "white",
             "linecolor": "white",
             "minorgridcolor": "white",
             "startlinecolor": "#2a3f5f"
            },
            "baxis": {
             "endlinecolor": "#2a3f5f",
             "gridcolor": "white",
             "linecolor": "white",
             "minorgridcolor": "white",
             "startlinecolor": "#2a3f5f"
            },
            "type": "carpet"
           }
          ],
          "choropleth": [
           {
            "colorbar": {
             "outlinewidth": 0,
             "ticks": ""
            },
            "type": "choropleth"
           }
          ],
          "contour": [
           {
            "colorbar": {
             "outlinewidth": 0,
             "ticks": ""
            },
            "colorscale": [
             [
              0,
              "#0d0887"
             ],
             [
              0.1111111111111111,
              "#46039f"
             ],
             [
              0.2222222222222222,
              "#7201a8"
             ],
             [
              0.3333333333333333,
              "#9c179e"
             ],
             [
              0.4444444444444444,
              "#bd3786"
             ],
             [
              0.5555555555555556,
              "#d8576b"
             ],
             [
              0.6666666666666666,
              "#ed7953"
             ],
             [
              0.7777777777777778,
              "#fb9f3a"
             ],
             [
              0.8888888888888888,
              "#fdca26"
             ],
             [
              1,
              "#f0f921"
             ]
            ],
            "type": "contour"
           }
          ],
          "contourcarpet": [
           {
            "colorbar": {
             "outlinewidth": 0,
             "ticks": ""
            },
            "type": "contourcarpet"
           }
          ],
          "heatmap": [
           {
            "colorbar": {
             "outlinewidth": 0,
             "ticks": ""
            },
            "colorscale": [
             [
              0,
              "#0d0887"
             ],
             [
              0.1111111111111111,
              "#46039f"
             ],
             [
              0.2222222222222222,
              "#7201a8"
             ],
             [
              0.3333333333333333,
              "#9c179e"
             ],
             [
              0.4444444444444444,
              "#bd3786"
             ],
             [
              0.5555555555555556,
              "#d8576b"
             ],
             [
              0.6666666666666666,
              "#ed7953"
             ],
             [
              0.7777777777777778,
              "#fb9f3a"
             ],
             [
              0.8888888888888888,
              "#fdca26"
             ],
             [
              1,
              "#f0f921"
             ]
            ],
            "type": "heatmap"
           }
          ],
          "heatmapgl": [
           {
            "colorbar": {
             "outlinewidth": 0,
             "ticks": ""
            },
            "colorscale": [
             [
              0,
              "#0d0887"
             ],
             [
              0.1111111111111111,
              "#46039f"
             ],
             [
              0.2222222222222222,
              "#7201a8"
             ],
             [
              0.3333333333333333,
              "#9c179e"
             ],
             [
              0.4444444444444444,
              "#bd3786"
             ],
             [
              0.5555555555555556,
              "#d8576b"
             ],
             [
              0.6666666666666666,
              "#ed7953"
             ],
             [
              0.7777777777777778,
              "#fb9f3a"
             ],
             [
              0.8888888888888888,
              "#fdca26"
             ],
             [
              1,
              "#f0f921"
             ]
            ],
            "type": "heatmapgl"
           }
          ],
          "histogram": [
           {
            "marker": {
             "colorbar": {
              "outlinewidth": 0,
              "ticks": ""
             }
            },
            "type": "histogram"
           }
          ],
          "histogram2d": [
           {
            "colorbar": {
             "outlinewidth": 0,
             "ticks": ""
            },
            "colorscale": [
             [
              0,
              "#0d0887"
             ],
             [
              0.1111111111111111,
              "#46039f"
             ],
             [
              0.2222222222222222,
              "#7201a8"
             ],
             [
              0.3333333333333333,
              "#9c179e"
             ],
             [
              0.4444444444444444,
              "#bd3786"
             ],
             [
              0.5555555555555556,
              "#d8576b"
             ],
             [
              0.6666666666666666,
              "#ed7953"
             ],
             [
              0.7777777777777778,
              "#fb9f3a"
             ],
             [
              0.8888888888888888,
              "#fdca26"
             ],
             [
              1,
              "#f0f921"
             ]
            ],
            "type": "histogram2d"
           }
          ],
          "histogram2dcontour": [
           {
            "colorbar": {
             "outlinewidth": 0,
             "ticks": ""
            },
            "colorscale": [
             [
              0,
              "#0d0887"
             ],
             [
              0.1111111111111111,
              "#46039f"
             ],
             [
              0.2222222222222222,
              "#7201a8"
             ],
             [
              0.3333333333333333,
              "#9c179e"
             ],
             [
              0.4444444444444444,
              "#bd3786"
             ],
             [
              0.5555555555555556,
              "#d8576b"
             ],
             [
              0.6666666666666666,
              "#ed7953"
             ],
             [
              0.7777777777777778,
              "#fb9f3a"
             ],
             [
              0.8888888888888888,
              "#fdca26"
             ],
             [
              1,
              "#f0f921"
             ]
            ],
            "type": "histogram2dcontour"
           }
          ],
          "mesh3d": [
           {
            "colorbar": {
             "outlinewidth": 0,
             "ticks": ""
            },
            "type": "mesh3d"
           }
          ],
          "parcoords": [
           {
            "line": {
             "colorbar": {
              "outlinewidth": 0,
              "ticks": ""
             }
            },
            "type": "parcoords"
           }
          ],
          "pie": [
           {
            "automargin": true,
            "type": "pie"
           }
          ],
          "scatter": [
           {
            "marker": {
             "colorbar": {
              "outlinewidth": 0,
              "ticks": ""
             }
            },
            "type": "scatter"
           }
          ],
          "scatter3d": [
           {
            "line": {
             "colorbar": {
              "outlinewidth": 0,
              "ticks": ""
             }
            },
            "marker": {
             "colorbar": {
              "outlinewidth": 0,
              "ticks": ""
             }
            },
            "type": "scatter3d"
           }
          ],
          "scattercarpet": [
           {
            "marker": {
             "colorbar": {
              "outlinewidth": 0,
              "ticks": ""
             }
            },
            "type": "scattercarpet"
           }
          ],
          "scattergeo": [
           {
            "marker": {
             "colorbar": {
              "outlinewidth": 0,
              "ticks": ""
             }
            },
            "type": "scattergeo"
           }
          ],
          "scattergl": [
           {
            "marker": {
             "colorbar": {
              "outlinewidth": 0,
              "ticks": ""
             }
            },
            "type": "scattergl"
           }
          ],
          "scattermapbox": [
           {
            "marker": {
             "colorbar": {
              "outlinewidth": 0,
              "ticks": ""
             }
            },
            "type": "scattermapbox"
           }
          ],
          "scatterpolar": [
           {
            "marker": {
             "colorbar": {
              "outlinewidth": 0,
              "ticks": ""
             }
            },
            "type": "scatterpolar"
           }
          ],
          "scatterpolargl": [
           {
            "marker": {
             "colorbar": {
              "outlinewidth": 0,
              "ticks": ""
             }
            },
            "type": "scatterpolargl"
           }
          ],
          "scatterternary": [
           {
            "marker": {
             "colorbar": {
              "outlinewidth": 0,
              "ticks": ""
             }
            },
            "type": "scatterternary"
           }
          ],
          "surface": [
           {
            "colorbar": {
             "outlinewidth": 0,
             "ticks": ""
            },
            "colorscale": [
             [
              0,
              "#0d0887"
             ],
             [
              0.1111111111111111,
              "#46039f"
             ],
             [
              0.2222222222222222,
              "#7201a8"
             ],
             [
              0.3333333333333333,
              "#9c179e"
             ],
             [
              0.4444444444444444,
              "#bd3786"
             ],
             [
              0.5555555555555556,
              "#d8576b"
             ],
             [
              0.6666666666666666,
              "#ed7953"
             ],
             [
              0.7777777777777778,
              "#fb9f3a"
             ],
             [
              0.8888888888888888,
              "#fdca26"
             ],
             [
              1,
              "#f0f921"
             ]
            ],
            "type": "surface"
           }
          ],
          "table": [
           {
            "cells": {
             "fill": {
              "color": "#EBF0F8"
             },
             "line": {
              "color": "white"
             }
            },
            "header": {
             "fill": {
              "color": "#C8D4E3"
             },
             "line": {
              "color": "white"
             }
            },
            "type": "table"
           }
          ]
         },
         "layout": {
          "annotationdefaults": {
           "arrowcolor": "#2a3f5f",
           "arrowhead": 0,
           "arrowwidth": 1
          },
          "autotypenumbers": "strict",
          "coloraxis": {
           "colorbar": {
            "outlinewidth": 0,
            "ticks": ""
           }
          },
          "colorscale": {
           "diverging": [
            [
             0,
             "#8e0152"
            ],
            [
             0.1,
             "#c51b7d"
            ],
            [
             0.2,
             "#de77ae"
            ],
            [
             0.3,
             "#f1b6da"
            ],
            [
             0.4,
             "#fde0ef"
            ],
            [
             0.5,
             "#f7f7f7"
            ],
            [
             0.6,
             "#e6f5d0"
            ],
            [
             0.7,
             "#b8e186"
            ],
            [
             0.8,
             "#7fbc41"
            ],
            [
             0.9,
             "#4d9221"
            ],
            [
             1,
             "#276419"
            ]
           ],
           "sequential": [
            [
             0,
             "#0d0887"
            ],
            [
             0.1111111111111111,
             "#46039f"
            ],
            [
             0.2222222222222222,
             "#7201a8"
            ],
            [
             0.3333333333333333,
             "#9c179e"
            ],
            [
             0.4444444444444444,
             "#bd3786"
            ],
            [
             0.5555555555555556,
             "#d8576b"
            ],
            [
             0.6666666666666666,
             "#ed7953"
            ],
            [
             0.7777777777777778,
             "#fb9f3a"
            ],
            [
             0.8888888888888888,
             "#fdca26"
            ],
            [
             1,
             "#f0f921"
            ]
           ],
           "sequentialminus": [
            [
             0,
             "#0d0887"
            ],
            [
             0.1111111111111111,
             "#46039f"
            ],
            [
             0.2222222222222222,
             "#7201a8"
            ],
            [
             0.3333333333333333,
             "#9c179e"
            ],
            [
             0.4444444444444444,
             "#bd3786"
            ],
            [
             0.5555555555555556,
             "#d8576b"
            ],
            [
             0.6666666666666666,
             "#ed7953"
            ],
            [
             0.7777777777777778,
             "#fb9f3a"
            ],
            [
             0.8888888888888888,
             "#fdca26"
            ],
            [
             1,
             "#f0f921"
            ]
           ]
          },
          "colorway": [
           "#636efa",
           "#EF553B",
           "#00cc96",
           "#ab63fa",
           "#FFA15A",
           "#19d3f3",
           "#FF6692",
           "#B6E880",
           "#FF97FF",
           "#FECB52"
          ],
          "font": {
           "color": "#2a3f5f"
          },
          "geo": {
           "bgcolor": "white",
           "lakecolor": "white",
           "landcolor": "#E5ECF6",
           "showlakes": true,
           "showland": true,
           "subunitcolor": "white"
          },
          "hoverlabel": {
           "align": "left"
          },
          "hovermode": "closest",
          "mapbox": {
           "style": "light"
          },
          "paper_bgcolor": "white",
          "plot_bgcolor": "#E5ECF6",
          "polar": {
           "angularaxis": {
            "gridcolor": "white",
            "linecolor": "white",
            "ticks": ""
           },
           "bgcolor": "#E5ECF6",
           "radialaxis": {
            "gridcolor": "white",
            "linecolor": "white",
            "ticks": ""
           }
          },
          "scene": {
           "xaxis": {
            "backgroundcolor": "#E5ECF6",
            "gridcolor": "white",
            "gridwidth": 2,
            "linecolor": "white",
            "showbackground": true,
            "ticks": "",
            "zerolinecolor": "white"
           },
           "yaxis": {
            "backgroundcolor": "#E5ECF6",
            "gridcolor": "white",
            "gridwidth": 2,
            "linecolor": "white",
            "showbackground": true,
            "ticks": "",
            "zerolinecolor": "white"
           },
           "zaxis": {
            "backgroundcolor": "#E5ECF6",
            "gridcolor": "white",
            "gridwidth": 2,
            "linecolor": "white",
            "showbackground": true,
            "ticks": "",
            "zerolinecolor": "white"
           }
          },
          "shapedefaults": {
           "line": {
            "color": "#2a3f5f"
           }
          },
          "ternary": {
           "aaxis": {
            "gridcolor": "white",
            "linecolor": "white",
            "ticks": ""
           },
           "baxis": {
            "gridcolor": "white",
            "linecolor": "white",
            "ticks": ""
           },
           "bgcolor": "#E5ECF6",
           "caxis": {
            "gridcolor": "white",
            "linecolor": "white",
            "ticks": ""
           }
          },
          "title": {
           "x": 0.05
          },
          "xaxis": {
           "automargin": true,
           "gridcolor": "white",
           "linecolor": "white",
           "ticks": "",
           "title": {
            "standoff": 15
           },
           "zerolinecolor": "white",
           "zerolinewidth": 2
          },
          "yaxis": {
           "automargin": true,
           "gridcolor": "white",
           "linecolor": "white",
           "ticks": "",
           "title": {
            "standoff": 15
           },
           "zerolinecolor": "white",
           "zerolinewidth": 2
          }
         }
        },
        "title": {
         "font": {
          "color": "#4D5663"
         }
        },
        "xaxis": {
         "gridcolor": "#E1E5ED",
         "showgrid": true,
         "tickfont": {
          "color": "#4D5663"
         },
         "title": {
          "font": {
           "color": "#4D5663"
          },
          "text": ""
         },
         "zerolinecolor": "#E1E5ED"
        },
        "yaxis": {
         "gridcolor": "#E1E5ED",
         "showgrid": true,
         "tickfont": {
          "color": "#4D5663"
         },
         "title": {
          "font": {
           "color": "#4D5663"
          },
          "text": ""
         },
         "zerolinecolor": "#E1E5ED"
        }
       }
      },
      "text/html": [
       "<div>                            <div id=\"213cac7e-c5bb-4011-aea7-03b6ad13a198\" class=\"plotly-graph-div\" style=\"height:525px; width:100%;\"></div>            <script type=\"text/javascript\">                require([\"plotly\"], function(Plotly) {                    window.PLOTLYENV=window.PLOTLYENV || {};\n",
       "                    window.PLOTLYENV.BASE_URL='https://plot.ly';                                    if (document.getElementById(\"213cac7e-c5bb-4011-aea7-03b6ad13a198\")) {                    Plotly.newPlot(                        \"213cac7e-c5bb-4011-aea7-03b6ad13a198\",                        [{\"colorscale\": [[0.0, \"rgb(255, 153, 51)\"], [0.1111111111111111, \"rgb(55, 128, 191)\"], [0.2222222222222222, \"rgb(50, 171, 96)\"], [0.3333333333333333, \"rgb(128, 0, 128)\"], [0.4444444444444444, \"rgb(219, 64, 82)\"], [0.5555555555555556, \"rgb(0, 128, 128)\"], [0.6666666666666666, \"rgb(255, 255, 51)\"], [0.7777777777777778, \"rgb(128, 128, 0)\"], [0.8888888888888888, \"rgb(251, 128, 114)\"], [1.0, \"rgb(128, 177, 211)\"]], \"type\": \"surface\", \"x\": [0, 1, 2, 3, 4, 5, 6, 7, 8, 9, 10, 11, 12, 13, 14, 15, 16, 17, 18, 19, 20, 21, 22, 23, 24, 25, 26, 27, 28, 29, 30, 31, 32, 33, 34, 35, 36, 37, 38, 39, 40, 41, 42, 43, 44, 45, 46, 47, 48, 49, 50, 51, 52, 53, 54, 55, 56, 57, 58, 59, 60, 61, 62, 63, 64, 65, 66, 67, 68, 69, 70, 71, 72, 73, 74, 75, 76, 77, 78, 79, 80, 81, 82, 83, 84, 85, 86, 87, 88, 89, 90, 91, 92, 93, 94, 95, 96, 97, 98, 99], \"y\": [\"a\", \"b\", \"c\", \"d\", \"e\"], \"z\": [[0.31441513431481705, 0.757834543337892, 0.7742631153157491, 0.2504749726759551, 0.8620110639932879, 0.09461017156051088, 0.2431385930413701, 0.49302985151321654, 0.4352595632960975, 0.7038578030179201, 0.8763487875848481, 0.7339318188327008, 0.08867558921357765, 0.5269614406224346, 0.356275786244831, 0.17016731530101203, 0.2423048288125873, 0.4111227209876712, 0.14573547927966135, 0.7691067452863537, 0.6182783722870339, 0.4553900130709443, 0.9634798787242008, 0.7268137882797039, 0.9064672511679027, 0.46720656865433974, 0.8975690934048267, 0.24765184509039917, 0.4428287868918138, 0.02656045645726124, 0.2886780331635713, 0.6309188505735734, 0.07533692365640021, 0.6373464490241852, 0.9180593690729929, 0.21320227699998107, 0.6716488514003408, 0.9862020477070677, 0.5374153525740248, 0.1659066591831575, 0.178843512780963, 0.007065448206866387, 0.2495013400101137, 0.5491518071463409, 0.44950513382084123, 0.8863120727005669, 0.8263569615702878, 0.9693353694169362, 0.020163089922364374, 0.1447071164960515, 0.839401113193094, 0.8753339851455629, 0.2571436140350003, 0.36053873689348304, 0.36834777364157667, 0.6914522835899672, 0.9340058886272473, 0.21628140051543754, 0.03202002914769875, 0.7425856641057595, 0.40240770796636394, 0.7486304917900775, 0.7085745446496139, 0.3792210339279678, 0.7545593384713679, 0.42385422697506614, 0.3694510410095284, 0.7195057782998479, 0.92539638599149, 0.4991726633008787, 0.5411874808228686, 0.07068192253094652, 0.3594018608895382, 0.20061653817673852, 0.051699956979526784, 0.7020406412986379, 0.11538875720927677, 0.6367916778061834, 0.8661088182591468, 0.17543672407091393, 0.3898497090569648, 0.7481925976798725, 0.9861192368806755, 0.9506440115659714, 0.08403115679414075, 0.5672796888648002, 0.100405335077413, 0.5668333698701895, 0.7461272968353109, 0.12330317300432292, 0.5876052552420042, 0.027220283105312437, 0.8777367998451803, 0.5403591790658719, 0.384728723313121, 0.035217680376770866, 0.24708781226136767, 0.1839268436538145, 0.8144321283385751, 0.9596911227012808], [0.909251239535944, 0.8719807966046423, 0.9263581725467491, 0.5302357088005757, 0.7160455499446902, 0.11755981147160888, 0.9243400802205453, 0.6048310337209619, 0.99848911627027, 0.997818923010017, 0.958715568880708, 0.14470409741746926, 0.32490655516882205, 0.8259740691202068, 0.5449674010652735, 0.1179819340439443, 0.6470803076640727, 0.2371544001437944, 0.3944147078093092, 0.4553017979843986, 0.6279575429476555, 0.05722258804547986, 0.8531392481614021, 0.6052735062313108, 0.271933660010758, 0.44721239365275367, 0.9309212413090223, 0.19481999231733804, 0.5477063581220064, 0.17664460367893475, 0.1479970311467077, 0.2298546199156265, 0.5846765046516161, 0.8383754795729068, 0.7385964840206619, 0.32369168939120496, 0.8086752919227206, 0.2935415810630594, 0.1009992474020679, 0.5746206937317837, 0.7464924845416215, 0.9821924221253854, 0.5979720756547672, 0.4247219273881223, 0.932846005920277, 0.3678338350490642, 0.01502406435085879, 0.8231141056636773, 0.3577245368455766, 0.6429206757382323, 0.5907511289623674, 0.8707306829377549, 0.6425281851509483, 0.7852404369090897, 0.006404843543884486, 0.5495791221725458, 0.5981302893634367, 0.6925879522810264, 0.8402415708910494, 0.04064876137123341, 0.3500904355095926, 0.6336624538203731, 0.7992231713719854, 0.9031646404624668, 0.4352182794736966, 0.18222806430140004, 0.607007928306649, 0.8428862530174219, 0.5703318693353945, 0.640603890857624, 0.29273746319372085, 0.36274599719097755, 0.8702770686839479, 0.9492850513929987, 0.5661295373744326, 0.3851122958268606, 0.684729733346108, 0.9891947005226956, 0.15362270036614767, 0.82270042632811, 0.2483082472919772, 0.10956932064545177, 0.223449153978462, 0.6398654351478958, 0.7769580602854608, 0.2236671679809179, 0.37151257431193796, 0.9132297024351401, 0.5072130284391141, 0.7677028136188366, 0.691500635465313, 0.5360600096041178, 0.05347991507119565, 0.2973993960104748, 0.8337169057872624, 0.7521279691575821, 0.29865293199106036, 0.1982999248249404, 0.5922575533056015, 0.9106797400072707], [0.028247530405718813, 0.17254928125419478, 0.2652505659281773, 0.300915666869782, 0.6798722224305634, 0.8898233871088354, 0.5217951354887527, 0.24141449926961267, 0.15653422804448724, 0.6365486633072993, 0.7873746065410671, 0.8651929712138772, 0.039697077583567886, 0.5888781791584565, 0.7984769216247881, 0.6504510929034076, 0.9044772217551653, 0.6722435587562038, 0.9052412417291611, 0.5951003858200249, 0.20950964474254563, 0.3036329869216313, 0.4405318911552131, 0.6123691515321473, 0.7276327645537634, 0.12276200611583055, 0.618853820304931, 0.33187483023194797, 0.6865258255164624, 0.4902218644127547, 0.741654280248178, 0.6811477892240396, 0.6662007461991967, 0.7453391453048279, 0.4628463035373207, 0.4258943945511554, 0.9575594968342962, 0.29503540497167824, 0.06841229468835441, 0.02290442522303371, 0.4162955367255996, 0.5878789166862862, 0.10554884864698044, 0.08936076452060349, 0.23506294984165987, 0.8688267950949355, 0.6269605010088583, 0.2056302974776516, 0.585177556167756, 0.42661994062798014, 0.42276644355955006, 0.9274649656993671, 0.8418189579543383, 0.5954033022235944, 0.7422840250073004, 0.9452141754276548, 0.8096317534058268, 0.16991464170038806, 0.2920100533473614, 0.4310015300294222, 0.5641535812653017, 0.7035896356548946, 0.9141330880799917, 0.562201462231937, 0.4423891935193802, 0.27082908014890483, 0.900192408717217, 0.16265313492545797, 0.8531600193817881, 0.3448570317110766, 0.3924537195710327, 0.08368833421256805, 0.5124976574784178, 0.544132489816705, 0.18352720599421746, 0.7698447487601368, 0.5889712616335785, 0.05234176610669916, 0.12594190848665865, 0.595200614110096, 0.2747272613566645, 0.9024111433420334, 0.26502454927581953, 0.8601604690161544, 0.907980964776484, 0.2050031352961732, 0.6829555801797311, 0.5140445113089126, 0.13670119640066902, 0.044945719007338236, 0.23686775157864304, 0.14804486145476115, 0.46134266700362114, 0.5048644968157823, 0.9919162539770932, 0.8465453511052655, 0.6810505117526096, 0.5776025131829987, 0.44303877122874924, 0.9686643816387196], [0.7345219193043514, 0.7711839488532781, 0.0011630468130858773, 0.7022766516230197, 0.44951567354397226, 0.4774384305355811, 0.2766281582621646, 0.15878672985456455, 0.20414892137287932, 0.693750308229213, 0.38564767730615235, 0.4671664875678073, 0.7189682929737438, 0.4068657536297434, 0.8817861565238685, 0.06774856183294042, 0.8989421281346855, 0.4039517605510732, 0.12328336157771558, 0.6148393358172562, 0.07598632949740824, 0.542513494721236, 0.5973748990221175, 0.5080262555274183, 0.9411259752532537, 0.5601324771404306, 0.7077516909500989, 0.6166763427826241, 0.19297294549089739, 0.8105588769391002, 0.8044884124543165, 0.52215267141675, 0.7530798952558982, 0.2584242910102652, 0.5983367864239825, 0.2101533277599753, 0.3112452669172848, 0.7393889123479105, 0.6102829873075877, 0.3344097240534786, 0.6733216434382594, 0.5395935994808473, 0.7727719461069077, 0.5835532331904226, 0.121887699780584, 0.1010670265885153, 0.44162292218376553, 0.8289747482955978, 0.40829678271135994, 0.1962656711928744, 0.02255394960013979, 0.5833216272857848, 0.332984470386263, 0.043917742875064336, 0.9616641740945793, 0.8618964339778235, 0.20162467432131015, 0.9628462355864106, 0.5756128292598139, 0.5105831248393677, 0.7598244527065962, 0.876171584843563, 0.23581932101815606, 0.9595675147104846, 0.17577489235714383, 0.6271404645728633, 0.6859546637422046, 0.6174672903504578, 0.20922442014580667, 0.9245477679096562, 0.9383061251713866, 0.8105144958009091, 0.4870516942849139, 0.04120628519588865, 0.7527104010093636, 0.9195906502038192, 0.8029859671342613, 0.7601068154851309, 0.38550426648644076, 0.3470443741913536, 0.6295942186048243, 0.24160575286892638, 0.525377332063438, 0.9620574035437817, 0.8497397715628359, 0.698973885463429, 0.3136128010275031, 0.7235634590105477, 0.4272261377514569, 0.35248530379063003, 0.7998311394615695, 0.5506719328957519, 0.9446275112853095, 0.3412406755181805, 0.3090585611377683, 0.6667623520492086, 0.13997194095156829, 0.07183250433910404, 0.04152188200734608, 0.661792684814308], [0.8441482131459208, 0.5216039062928214, 0.576342971677043, 0.7741677591462971, 0.6814100715803433, 0.33178129877319174, 0.31305792368135366, 0.6416326860462728, 0.21174654489004874, 0.07168130805911666, 0.8527503773422891, 0.7135067389490168, 0.9524789039309994, 0.690587235526413, 0.4746464004519454, 0.43038941033309785, 0.4422841163996275, 0.09878110050263589, 0.7239585011249209, 0.5404486483687883, 0.9651437740351284, 0.43054392640962347, 0.8635136743263201, 0.13408704364887503, 0.3461777409085486, 0.019081410274173094, 0.03111167752563948, 0.6069067569214917, 0.643433968508191, 0.6613391969205293, 0.034956578247076875, 0.495258701278673, 0.7635526068157444, 0.8442634968114576, 0.7343999215040339, 0.19485744431707075, 0.6424333646211141, 0.338614754092468, 0.6189422763135657, 0.9783676354242827, 0.133241370369661, 0.6612577289760788, 0.2678089155657487, 0.915803968158515, 0.8271225204352407, 0.16115970144253033, 0.3398754216575508, 0.2822252543440493, 0.2611720970135324, 0.8908629757686687, 0.17590667717667474, 0.9810671646522114, 0.9207396261015776, 0.5650920747677053, 0.38123582058602534, 0.10826123131207144, 0.2681255339001105, 0.927094588360067, 0.144876098007235, 0.8386009035185379, 0.6835606346579665, 0.045062012220492886, 0.5534362186460304, 0.380100323264952, 0.9904044350352618, 0.8531576354488493, 0.6017908352006519, 0.5135625012987498, 0.39073368502768735, 0.23844205479396896, 0.5925873248782167, 0.744334825411387, 0.5103594953383878, 0.19411218389176588, 0.6422554278230251, 0.7916288224552801, 0.4243591642359438, 0.2195410165699092, 0.1320177104415925, 0.962187610258314, 0.8272062544227344, 0.42358737806713465, 0.5734254544562593, 0.044196623265570945, 0.4463720476249695, 0.1563058570919923, 0.47705691507475223, 0.8367509594373888, 0.37700569296598496, 0.45854379304586546, 0.9755985194540009, 0.27465259141829823, 0.6067032440484709, 0.9738342209430678, 0.22191534223739584, 0.432340124525206, 0.6540841633658616, 0.8311086389337317, 0.07090659257671827, 0.8233577665582116]]}],                        {\"legend\": {\"bgcolor\": \"#F5F6F9\", \"font\": {\"color\": \"#4D5663\"}}, \"paper_bgcolor\": \"#F5F6F9\", \"plot_bgcolor\": \"#F5F6F9\", \"template\": {\"data\": {\"bar\": [{\"error_x\": {\"color\": \"#2a3f5f\"}, \"error_y\": {\"color\": \"#2a3f5f\"}, \"marker\": {\"line\": {\"color\": \"#E5ECF6\", \"width\": 0.5}}, \"type\": \"bar\"}], \"barpolar\": [{\"marker\": {\"line\": {\"color\": \"#E5ECF6\", \"width\": 0.5}}, \"type\": \"barpolar\"}], \"carpet\": [{\"aaxis\": {\"endlinecolor\": \"#2a3f5f\", \"gridcolor\": \"white\", \"linecolor\": \"white\", \"minorgridcolor\": \"white\", \"startlinecolor\": \"#2a3f5f\"}, \"baxis\": {\"endlinecolor\": \"#2a3f5f\", \"gridcolor\": \"white\", \"linecolor\": \"white\", \"minorgridcolor\": \"white\", \"startlinecolor\": \"#2a3f5f\"}, \"type\": \"carpet\"}], \"choropleth\": [{\"colorbar\": {\"outlinewidth\": 0, \"ticks\": \"\"}, \"type\": \"choropleth\"}], \"contour\": [{\"colorbar\": {\"outlinewidth\": 0, \"ticks\": \"\"}, \"colorscale\": [[0.0, \"#0d0887\"], [0.1111111111111111, \"#46039f\"], [0.2222222222222222, \"#7201a8\"], [0.3333333333333333, \"#9c179e\"], [0.4444444444444444, \"#bd3786\"], [0.5555555555555556, \"#d8576b\"], [0.6666666666666666, \"#ed7953\"], [0.7777777777777778, \"#fb9f3a\"], [0.8888888888888888, \"#fdca26\"], [1.0, \"#f0f921\"]], \"type\": \"contour\"}], \"contourcarpet\": [{\"colorbar\": {\"outlinewidth\": 0, \"ticks\": \"\"}, \"type\": \"contourcarpet\"}], \"heatmap\": [{\"colorbar\": {\"outlinewidth\": 0, \"ticks\": \"\"}, \"colorscale\": [[0.0, \"#0d0887\"], [0.1111111111111111, \"#46039f\"], [0.2222222222222222, \"#7201a8\"], [0.3333333333333333, \"#9c179e\"], [0.4444444444444444, \"#bd3786\"], [0.5555555555555556, \"#d8576b\"], [0.6666666666666666, \"#ed7953\"], [0.7777777777777778, \"#fb9f3a\"], [0.8888888888888888, \"#fdca26\"], [1.0, \"#f0f921\"]], \"type\": \"heatmap\"}], \"heatmapgl\": [{\"colorbar\": {\"outlinewidth\": 0, \"ticks\": \"\"}, \"colorscale\": [[0.0, \"#0d0887\"], [0.1111111111111111, \"#46039f\"], [0.2222222222222222, \"#7201a8\"], [0.3333333333333333, \"#9c179e\"], [0.4444444444444444, \"#bd3786\"], [0.5555555555555556, \"#d8576b\"], [0.6666666666666666, \"#ed7953\"], [0.7777777777777778, \"#fb9f3a\"], [0.8888888888888888, \"#fdca26\"], [1.0, \"#f0f921\"]], \"type\": \"heatmapgl\"}], \"histogram\": [{\"marker\": {\"colorbar\": {\"outlinewidth\": 0, \"ticks\": \"\"}}, \"type\": \"histogram\"}], \"histogram2d\": [{\"colorbar\": {\"outlinewidth\": 0, \"ticks\": \"\"}, \"colorscale\": [[0.0, \"#0d0887\"], [0.1111111111111111, \"#46039f\"], [0.2222222222222222, \"#7201a8\"], [0.3333333333333333, \"#9c179e\"], [0.4444444444444444, \"#bd3786\"], [0.5555555555555556, \"#d8576b\"], [0.6666666666666666, \"#ed7953\"], [0.7777777777777778, \"#fb9f3a\"], [0.8888888888888888, \"#fdca26\"], [1.0, \"#f0f921\"]], \"type\": \"histogram2d\"}], \"histogram2dcontour\": [{\"colorbar\": {\"outlinewidth\": 0, \"ticks\": \"\"}, \"colorscale\": [[0.0, \"#0d0887\"], [0.1111111111111111, \"#46039f\"], [0.2222222222222222, \"#7201a8\"], [0.3333333333333333, \"#9c179e\"], [0.4444444444444444, \"#bd3786\"], [0.5555555555555556, \"#d8576b\"], [0.6666666666666666, \"#ed7953\"], [0.7777777777777778, \"#fb9f3a\"], [0.8888888888888888, \"#fdca26\"], [1.0, \"#f0f921\"]], \"type\": \"histogram2dcontour\"}], \"mesh3d\": [{\"colorbar\": {\"outlinewidth\": 0, \"ticks\": \"\"}, \"type\": \"mesh3d\"}], \"parcoords\": [{\"line\": {\"colorbar\": {\"outlinewidth\": 0, \"ticks\": \"\"}}, \"type\": \"parcoords\"}], \"pie\": [{\"automargin\": true, \"type\": \"pie\"}], \"scatter\": [{\"marker\": {\"colorbar\": {\"outlinewidth\": 0, \"ticks\": \"\"}}, \"type\": \"scatter\"}], \"scatter3d\": [{\"line\": {\"colorbar\": {\"outlinewidth\": 0, \"ticks\": \"\"}}, \"marker\": {\"colorbar\": {\"outlinewidth\": 0, \"ticks\": \"\"}}, \"type\": \"scatter3d\"}], \"scattercarpet\": [{\"marker\": {\"colorbar\": {\"outlinewidth\": 0, \"ticks\": \"\"}}, \"type\": \"scattercarpet\"}], \"scattergeo\": [{\"marker\": {\"colorbar\": {\"outlinewidth\": 0, \"ticks\": \"\"}}, \"type\": \"scattergeo\"}], \"scattergl\": [{\"marker\": {\"colorbar\": {\"outlinewidth\": 0, \"ticks\": \"\"}}, \"type\": \"scattergl\"}], \"scattermapbox\": [{\"marker\": {\"colorbar\": {\"outlinewidth\": 0, \"ticks\": \"\"}}, \"type\": \"scattermapbox\"}], \"scatterpolar\": [{\"marker\": {\"colorbar\": {\"outlinewidth\": 0, \"ticks\": \"\"}}, \"type\": \"scatterpolar\"}], \"scatterpolargl\": [{\"marker\": {\"colorbar\": {\"outlinewidth\": 0, \"ticks\": \"\"}}, \"type\": \"scatterpolargl\"}], \"scatterternary\": [{\"marker\": {\"colorbar\": {\"outlinewidth\": 0, \"ticks\": \"\"}}, \"type\": \"scatterternary\"}], \"surface\": [{\"colorbar\": {\"outlinewidth\": 0, \"ticks\": \"\"}, \"colorscale\": [[0.0, \"#0d0887\"], [0.1111111111111111, \"#46039f\"], [0.2222222222222222, \"#7201a8\"], [0.3333333333333333, \"#9c179e\"], [0.4444444444444444, \"#bd3786\"], [0.5555555555555556, \"#d8576b\"], [0.6666666666666666, \"#ed7953\"], [0.7777777777777778, \"#fb9f3a\"], [0.8888888888888888, \"#fdca26\"], [1.0, \"#f0f921\"]], \"type\": \"surface\"}], \"table\": [{\"cells\": {\"fill\": {\"color\": \"#EBF0F8\"}, \"line\": {\"color\": \"white\"}}, \"header\": {\"fill\": {\"color\": \"#C8D4E3\"}, \"line\": {\"color\": \"white\"}}, \"type\": \"table\"}]}, \"layout\": {\"annotationdefaults\": {\"arrowcolor\": \"#2a3f5f\", \"arrowhead\": 0, \"arrowwidth\": 1}, \"autotypenumbers\": \"strict\", \"coloraxis\": {\"colorbar\": {\"outlinewidth\": 0, \"ticks\": \"\"}}, \"colorscale\": {\"diverging\": [[0, \"#8e0152\"], [0.1, \"#c51b7d\"], [0.2, \"#de77ae\"], [0.3, \"#f1b6da\"], [0.4, \"#fde0ef\"], [0.5, \"#f7f7f7\"], [0.6, \"#e6f5d0\"], [0.7, \"#b8e186\"], [0.8, \"#7fbc41\"], [0.9, \"#4d9221\"], [1, \"#276419\"]], \"sequential\": [[0.0, \"#0d0887\"], [0.1111111111111111, \"#46039f\"], [0.2222222222222222, \"#7201a8\"], [0.3333333333333333, \"#9c179e\"], [0.4444444444444444, \"#bd3786\"], [0.5555555555555556, \"#d8576b\"], [0.6666666666666666, \"#ed7953\"], [0.7777777777777778, \"#fb9f3a\"], [0.8888888888888888, \"#fdca26\"], [1.0, \"#f0f921\"]], \"sequentialminus\": [[0.0, \"#0d0887\"], [0.1111111111111111, \"#46039f\"], [0.2222222222222222, \"#7201a8\"], [0.3333333333333333, \"#9c179e\"], [0.4444444444444444, \"#bd3786\"], [0.5555555555555556, \"#d8576b\"], [0.6666666666666666, \"#ed7953\"], [0.7777777777777778, \"#fb9f3a\"], [0.8888888888888888, \"#fdca26\"], [1.0, \"#f0f921\"]]}, \"colorway\": [\"#636efa\", \"#EF553B\", \"#00cc96\", \"#ab63fa\", \"#FFA15A\", \"#19d3f3\", \"#FF6692\", \"#B6E880\", \"#FF97FF\", \"#FECB52\"], \"font\": {\"color\": \"#2a3f5f\"}, \"geo\": {\"bgcolor\": \"white\", \"lakecolor\": \"white\", \"landcolor\": \"#E5ECF6\", \"showlakes\": true, \"showland\": true, \"subunitcolor\": \"white\"}, \"hoverlabel\": {\"align\": \"left\"}, \"hovermode\": \"closest\", \"mapbox\": {\"style\": \"light\"}, \"paper_bgcolor\": \"white\", \"plot_bgcolor\": \"#E5ECF6\", \"polar\": {\"angularaxis\": {\"gridcolor\": \"white\", \"linecolor\": \"white\", \"ticks\": \"\"}, \"bgcolor\": \"#E5ECF6\", \"radialaxis\": {\"gridcolor\": \"white\", \"linecolor\": \"white\", \"ticks\": \"\"}}, \"scene\": {\"xaxis\": {\"backgroundcolor\": \"#E5ECF6\", \"gridcolor\": \"white\", \"gridwidth\": 2, \"linecolor\": \"white\", \"showbackground\": true, \"ticks\": \"\", \"zerolinecolor\": \"white\"}, \"yaxis\": {\"backgroundcolor\": \"#E5ECF6\", \"gridcolor\": \"white\", \"gridwidth\": 2, \"linecolor\": \"white\", \"showbackground\": true, \"ticks\": \"\", \"zerolinecolor\": \"white\"}, \"zaxis\": {\"backgroundcolor\": \"#E5ECF6\", \"gridcolor\": \"white\", \"gridwidth\": 2, \"linecolor\": \"white\", \"showbackground\": true, \"ticks\": \"\", \"zerolinecolor\": \"white\"}}, \"shapedefaults\": {\"line\": {\"color\": \"#2a3f5f\"}}, \"ternary\": {\"aaxis\": {\"gridcolor\": \"white\", \"linecolor\": \"white\", \"ticks\": \"\"}, \"baxis\": {\"gridcolor\": \"white\", \"linecolor\": \"white\", \"ticks\": \"\"}, \"bgcolor\": \"#E5ECF6\", \"caxis\": {\"gridcolor\": \"white\", \"linecolor\": \"white\", \"ticks\": \"\"}}, \"title\": {\"x\": 0.05}, \"xaxis\": {\"automargin\": true, \"gridcolor\": \"white\", \"linecolor\": \"white\", \"ticks\": \"\", \"title\": {\"standoff\": 15}, \"zerolinecolor\": \"white\", \"zerolinewidth\": 2}, \"yaxis\": {\"automargin\": true, \"gridcolor\": \"white\", \"linecolor\": \"white\", \"ticks\": \"\", \"title\": {\"standoff\": 15}, \"zerolinecolor\": \"white\", \"zerolinewidth\": 2}}}, \"title\": {\"font\": {\"color\": \"#4D5663\"}}, \"xaxis\": {\"gridcolor\": \"#E1E5ED\", \"showgrid\": true, \"tickfont\": {\"color\": \"#4D5663\"}, \"title\": {\"font\": {\"color\": \"#4D5663\"}, \"text\": \"\"}, \"zerolinecolor\": \"#E1E5ED\"}, \"yaxis\": {\"gridcolor\": \"#E1E5ED\", \"showgrid\": true, \"tickfont\": {\"color\": \"#4D5663\"}, \"title\": {\"font\": {\"color\": \"#4D5663\"}, \"text\": \"\"}, \"zerolinecolor\": \"#E1E5ED\"}},                        {\"showLink\": true, \"linkText\": \"Export to plot.ly\", \"plotlyServerURL\": \"https://plot.ly\", \"responsive\": true}                    ).then(function(){\n",
       "                            \n",
       "var gd = document.getElementById('213cac7e-c5bb-4011-aea7-03b6ad13a198');\n",
       "var x = new MutationObserver(function (mutations, observer) {{\n",
       "        var display = window.getComputedStyle(gd).display;\n",
       "        if (!display || display === 'none') {{\n",
       "            console.log([gd, 'removed!']);\n",
       "            Plotly.purge(gd);\n",
       "            observer.disconnect();\n",
       "        }}\n",
       "}});\n",
       "\n",
       "// Listen for the removal of the full notebook cells\n",
       "var notebookContainer = gd.closest('#notebook-container');\n",
       "if (notebookContainer) {{\n",
       "    x.observe(notebookContainer, {childList: true});\n",
       "}}\n",
       "\n",
       "// Listen for the clearing of the current output cell\n",
       "var outputEl = gd.closest('.output');\n",
       "if (outputEl) {{\n",
       "    x.observe(outputEl, {childList: true});\n",
       "}}\n",
       "\n",
       "                        })                };                });            </script>        </div>"
      ]
     },
     "metadata": {},
     "output_type": "display_data"
    }
   ],
   "source": [
    "df.iplot(kind='surface')"
   ]
  },
  {
   "cell_type": "code",
   "execution_count": 15,
   "metadata": {},
   "outputs": [
    {
     "data": {
      "application/vnd.plotly.v1+json": {
       "config": {
        "linkText": "Export to plot.ly",
        "plotlyServerURL": "https://plot.ly",
        "showLink": true
       },
       "data": [
        {
         "boxpoints": false,
         "line": {
          "width": 1.3
         },
         "marker": {
          "color": "rgba(255, 153, 51, 1.0)"
         },
         "name": "a",
         "orientation": "v",
         "type": "box",
         "y": [
          0.31441513431481705,
          0.757834543337892,
          0.7742631153157491,
          0.2504749726759551,
          0.8620110639932879,
          0.09461017156051088,
          0.2431385930413701,
          0.49302985151321654,
          0.4352595632960975,
          0.7038578030179201,
          0.8763487875848481,
          0.7339318188327008,
          0.08867558921357765,
          0.5269614406224346,
          0.356275786244831,
          0.17016731530101203,
          0.2423048288125873,
          0.4111227209876712,
          0.14573547927966135,
          0.7691067452863537,
          0.6182783722870339,
          0.4553900130709443,
          0.9634798787242008,
          0.7268137882797039,
          0.9064672511679027,
          0.46720656865433974,
          0.8975690934048267,
          0.24765184509039917,
          0.4428287868918138,
          0.02656045645726124,
          0.2886780331635713,
          0.6309188505735734,
          0.07533692365640021,
          0.6373464490241852,
          0.9180593690729929,
          0.21320227699998107,
          0.6716488514003408,
          0.9862020477070677,
          0.5374153525740248,
          0.1659066591831575,
          0.178843512780963,
          0.007065448206866387,
          0.2495013400101137,
          0.5491518071463409,
          0.44950513382084123,
          0.8863120727005669,
          0.8263569615702878,
          0.9693353694169362,
          0.020163089922364374,
          0.1447071164960515,
          0.839401113193094,
          0.8753339851455629,
          0.2571436140350003,
          0.36053873689348304,
          0.36834777364157667,
          0.6914522835899672,
          0.9340058886272473,
          0.21628140051543754,
          0.03202002914769875,
          0.7425856641057595,
          0.40240770796636394,
          0.7486304917900775,
          0.7085745446496139,
          0.3792210339279678,
          0.7545593384713679,
          0.42385422697506614,
          0.3694510410095284,
          0.7195057782998479,
          0.92539638599149,
          0.4991726633008787,
          0.5411874808228686,
          0.07068192253094652,
          0.3594018608895382,
          0.20061653817673852,
          0.051699956979526784,
          0.7020406412986379,
          0.11538875720927677,
          0.6367916778061834,
          0.8661088182591468,
          0.17543672407091393,
          0.3898497090569648,
          0.7481925976798725,
          0.9861192368806755,
          0.9506440115659714,
          0.08403115679414075,
          0.5672796888648002,
          0.100405335077413,
          0.5668333698701895,
          0.7461272968353109,
          0.12330317300432292,
          0.5876052552420042,
          0.027220283105312437,
          0.8777367998451803,
          0.5403591790658719,
          0.384728723313121,
          0.035217680376770866,
          0.24708781226136767,
          0.1839268436538145,
          0.8144321283385751,
          0.9596911227012808
         ]
        },
        {
         "boxpoints": false,
         "line": {
          "width": 1.3
         },
         "marker": {
          "color": "rgba(55, 128, 191, 1.0)"
         },
         "name": "b",
         "orientation": "v",
         "type": "box",
         "y": [
          0.909251239535944,
          0.8719807966046423,
          0.9263581725467491,
          0.5302357088005757,
          0.7160455499446902,
          0.11755981147160888,
          0.9243400802205453,
          0.6048310337209619,
          0.99848911627027,
          0.997818923010017,
          0.958715568880708,
          0.14470409741746926,
          0.32490655516882205,
          0.8259740691202068,
          0.5449674010652735,
          0.1179819340439443,
          0.6470803076640727,
          0.2371544001437944,
          0.3944147078093092,
          0.4553017979843986,
          0.6279575429476555,
          0.05722258804547986,
          0.8531392481614021,
          0.6052735062313108,
          0.271933660010758,
          0.44721239365275367,
          0.9309212413090223,
          0.19481999231733804,
          0.5477063581220064,
          0.17664460367893475,
          0.1479970311467077,
          0.2298546199156265,
          0.5846765046516161,
          0.8383754795729068,
          0.7385964840206619,
          0.32369168939120496,
          0.8086752919227206,
          0.2935415810630594,
          0.1009992474020679,
          0.5746206937317837,
          0.7464924845416215,
          0.9821924221253854,
          0.5979720756547672,
          0.4247219273881223,
          0.932846005920277,
          0.3678338350490642,
          0.01502406435085879,
          0.8231141056636773,
          0.3577245368455766,
          0.6429206757382323,
          0.5907511289623674,
          0.8707306829377549,
          0.6425281851509483,
          0.7852404369090897,
          0.006404843543884486,
          0.5495791221725458,
          0.5981302893634367,
          0.6925879522810264,
          0.8402415708910494,
          0.04064876137123341,
          0.3500904355095926,
          0.6336624538203731,
          0.7992231713719854,
          0.9031646404624668,
          0.4352182794736966,
          0.18222806430140004,
          0.607007928306649,
          0.8428862530174219,
          0.5703318693353945,
          0.640603890857624,
          0.29273746319372085,
          0.36274599719097755,
          0.8702770686839479,
          0.9492850513929987,
          0.5661295373744326,
          0.3851122958268606,
          0.684729733346108,
          0.9891947005226956,
          0.15362270036614767,
          0.82270042632811,
          0.2483082472919772,
          0.10956932064545177,
          0.223449153978462,
          0.6398654351478958,
          0.7769580602854608,
          0.2236671679809179,
          0.37151257431193796,
          0.9132297024351401,
          0.5072130284391141,
          0.7677028136188366,
          0.691500635465313,
          0.5360600096041178,
          0.05347991507119565,
          0.2973993960104748,
          0.8337169057872624,
          0.7521279691575821,
          0.29865293199106036,
          0.1982999248249404,
          0.5922575533056015,
          0.9106797400072707
         ]
        },
        {
         "boxpoints": false,
         "line": {
          "width": 1.3
         },
         "marker": {
          "color": "rgba(50, 171, 96, 1.0)"
         },
         "name": "c",
         "orientation": "v",
         "type": "box",
         "y": [
          0.028247530405718813,
          0.17254928125419478,
          0.2652505659281773,
          0.300915666869782,
          0.6798722224305634,
          0.8898233871088354,
          0.5217951354887527,
          0.24141449926961267,
          0.15653422804448724,
          0.6365486633072993,
          0.7873746065410671,
          0.8651929712138772,
          0.039697077583567886,
          0.5888781791584565,
          0.7984769216247881,
          0.6504510929034076,
          0.9044772217551653,
          0.6722435587562038,
          0.9052412417291611,
          0.5951003858200249,
          0.20950964474254563,
          0.3036329869216313,
          0.4405318911552131,
          0.6123691515321473,
          0.7276327645537634,
          0.12276200611583055,
          0.618853820304931,
          0.33187483023194797,
          0.6865258255164624,
          0.4902218644127547,
          0.741654280248178,
          0.6811477892240396,
          0.6662007461991967,
          0.7453391453048279,
          0.4628463035373207,
          0.4258943945511554,
          0.9575594968342962,
          0.29503540497167824,
          0.06841229468835441,
          0.02290442522303371,
          0.4162955367255996,
          0.5878789166862862,
          0.10554884864698044,
          0.08936076452060349,
          0.23506294984165987,
          0.8688267950949355,
          0.6269605010088583,
          0.2056302974776516,
          0.585177556167756,
          0.42661994062798014,
          0.42276644355955006,
          0.9274649656993671,
          0.8418189579543383,
          0.5954033022235944,
          0.7422840250073004,
          0.9452141754276548,
          0.8096317534058268,
          0.16991464170038806,
          0.2920100533473614,
          0.4310015300294222,
          0.5641535812653017,
          0.7035896356548946,
          0.9141330880799917,
          0.562201462231937,
          0.4423891935193802,
          0.27082908014890483,
          0.900192408717217,
          0.16265313492545797,
          0.8531600193817881,
          0.3448570317110766,
          0.3924537195710327,
          0.08368833421256805,
          0.5124976574784178,
          0.544132489816705,
          0.18352720599421746,
          0.7698447487601368,
          0.5889712616335785,
          0.05234176610669916,
          0.12594190848665865,
          0.595200614110096,
          0.2747272613566645,
          0.9024111433420334,
          0.26502454927581953,
          0.8601604690161544,
          0.907980964776484,
          0.2050031352961732,
          0.6829555801797311,
          0.5140445113089126,
          0.13670119640066902,
          0.044945719007338236,
          0.23686775157864304,
          0.14804486145476115,
          0.46134266700362114,
          0.5048644968157823,
          0.9919162539770932,
          0.8465453511052655,
          0.6810505117526096,
          0.5776025131829987,
          0.44303877122874924,
          0.9686643816387196
         ]
        },
        {
         "boxpoints": false,
         "line": {
          "width": 1.3
         },
         "marker": {
          "color": "rgba(128, 0, 128, 1.0)"
         },
         "name": "d",
         "orientation": "v",
         "type": "box",
         "y": [
          0.7345219193043514,
          0.7711839488532781,
          0.0011630468130858773,
          0.7022766516230197,
          0.44951567354397226,
          0.4774384305355811,
          0.2766281582621646,
          0.15878672985456455,
          0.20414892137287932,
          0.693750308229213,
          0.38564767730615235,
          0.4671664875678073,
          0.7189682929737438,
          0.4068657536297434,
          0.8817861565238685,
          0.06774856183294042,
          0.8989421281346855,
          0.4039517605510732,
          0.12328336157771558,
          0.6148393358172562,
          0.07598632949740824,
          0.542513494721236,
          0.5973748990221175,
          0.5080262555274183,
          0.9411259752532537,
          0.5601324771404306,
          0.7077516909500989,
          0.6166763427826241,
          0.19297294549089739,
          0.8105588769391002,
          0.8044884124543165,
          0.52215267141675,
          0.7530798952558982,
          0.2584242910102652,
          0.5983367864239825,
          0.2101533277599753,
          0.3112452669172848,
          0.7393889123479105,
          0.6102829873075877,
          0.3344097240534786,
          0.6733216434382594,
          0.5395935994808473,
          0.7727719461069077,
          0.5835532331904226,
          0.121887699780584,
          0.1010670265885153,
          0.44162292218376553,
          0.8289747482955978,
          0.40829678271135994,
          0.1962656711928744,
          0.02255394960013979,
          0.5833216272857848,
          0.332984470386263,
          0.043917742875064336,
          0.9616641740945793,
          0.8618964339778235,
          0.20162467432131015,
          0.9628462355864106,
          0.5756128292598139,
          0.5105831248393677,
          0.7598244527065962,
          0.876171584843563,
          0.23581932101815606,
          0.9595675147104846,
          0.17577489235714383,
          0.6271404645728633,
          0.6859546637422046,
          0.6174672903504578,
          0.20922442014580667,
          0.9245477679096562,
          0.9383061251713866,
          0.8105144958009091,
          0.4870516942849139,
          0.04120628519588865,
          0.7527104010093636,
          0.9195906502038192,
          0.8029859671342613,
          0.7601068154851309,
          0.38550426648644076,
          0.3470443741913536,
          0.6295942186048243,
          0.24160575286892638,
          0.525377332063438,
          0.9620574035437817,
          0.8497397715628359,
          0.698973885463429,
          0.3136128010275031,
          0.7235634590105477,
          0.4272261377514569,
          0.35248530379063003,
          0.7998311394615695,
          0.5506719328957519,
          0.9446275112853095,
          0.3412406755181805,
          0.3090585611377683,
          0.6667623520492086,
          0.13997194095156829,
          0.07183250433910404,
          0.04152188200734608,
          0.661792684814308
         ]
        },
        {
         "boxpoints": false,
         "line": {
          "width": 1.3
         },
         "marker": {
          "color": "rgba(219, 64, 82, 1.0)"
         },
         "name": "e",
         "orientation": "v",
         "type": "box",
         "y": [
          0.8441482131459208,
          0.5216039062928214,
          0.576342971677043,
          0.7741677591462971,
          0.6814100715803433,
          0.33178129877319174,
          0.31305792368135366,
          0.6416326860462728,
          0.21174654489004874,
          0.07168130805911666,
          0.8527503773422891,
          0.7135067389490168,
          0.9524789039309994,
          0.690587235526413,
          0.4746464004519454,
          0.43038941033309785,
          0.4422841163996275,
          0.09878110050263589,
          0.7239585011249209,
          0.5404486483687883,
          0.9651437740351284,
          0.43054392640962347,
          0.8635136743263201,
          0.13408704364887503,
          0.3461777409085486,
          0.019081410274173094,
          0.03111167752563948,
          0.6069067569214917,
          0.643433968508191,
          0.6613391969205293,
          0.034956578247076875,
          0.495258701278673,
          0.7635526068157444,
          0.8442634968114576,
          0.7343999215040339,
          0.19485744431707075,
          0.6424333646211141,
          0.338614754092468,
          0.6189422763135657,
          0.9783676354242827,
          0.133241370369661,
          0.6612577289760788,
          0.2678089155657487,
          0.915803968158515,
          0.8271225204352407,
          0.16115970144253033,
          0.3398754216575508,
          0.2822252543440493,
          0.2611720970135324,
          0.8908629757686687,
          0.17590667717667474,
          0.9810671646522114,
          0.9207396261015776,
          0.5650920747677053,
          0.38123582058602534,
          0.10826123131207144,
          0.2681255339001105,
          0.927094588360067,
          0.144876098007235,
          0.8386009035185379,
          0.6835606346579665,
          0.045062012220492886,
          0.5534362186460304,
          0.380100323264952,
          0.9904044350352618,
          0.8531576354488493,
          0.6017908352006519,
          0.5135625012987498,
          0.39073368502768735,
          0.23844205479396896,
          0.5925873248782167,
          0.744334825411387,
          0.5103594953383878,
          0.19411218389176588,
          0.6422554278230251,
          0.7916288224552801,
          0.4243591642359438,
          0.2195410165699092,
          0.1320177104415925,
          0.962187610258314,
          0.8272062544227344,
          0.42358737806713465,
          0.5734254544562593,
          0.044196623265570945,
          0.4463720476249695,
          0.1563058570919923,
          0.47705691507475223,
          0.8367509594373888,
          0.37700569296598496,
          0.45854379304586546,
          0.9755985194540009,
          0.27465259141829823,
          0.6067032440484709,
          0.9738342209430678,
          0.22191534223739584,
          0.432340124525206,
          0.6540841633658616,
          0.8311086389337317,
          0.07090659257671827,
          0.8233577665582116
         ]
        }
       ],
       "layout": {
        "legend": {
         "bgcolor": "#F5F6F9",
         "font": {
          "color": "#4D5663"
         }
        },
        "paper_bgcolor": "#F5F6F9",
        "plot_bgcolor": "#F5F6F9",
        "template": {
         "data": {
          "bar": [
           {
            "error_x": {
             "color": "#2a3f5f"
            },
            "error_y": {
             "color": "#2a3f5f"
            },
            "marker": {
             "line": {
              "color": "#E5ECF6",
              "width": 0.5
             }
            },
            "type": "bar"
           }
          ],
          "barpolar": [
           {
            "marker": {
             "line": {
              "color": "#E5ECF6",
              "width": 0.5
             }
            },
            "type": "barpolar"
           }
          ],
          "carpet": [
           {
            "aaxis": {
             "endlinecolor": "#2a3f5f",
             "gridcolor": "white",
             "linecolor": "white",
             "minorgridcolor": "white",
             "startlinecolor": "#2a3f5f"
            },
            "baxis": {
             "endlinecolor": "#2a3f5f",
             "gridcolor": "white",
             "linecolor": "white",
             "minorgridcolor": "white",
             "startlinecolor": "#2a3f5f"
            },
            "type": "carpet"
           }
          ],
          "choropleth": [
           {
            "colorbar": {
             "outlinewidth": 0,
             "ticks": ""
            },
            "type": "choropleth"
           }
          ],
          "contour": [
           {
            "colorbar": {
             "outlinewidth": 0,
             "ticks": ""
            },
            "colorscale": [
             [
              0,
              "#0d0887"
             ],
             [
              0.1111111111111111,
              "#46039f"
             ],
             [
              0.2222222222222222,
              "#7201a8"
             ],
             [
              0.3333333333333333,
              "#9c179e"
             ],
             [
              0.4444444444444444,
              "#bd3786"
             ],
             [
              0.5555555555555556,
              "#d8576b"
             ],
             [
              0.6666666666666666,
              "#ed7953"
             ],
             [
              0.7777777777777778,
              "#fb9f3a"
             ],
             [
              0.8888888888888888,
              "#fdca26"
             ],
             [
              1,
              "#f0f921"
             ]
            ],
            "type": "contour"
           }
          ],
          "contourcarpet": [
           {
            "colorbar": {
             "outlinewidth": 0,
             "ticks": ""
            },
            "type": "contourcarpet"
           }
          ],
          "heatmap": [
           {
            "colorbar": {
             "outlinewidth": 0,
             "ticks": ""
            },
            "colorscale": [
             [
              0,
              "#0d0887"
             ],
             [
              0.1111111111111111,
              "#46039f"
             ],
             [
              0.2222222222222222,
              "#7201a8"
             ],
             [
              0.3333333333333333,
              "#9c179e"
             ],
             [
              0.4444444444444444,
              "#bd3786"
             ],
             [
              0.5555555555555556,
              "#d8576b"
             ],
             [
              0.6666666666666666,
              "#ed7953"
             ],
             [
              0.7777777777777778,
              "#fb9f3a"
             ],
             [
              0.8888888888888888,
              "#fdca26"
             ],
             [
              1,
              "#f0f921"
             ]
            ],
            "type": "heatmap"
           }
          ],
          "heatmapgl": [
           {
            "colorbar": {
             "outlinewidth": 0,
             "ticks": ""
            },
            "colorscale": [
             [
              0,
              "#0d0887"
             ],
             [
              0.1111111111111111,
              "#46039f"
             ],
             [
              0.2222222222222222,
              "#7201a8"
             ],
             [
              0.3333333333333333,
              "#9c179e"
             ],
             [
              0.4444444444444444,
              "#bd3786"
             ],
             [
              0.5555555555555556,
              "#d8576b"
             ],
             [
              0.6666666666666666,
              "#ed7953"
             ],
             [
              0.7777777777777778,
              "#fb9f3a"
             ],
             [
              0.8888888888888888,
              "#fdca26"
             ],
             [
              1,
              "#f0f921"
             ]
            ],
            "type": "heatmapgl"
           }
          ],
          "histogram": [
           {
            "marker": {
             "colorbar": {
              "outlinewidth": 0,
              "ticks": ""
             }
            },
            "type": "histogram"
           }
          ],
          "histogram2d": [
           {
            "colorbar": {
             "outlinewidth": 0,
             "ticks": ""
            },
            "colorscale": [
             [
              0,
              "#0d0887"
             ],
             [
              0.1111111111111111,
              "#46039f"
             ],
             [
              0.2222222222222222,
              "#7201a8"
             ],
             [
              0.3333333333333333,
              "#9c179e"
             ],
             [
              0.4444444444444444,
              "#bd3786"
             ],
             [
              0.5555555555555556,
              "#d8576b"
             ],
             [
              0.6666666666666666,
              "#ed7953"
             ],
             [
              0.7777777777777778,
              "#fb9f3a"
             ],
             [
              0.8888888888888888,
              "#fdca26"
             ],
             [
              1,
              "#f0f921"
             ]
            ],
            "type": "histogram2d"
           }
          ],
          "histogram2dcontour": [
           {
            "colorbar": {
             "outlinewidth": 0,
             "ticks": ""
            },
            "colorscale": [
             [
              0,
              "#0d0887"
             ],
             [
              0.1111111111111111,
              "#46039f"
             ],
             [
              0.2222222222222222,
              "#7201a8"
             ],
             [
              0.3333333333333333,
              "#9c179e"
             ],
             [
              0.4444444444444444,
              "#bd3786"
             ],
             [
              0.5555555555555556,
              "#d8576b"
             ],
             [
              0.6666666666666666,
              "#ed7953"
             ],
             [
              0.7777777777777778,
              "#fb9f3a"
             ],
             [
              0.8888888888888888,
              "#fdca26"
             ],
             [
              1,
              "#f0f921"
             ]
            ],
            "type": "histogram2dcontour"
           }
          ],
          "mesh3d": [
           {
            "colorbar": {
             "outlinewidth": 0,
             "ticks": ""
            },
            "type": "mesh3d"
           }
          ],
          "parcoords": [
           {
            "line": {
             "colorbar": {
              "outlinewidth": 0,
              "ticks": ""
             }
            },
            "type": "parcoords"
           }
          ],
          "pie": [
           {
            "automargin": true,
            "type": "pie"
           }
          ],
          "scatter": [
           {
            "marker": {
             "colorbar": {
              "outlinewidth": 0,
              "ticks": ""
             }
            },
            "type": "scatter"
           }
          ],
          "scatter3d": [
           {
            "line": {
             "colorbar": {
              "outlinewidth": 0,
              "ticks": ""
             }
            },
            "marker": {
             "colorbar": {
              "outlinewidth": 0,
              "ticks": ""
             }
            },
            "type": "scatter3d"
           }
          ],
          "scattercarpet": [
           {
            "marker": {
             "colorbar": {
              "outlinewidth": 0,
              "ticks": ""
             }
            },
            "type": "scattercarpet"
           }
          ],
          "scattergeo": [
           {
            "marker": {
             "colorbar": {
              "outlinewidth": 0,
              "ticks": ""
             }
            },
            "type": "scattergeo"
           }
          ],
          "scattergl": [
           {
            "marker": {
             "colorbar": {
              "outlinewidth": 0,
              "ticks": ""
             }
            },
            "type": "scattergl"
           }
          ],
          "scattermapbox": [
           {
            "marker": {
             "colorbar": {
              "outlinewidth": 0,
              "ticks": ""
             }
            },
            "type": "scattermapbox"
           }
          ],
          "scatterpolar": [
           {
            "marker": {
             "colorbar": {
              "outlinewidth": 0,
              "ticks": ""
             }
            },
            "type": "scatterpolar"
           }
          ],
          "scatterpolargl": [
           {
            "marker": {
             "colorbar": {
              "outlinewidth": 0,
              "ticks": ""
             }
            },
            "type": "scatterpolargl"
           }
          ],
          "scatterternary": [
           {
            "marker": {
             "colorbar": {
              "outlinewidth": 0,
              "ticks": ""
             }
            },
            "type": "scatterternary"
           }
          ],
          "surface": [
           {
            "colorbar": {
             "outlinewidth": 0,
             "ticks": ""
            },
            "colorscale": [
             [
              0,
              "#0d0887"
             ],
             [
              0.1111111111111111,
              "#46039f"
             ],
             [
              0.2222222222222222,
              "#7201a8"
             ],
             [
              0.3333333333333333,
              "#9c179e"
             ],
             [
              0.4444444444444444,
              "#bd3786"
             ],
             [
              0.5555555555555556,
              "#d8576b"
             ],
             [
              0.6666666666666666,
              "#ed7953"
             ],
             [
              0.7777777777777778,
              "#fb9f3a"
             ],
             [
              0.8888888888888888,
              "#fdca26"
             ],
             [
              1,
              "#f0f921"
             ]
            ],
            "type": "surface"
           }
          ],
          "table": [
           {
            "cells": {
             "fill": {
              "color": "#EBF0F8"
             },
             "line": {
              "color": "white"
             }
            },
            "header": {
             "fill": {
              "color": "#C8D4E3"
             },
             "line": {
              "color": "white"
             }
            },
            "type": "table"
           }
          ]
         },
         "layout": {
          "annotationdefaults": {
           "arrowcolor": "#2a3f5f",
           "arrowhead": 0,
           "arrowwidth": 1
          },
          "autotypenumbers": "strict",
          "coloraxis": {
           "colorbar": {
            "outlinewidth": 0,
            "ticks": ""
           }
          },
          "colorscale": {
           "diverging": [
            [
             0,
             "#8e0152"
            ],
            [
             0.1,
             "#c51b7d"
            ],
            [
             0.2,
             "#de77ae"
            ],
            [
             0.3,
             "#f1b6da"
            ],
            [
             0.4,
             "#fde0ef"
            ],
            [
             0.5,
             "#f7f7f7"
            ],
            [
             0.6,
             "#e6f5d0"
            ],
            [
             0.7,
             "#b8e186"
            ],
            [
             0.8,
             "#7fbc41"
            ],
            [
             0.9,
             "#4d9221"
            ],
            [
             1,
             "#276419"
            ]
           ],
           "sequential": [
            [
             0,
             "#0d0887"
            ],
            [
             0.1111111111111111,
             "#46039f"
            ],
            [
             0.2222222222222222,
             "#7201a8"
            ],
            [
             0.3333333333333333,
             "#9c179e"
            ],
            [
             0.4444444444444444,
             "#bd3786"
            ],
            [
             0.5555555555555556,
             "#d8576b"
            ],
            [
             0.6666666666666666,
             "#ed7953"
            ],
            [
             0.7777777777777778,
             "#fb9f3a"
            ],
            [
             0.8888888888888888,
             "#fdca26"
            ],
            [
             1,
             "#f0f921"
            ]
           ],
           "sequentialminus": [
            [
             0,
             "#0d0887"
            ],
            [
             0.1111111111111111,
             "#46039f"
            ],
            [
             0.2222222222222222,
             "#7201a8"
            ],
            [
             0.3333333333333333,
             "#9c179e"
            ],
            [
             0.4444444444444444,
             "#bd3786"
            ],
            [
             0.5555555555555556,
             "#d8576b"
            ],
            [
             0.6666666666666666,
             "#ed7953"
            ],
            [
             0.7777777777777778,
             "#fb9f3a"
            ],
            [
             0.8888888888888888,
             "#fdca26"
            ],
            [
             1,
             "#f0f921"
            ]
           ]
          },
          "colorway": [
           "#636efa",
           "#EF553B",
           "#00cc96",
           "#ab63fa",
           "#FFA15A",
           "#19d3f3",
           "#FF6692",
           "#B6E880",
           "#FF97FF",
           "#FECB52"
          ],
          "font": {
           "color": "#2a3f5f"
          },
          "geo": {
           "bgcolor": "white",
           "lakecolor": "white",
           "landcolor": "#E5ECF6",
           "showlakes": true,
           "showland": true,
           "subunitcolor": "white"
          },
          "hoverlabel": {
           "align": "left"
          },
          "hovermode": "closest",
          "mapbox": {
           "style": "light"
          },
          "paper_bgcolor": "white",
          "plot_bgcolor": "#E5ECF6",
          "polar": {
           "angularaxis": {
            "gridcolor": "white",
            "linecolor": "white",
            "ticks": ""
           },
           "bgcolor": "#E5ECF6",
           "radialaxis": {
            "gridcolor": "white",
            "linecolor": "white",
            "ticks": ""
           }
          },
          "scene": {
           "xaxis": {
            "backgroundcolor": "#E5ECF6",
            "gridcolor": "white",
            "gridwidth": 2,
            "linecolor": "white",
            "showbackground": true,
            "ticks": "",
            "zerolinecolor": "white"
           },
           "yaxis": {
            "backgroundcolor": "#E5ECF6",
            "gridcolor": "white",
            "gridwidth": 2,
            "linecolor": "white",
            "showbackground": true,
            "ticks": "",
            "zerolinecolor": "white"
           },
           "zaxis": {
            "backgroundcolor": "#E5ECF6",
            "gridcolor": "white",
            "gridwidth": 2,
            "linecolor": "white",
            "showbackground": true,
            "ticks": "",
            "zerolinecolor": "white"
           }
          },
          "shapedefaults": {
           "line": {
            "color": "#2a3f5f"
           }
          },
          "ternary": {
           "aaxis": {
            "gridcolor": "white",
            "linecolor": "white",
            "ticks": ""
           },
           "baxis": {
            "gridcolor": "white",
            "linecolor": "white",
            "ticks": ""
           },
           "bgcolor": "#E5ECF6",
           "caxis": {
            "gridcolor": "white",
            "linecolor": "white",
            "ticks": ""
           }
          },
          "title": {
           "x": 0.05
          },
          "xaxis": {
           "automargin": true,
           "gridcolor": "white",
           "linecolor": "white",
           "ticks": "",
           "title": {
            "standoff": 15
           },
           "zerolinecolor": "white",
           "zerolinewidth": 2
          },
          "yaxis": {
           "automargin": true,
           "gridcolor": "white",
           "linecolor": "white",
           "ticks": "",
           "title": {
            "standoff": 15
           },
           "zerolinecolor": "white",
           "zerolinewidth": 2
          }
         }
        },
        "title": {
         "font": {
          "color": "#4D5663"
         }
        },
        "xaxis": {
         "gridcolor": "#E1E5ED",
         "showgrid": true,
         "tickfont": {
          "color": "#4D5663"
         },
         "title": {
          "font": {
           "color": "#4D5663"
          },
          "text": ""
         },
         "zerolinecolor": "#E1E5ED"
        },
        "yaxis": {
         "gridcolor": "#E1E5ED",
         "showgrid": true,
         "tickfont": {
          "color": "#4D5663"
         },
         "title": {
          "font": {
           "color": "#4D5663"
          },
          "text": ""
         },
         "zerolinecolor": "#E1E5ED"
        }
       }
      },
      "text/html": [
       "<div>                            <div id=\"b01a8a9f-9840-47fb-b6f2-ffcdb17c1b00\" class=\"plotly-graph-div\" style=\"height:525px; width:100%;\"></div>            <script type=\"text/javascript\">                require([\"plotly\"], function(Plotly) {                    window.PLOTLYENV=window.PLOTLYENV || {};\n",
       "                    window.PLOTLYENV.BASE_URL='https://plot.ly';                                    if (document.getElementById(\"b01a8a9f-9840-47fb-b6f2-ffcdb17c1b00\")) {                    Plotly.newPlot(                        \"b01a8a9f-9840-47fb-b6f2-ffcdb17c1b00\",                        [{\"boxpoints\": false, \"line\": {\"width\": 1.3}, \"marker\": {\"color\": \"rgba(255, 153, 51, 1.0)\"}, \"name\": \"a\", \"orientation\": \"v\", \"type\": \"box\", \"y\": [0.31441513431481705, 0.757834543337892, 0.7742631153157491, 0.2504749726759551, 0.8620110639932879, 0.09461017156051088, 0.2431385930413701, 0.49302985151321654, 0.4352595632960975, 0.7038578030179201, 0.8763487875848481, 0.7339318188327008, 0.08867558921357765, 0.5269614406224346, 0.356275786244831, 0.17016731530101203, 0.2423048288125873, 0.4111227209876712, 0.14573547927966135, 0.7691067452863537, 0.6182783722870339, 0.4553900130709443, 0.9634798787242008, 0.7268137882797039, 0.9064672511679027, 0.46720656865433974, 0.8975690934048267, 0.24765184509039917, 0.4428287868918138, 0.02656045645726124, 0.2886780331635713, 0.6309188505735734, 0.07533692365640021, 0.6373464490241852, 0.9180593690729929, 0.21320227699998107, 0.6716488514003408, 0.9862020477070677, 0.5374153525740248, 0.1659066591831575, 0.178843512780963, 0.007065448206866387, 0.2495013400101137, 0.5491518071463409, 0.44950513382084123, 0.8863120727005669, 0.8263569615702878, 0.9693353694169362, 0.020163089922364374, 0.1447071164960515, 0.839401113193094, 0.8753339851455629, 0.2571436140350003, 0.36053873689348304, 0.36834777364157667, 0.6914522835899672, 0.9340058886272473, 0.21628140051543754, 0.03202002914769875, 0.7425856641057595, 0.40240770796636394, 0.7486304917900775, 0.7085745446496139, 0.3792210339279678, 0.7545593384713679, 0.42385422697506614, 0.3694510410095284, 0.7195057782998479, 0.92539638599149, 0.4991726633008787, 0.5411874808228686, 0.07068192253094652, 0.3594018608895382, 0.20061653817673852, 0.051699956979526784, 0.7020406412986379, 0.11538875720927677, 0.6367916778061834, 0.8661088182591468, 0.17543672407091393, 0.3898497090569648, 0.7481925976798725, 0.9861192368806755, 0.9506440115659714, 0.08403115679414075, 0.5672796888648002, 0.100405335077413, 0.5668333698701895, 0.7461272968353109, 0.12330317300432292, 0.5876052552420042, 0.027220283105312437, 0.8777367998451803, 0.5403591790658719, 0.384728723313121, 0.035217680376770866, 0.24708781226136767, 0.1839268436538145, 0.8144321283385751, 0.9596911227012808]}, {\"boxpoints\": false, \"line\": {\"width\": 1.3}, \"marker\": {\"color\": \"rgba(55, 128, 191, 1.0)\"}, \"name\": \"b\", \"orientation\": \"v\", \"type\": \"box\", \"y\": [0.909251239535944, 0.8719807966046423, 0.9263581725467491, 0.5302357088005757, 0.7160455499446902, 0.11755981147160888, 0.9243400802205453, 0.6048310337209619, 0.99848911627027, 0.997818923010017, 0.958715568880708, 0.14470409741746926, 0.32490655516882205, 0.8259740691202068, 0.5449674010652735, 0.1179819340439443, 0.6470803076640727, 0.2371544001437944, 0.3944147078093092, 0.4553017979843986, 0.6279575429476555, 0.05722258804547986, 0.8531392481614021, 0.6052735062313108, 0.271933660010758, 0.44721239365275367, 0.9309212413090223, 0.19481999231733804, 0.5477063581220064, 0.17664460367893475, 0.1479970311467077, 0.2298546199156265, 0.5846765046516161, 0.8383754795729068, 0.7385964840206619, 0.32369168939120496, 0.8086752919227206, 0.2935415810630594, 0.1009992474020679, 0.5746206937317837, 0.7464924845416215, 0.9821924221253854, 0.5979720756547672, 0.4247219273881223, 0.932846005920277, 0.3678338350490642, 0.01502406435085879, 0.8231141056636773, 0.3577245368455766, 0.6429206757382323, 0.5907511289623674, 0.8707306829377549, 0.6425281851509483, 0.7852404369090897, 0.006404843543884486, 0.5495791221725458, 0.5981302893634367, 0.6925879522810264, 0.8402415708910494, 0.04064876137123341, 0.3500904355095926, 0.6336624538203731, 0.7992231713719854, 0.9031646404624668, 0.4352182794736966, 0.18222806430140004, 0.607007928306649, 0.8428862530174219, 0.5703318693353945, 0.640603890857624, 0.29273746319372085, 0.36274599719097755, 0.8702770686839479, 0.9492850513929987, 0.5661295373744326, 0.3851122958268606, 0.684729733346108, 0.9891947005226956, 0.15362270036614767, 0.82270042632811, 0.2483082472919772, 0.10956932064545177, 0.223449153978462, 0.6398654351478958, 0.7769580602854608, 0.2236671679809179, 0.37151257431193796, 0.9132297024351401, 0.5072130284391141, 0.7677028136188366, 0.691500635465313, 0.5360600096041178, 0.05347991507119565, 0.2973993960104748, 0.8337169057872624, 0.7521279691575821, 0.29865293199106036, 0.1982999248249404, 0.5922575533056015, 0.9106797400072707]}, {\"boxpoints\": false, \"line\": {\"width\": 1.3}, \"marker\": {\"color\": \"rgba(50, 171, 96, 1.0)\"}, \"name\": \"c\", \"orientation\": \"v\", \"type\": \"box\", \"y\": [0.028247530405718813, 0.17254928125419478, 0.2652505659281773, 0.300915666869782, 0.6798722224305634, 0.8898233871088354, 0.5217951354887527, 0.24141449926961267, 0.15653422804448724, 0.6365486633072993, 0.7873746065410671, 0.8651929712138772, 0.039697077583567886, 0.5888781791584565, 0.7984769216247881, 0.6504510929034076, 0.9044772217551653, 0.6722435587562038, 0.9052412417291611, 0.5951003858200249, 0.20950964474254563, 0.3036329869216313, 0.4405318911552131, 0.6123691515321473, 0.7276327645537634, 0.12276200611583055, 0.618853820304931, 0.33187483023194797, 0.6865258255164624, 0.4902218644127547, 0.741654280248178, 0.6811477892240396, 0.6662007461991967, 0.7453391453048279, 0.4628463035373207, 0.4258943945511554, 0.9575594968342962, 0.29503540497167824, 0.06841229468835441, 0.02290442522303371, 0.4162955367255996, 0.5878789166862862, 0.10554884864698044, 0.08936076452060349, 0.23506294984165987, 0.8688267950949355, 0.6269605010088583, 0.2056302974776516, 0.585177556167756, 0.42661994062798014, 0.42276644355955006, 0.9274649656993671, 0.8418189579543383, 0.5954033022235944, 0.7422840250073004, 0.9452141754276548, 0.8096317534058268, 0.16991464170038806, 0.2920100533473614, 0.4310015300294222, 0.5641535812653017, 0.7035896356548946, 0.9141330880799917, 0.562201462231937, 0.4423891935193802, 0.27082908014890483, 0.900192408717217, 0.16265313492545797, 0.8531600193817881, 0.3448570317110766, 0.3924537195710327, 0.08368833421256805, 0.5124976574784178, 0.544132489816705, 0.18352720599421746, 0.7698447487601368, 0.5889712616335785, 0.05234176610669916, 0.12594190848665865, 0.595200614110096, 0.2747272613566645, 0.9024111433420334, 0.26502454927581953, 0.8601604690161544, 0.907980964776484, 0.2050031352961732, 0.6829555801797311, 0.5140445113089126, 0.13670119640066902, 0.044945719007338236, 0.23686775157864304, 0.14804486145476115, 0.46134266700362114, 0.5048644968157823, 0.9919162539770932, 0.8465453511052655, 0.6810505117526096, 0.5776025131829987, 0.44303877122874924, 0.9686643816387196]}, {\"boxpoints\": false, \"line\": {\"width\": 1.3}, \"marker\": {\"color\": \"rgba(128, 0, 128, 1.0)\"}, \"name\": \"d\", \"orientation\": \"v\", \"type\": \"box\", \"y\": [0.7345219193043514, 0.7711839488532781, 0.0011630468130858773, 0.7022766516230197, 0.44951567354397226, 0.4774384305355811, 0.2766281582621646, 0.15878672985456455, 0.20414892137287932, 0.693750308229213, 0.38564767730615235, 0.4671664875678073, 0.7189682929737438, 0.4068657536297434, 0.8817861565238685, 0.06774856183294042, 0.8989421281346855, 0.4039517605510732, 0.12328336157771558, 0.6148393358172562, 0.07598632949740824, 0.542513494721236, 0.5973748990221175, 0.5080262555274183, 0.9411259752532537, 0.5601324771404306, 0.7077516909500989, 0.6166763427826241, 0.19297294549089739, 0.8105588769391002, 0.8044884124543165, 0.52215267141675, 0.7530798952558982, 0.2584242910102652, 0.5983367864239825, 0.2101533277599753, 0.3112452669172848, 0.7393889123479105, 0.6102829873075877, 0.3344097240534786, 0.6733216434382594, 0.5395935994808473, 0.7727719461069077, 0.5835532331904226, 0.121887699780584, 0.1010670265885153, 0.44162292218376553, 0.8289747482955978, 0.40829678271135994, 0.1962656711928744, 0.02255394960013979, 0.5833216272857848, 0.332984470386263, 0.043917742875064336, 0.9616641740945793, 0.8618964339778235, 0.20162467432131015, 0.9628462355864106, 0.5756128292598139, 0.5105831248393677, 0.7598244527065962, 0.876171584843563, 0.23581932101815606, 0.9595675147104846, 0.17577489235714383, 0.6271404645728633, 0.6859546637422046, 0.6174672903504578, 0.20922442014580667, 0.9245477679096562, 0.9383061251713866, 0.8105144958009091, 0.4870516942849139, 0.04120628519588865, 0.7527104010093636, 0.9195906502038192, 0.8029859671342613, 0.7601068154851309, 0.38550426648644076, 0.3470443741913536, 0.6295942186048243, 0.24160575286892638, 0.525377332063438, 0.9620574035437817, 0.8497397715628359, 0.698973885463429, 0.3136128010275031, 0.7235634590105477, 0.4272261377514569, 0.35248530379063003, 0.7998311394615695, 0.5506719328957519, 0.9446275112853095, 0.3412406755181805, 0.3090585611377683, 0.6667623520492086, 0.13997194095156829, 0.07183250433910404, 0.04152188200734608, 0.661792684814308]}, {\"boxpoints\": false, \"line\": {\"width\": 1.3}, \"marker\": {\"color\": \"rgba(219, 64, 82, 1.0)\"}, \"name\": \"e\", \"orientation\": \"v\", \"type\": \"box\", \"y\": [0.8441482131459208, 0.5216039062928214, 0.576342971677043, 0.7741677591462971, 0.6814100715803433, 0.33178129877319174, 0.31305792368135366, 0.6416326860462728, 0.21174654489004874, 0.07168130805911666, 0.8527503773422891, 0.7135067389490168, 0.9524789039309994, 0.690587235526413, 0.4746464004519454, 0.43038941033309785, 0.4422841163996275, 0.09878110050263589, 0.7239585011249209, 0.5404486483687883, 0.9651437740351284, 0.43054392640962347, 0.8635136743263201, 0.13408704364887503, 0.3461777409085486, 0.019081410274173094, 0.03111167752563948, 0.6069067569214917, 0.643433968508191, 0.6613391969205293, 0.034956578247076875, 0.495258701278673, 0.7635526068157444, 0.8442634968114576, 0.7343999215040339, 0.19485744431707075, 0.6424333646211141, 0.338614754092468, 0.6189422763135657, 0.9783676354242827, 0.133241370369661, 0.6612577289760788, 0.2678089155657487, 0.915803968158515, 0.8271225204352407, 0.16115970144253033, 0.3398754216575508, 0.2822252543440493, 0.2611720970135324, 0.8908629757686687, 0.17590667717667474, 0.9810671646522114, 0.9207396261015776, 0.5650920747677053, 0.38123582058602534, 0.10826123131207144, 0.2681255339001105, 0.927094588360067, 0.144876098007235, 0.8386009035185379, 0.6835606346579665, 0.045062012220492886, 0.5534362186460304, 0.380100323264952, 0.9904044350352618, 0.8531576354488493, 0.6017908352006519, 0.5135625012987498, 0.39073368502768735, 0.23844205479396896, 0.5925873248782167, 0.744334825411387, 0.5103594953383878, 0.19411218389176588, 0.6422554278230251, 0.7916288224552801, 0.4243591642359438, 0.2195410165699092, 0.1320177104415925, 0.962187610258314, 0.8272062544227344, 0.42358737806713465, 0.5734254544562593, 0.044196623265570945, 0.4463720476249695, 0.1563058570919923, 0.47705691507475223, 0.8367509594373888, 0.37700569296598496, 0.45854379304586546, 0.9755985194540009, 0.27465259141829823, 0.6067032440484709, 0.9738342209430678, 0.22191534223739584, 0.432340124525206, 0.6540841633658616, 0.8311086389337317, 0.07090659257671827, 0.8233577665582116]}],                        {\"legend\": {\"bgcolor\": \"#F5F6F9\", \"font\": {\"color\": \"#4D5663\"}}, \"paper_bgcolor\": \"#F5F6F9\", \"plot_bgcolor\": \"#F5F6F9\", \"template\": {\"data\": {\"bar\": [{\"error_x\": {\"color\": \"#2a3f5f\"}, \"error_y\": {\"color\": \"#2a3f5f\"}, \"marker\": {\"line\": {\"color\": \"#E5ECF6\", \"width\": 0.5}}, \"type\": \"bar\"}], \"barpolar\": [{\"marker\": {\"line\": {\"color\": \"#E5ECF6\", \"width\": 0.5}}, \"type\": \"barpolar\"}], \"carpet\": [{\"aaxis\": {\"endlinecolor\": \"#2a3f5f\", \"gridcolor\": \"white\", \"linecolor\": \"white\", \"minorgridcolor\": \"white\", \"startlinecolor\": \"#2a3f5f\"}, \"baxis\": {\"endlinecolor\": \"#2a3f5f\", \"gridcolor\": \"white\", \"linecolor\": \"white\", \"minorgridcolor\": \"white\", \"startlinecolor\": \"#2a3f5f\"}, \"type\": \"carpet\"}], \"choropleth\": [{\"colorbar\": {\"outlinewidth\": 0, \"ticks\": \"\"}, \"type\": \"choropleth\"}], \"contour\": [{\"colorbar\": {\"outlinewidth\": 0, \"ticks\": \"\"}, \"colorscale\": [[0.0, \"#0d0887\"], [0.1111111111111111, \"#46039f\"], [0.2222222222222222, \"#7201a8\"], [0.3333333333333333, \"#9c179e\"], [0.4444444444444444, \"#bd3786\"], [0.5555555555555556, \"#d8576b\"], [0.6666666666666666, \"#ed7953\"], [0.7777777777777778, \"#fb9f3a\"], [0.8888888888888888, \"#fdca26\"], [1.0, \"#f0f921\"]], \"type\": \"contour\"}], \"contourcarpet\": [{\"colorbar\": {\"outlinewidth\": 0, \"ticks\": \"\"}, \"type\": \"contourcarpet\"}], \"heatmap\": [{\"colorbar\": {\"outlinewidth\": 0, \"ticks\": \"\"}, \"colorscale\": [[0.0, \"#0d0887\"], [0.1111111111111111, \"#46039f\"], [0.2222222222222222, \"#7201a8\"], [0.3333333333333333, \"#9c179e\"], [0.4444444444444444, \"#bd3786\"], [0.5555555555555556, \"#d8576b\"], [0.6666666666666666, \"#ed7953\"], [0.7777777777777778, \"#fb9f3a\"], [0.8888888888888888, \"#fdca26\"], [1.0, \"#f0f921\"]], \"type\": \"heatmap\"}], \"heatmapgl\": [{\"colorbar\": {\"outlinewidth\": 0, \"ticks\": \"\"}, \"colorscale\": [[0.0, \"#0d0887\"], [0.1111111111111111, \"#46039f\"], [0.2222222222222222, \"#7201a8\"], [0.3333333333333333, \"#9c179e\"], [0.4444444444444444, \"#bd3786\"], [0.5555555555555556, \"#d8576b\"], [0.6666666666666666, \"#ed7953\"], [0.7777777777777778, \"#fb9f3a\"], [0.8888888888888888, \"#fdca26\"], [1.0, \"#f0f921\"]], \"type\": \"heatmapgl\"}], \"histogram\": [{\"marker\": {\"colorbar\": {\"outlinewidth\": 0, \"ticks\": \"\"}}, \"type\": \"histogram\"}], \"histogram2d\": [{\"colorbar\": {\"outlinewidth\": 0, \"ticks\": \"\"}, \"colorscale\": [[0.0, \"#0d0887\"], [0.1111111111111111, \"#46039f\"], [0.2222222222222222, \"#7201a8\"], [0.3333333333333333, \"#9c179e\"], [0.4444444444444444, \"#bd3786\"], [0.5555555555555556, \"#d8576b\"], [0.6666666666666666, \"#ed7953\"], [0.7777777777777778, \"#fb9f3a\"], [0.8888888888888888, \"#fdca26\"], [1.0, \"#f0f921\"]], \"type\": \"histogram2d\"}], \"histogram2dcontour\": [{\"colorbar\": {\"outlinewidth\": 0, \"ticks\": \"\"}, \"colorscale\": [[0.0, \"#0d0887\"], [0.1111111111111111, \"#46039f\"], [0.2222222222222222, \"#7201a8\"], [0.3333333333333333, \"#9c179e\"], [0.4444444444444444, \"#bd3786\"], [0.5555555555555556, \"#d8576b\"], [0.6666666666666666, \"#ed7953\"], [0.7777777777777778, \"#fb9f3a\"], [0.8888888888888888, \"#fdca26\"], [1.0, \"#f0f921\"]], \"type\": \"histogram2dcontour\"}], \"mesh3d\": [{\"colorbar\": {\"outlinewidth\": 0, \"ticks\": \"\"}, \"type\": \"mesh3d\"}], \"parcoords\": [{\"line\": {\"colorbar\": {\"outlinewidth\": 0, \"ticks\": \"\"}}, \"type\": \"parcoords\"}], \"pie\": [{\"automargin\": true, \"type\": \"pie\"}], \"scatter\": [{\"marker\": {\"colorbar\": {\"outlinewidth\": 0, \"ticks\": \"\"}}, \"type\": \"scatter\"}], \"scatter3d\": [{\"line\": {\"colorbar\": {\"outlinewidth\": 0, \"ticks\": \"\"}}, \"marker\": {\"colorbar\": {\"outlinewidth\": 0, \"ticks\": \"\"}}, \"type\": \"scatter3d\"}], \"scattercarpet\": [{\"marker\": {\"colorbar\": {\"outlinewidth\": 0, \"ticks\": \"\"}}, \"type\": \"scattercarpet\"}], \"scattergeo\": [{\"marker\": {\"colorbar\": {\"outlinewidth\": 0, \"ticks\": \"\"}}, \"type\": \"scattergeo\"}], \"scattergl\": [{\"marker\": {\"colorbar\": {\"outlinewidth\": 0, \"ticks\": \"\"}}, \"type\": \"scattergl\"}], \"scattermapbox\": [{\"marker\": {\"colorbar\": {\"outlinewidth\": 0, \"ticks\": \"\"}}, \"type\": \"scattermapbox\"}], \"scatterpolar\": [{\"marker\": {\"colorbar\": {\"outlinewidth\": 0, \"ticks\": \"\"}}, \"type\": \"scatterpolar\"}], \"scatterpolargl\": [{\"marker\": {\"colorbar\": {\"outlinewidth\": 0, \"ticks\": \"\"}}, \"type\": \"scatterpolargl\"}], \"scatterternary\": [{\"marker\": {\"colorbar\": {\"outlinewidth\": 0, \"ticks\": \"\"}}, \"type\": \"scatterternary\"}], \"surface\": [{\"colorbar\": {\"outlinewidth\": 0, \"ticks\": \"\"}, \"colorscale\": [[0.0, \"#0d0887\"], [0.1111111111111111, \"#46039f\"], [0.2222222222222222, \"#7201a8\"], [0.3333333333333333, \"#9c179e\"], [0.4444444444444444, \"#bd3786\"], [0.5555555555555556, \"#d8576b\"], [0.6666666666666666, \"#ed7953\"], [0.7777777777777778, \"#fb9f3a\"], [0.8888888888888888, \"#fdca26\"], [1.0, \"#f0f921\"]], \"type\": \"surface\"}], \"table\": [{\"cells\": {\"fill\": {\"color\": \"#EBF0F8\"}, \"line\": {\"color\": \"white\"}}, \"header\": {\"fill\": {\"color\": \"#C8D4E3\"}, \"line\": {\"color\": \"white\"}}, \"type\": \"table\"}]}, \"layout\": {\"annotationdefaults\": {\"arrowcolor\": \"#2a3f5f\", \"arrowhead\": 0, \"arrowwidth\": 1}, \"autotypenumbers\": \"strict\", \"coloraxis\": {\"colorbar\": {\"outlinewidth\": 0, \"ticks\": \"\"}}, \"colorscale\": {\"diverging\": [[0, \"#8e0152\"], [0.1, \"#c51b7d\"], [0.2, \"#de77ae\"], [0.3, \"#f1b6da\"], [0.4, \"#fde0ef\"], [0.5, \"#f7f7f7\"], [0.6, \"#e6f5d0\"], [0.7, \"#b8e186\"], [0.8, \"#7fbc41\"], [0.9, \"#4d9221\"], [1, \"#276419\"]], \"sequential\": [[0.0, \"#0d0887\"], [0.1111111111111111, \"#46039f\"], [0.2222222222222222, \"#7201a8\"], [0.3333333333333333, \"#9c179e\"], [0.4444444444444444, \"#bd3786\"], [0.5555555555555556, \"#d8576b\"], [0.6666666666666666, \"#ed7953\"], [0.7777777777777778, \"#fb9f3a\"], [0.8888888888888888, \"#fdca26\"], [1.0, \"#f0f921\"]], \"sequentialminus\": [[0.0, \"#0d0887\"], [0.1111111111111111, \"#46039f\"], [0.2222222222222222, \"#7201a8\"], [0.3333333333333333, \"#9c179e\"], [0.4444444444444444, \"#bd3786\"], [0.5555555555555556, \"#d8576b\"], [0.6666666666666666, \"#ed7953\"], [0.7777777777777778, \"#fb9f3a\"], [0.8888888888888888, \"#fdca26\"], [1.0, \"#f0f921\"]]}, \"colorway\": [\"#636efa\", \"#EF553B\", \"#00cc96\", \"#ab63fa\", \"#FFA15A\", \"#19d3f3\", \"#FF6692\", \"#B6E880\", \"#FF97FF\", \"#FECB52\"], \"font\": {\"color\": \"#2a3f5f\"}, \"geo\": {\"bgcolor\": \"white\", \"lakecolor\": \"white\", \"landcolor\": \"#E5ECF6\", \"showlakes\": true, \"showland\": true, \"subunitcolor\": \"white\"}, \"hoverlabel\": {\"align\": \"left\"}, \"hovermode\": \"closest\", \"mapbox\": {\"style\": \"light\"}, \"paper_bgcolor\": \"white\", \"plot_bgcolor\": \"#E5ECF6\", \"polar\": {\"angularaxis\": {\"gridcolor\": \"white\", \"linecolor\": \"white\", \"ticks\": \"\"}, \"bgcolor\": \"#E5ECF6\", \"radialaxis\": {\"gridcolor\": \"white\", \"linecolor\": \"white\", \"ticks\": \"\"}}, \"scene\": {\"xaxis\": {\"backgroundcolor\": \"#E5ECF6\", \"gridcolor\": \"white\", \"gridwidth\": 2, \"linecolor\": \"white\", \"showbackground\": true, \"ticks\": \"\", \"zerolinecolor\": \"white\"}, \"yaxis\": {\"backgroundcolor\": \"#E5ECF6\", \"gridcolor\": \"white\", \"gridwidth\": 2, \"linecolor\": \"white\", \"showbackground\": true, \"ticks\": \"\", \"zerolinecolor\": \"white\"}, \"zaxis\": {\"backgroundcolor\": \"#E5ECF6\", \"gridcolor\": \"white\", \"gridwidth\": 2, \"linecolor\": \"white\", \"showbackground\": true, \"ticks\": \"\", \"zerolinecolor\": \"white\"}}, \"shapedefaults\": {\"line\": {\"color\": \"#2a3f5f\"}}, \"ternary\": {\"aaxis\": {\"gridcolor\": \"white\", \"linecolor\": \"white\", \"ticks\": \"\"}, \"baxis\": {\"gridcolor\": \"white\", \"linecolor\": \"white\", \"ticks\": \"\"}, \"bgcolor\": \"#E5ECF6\", \"caxis\": {\"gridcolor\": \"white\", \"linecolor\": \"white\", \"ticks\": \"\"}}, \"title\": {\"x\": 0.05}, \"xaxis\": {\"automargin\": true, \"gridcolor\": \"white\", \"linecolor\": \"white\", \"ticks\": \"\", \"title\": {\"standoff\": 15}, \"zerolinecolor\": \"white\", \"zerolinewidth\": 2}, \"yaxis\": {\"automargin\": true, \"gridcolor\": \"white\", \"linecolor\": \"white\", \"ticks\": \"\", \"title\": {\"standoff\": 15}, \"zerolinecolor\": \"white\", \"zerolinewidth\": 2}}}, \"title\": {\"font\": {\"color\": \"#4D5663\"}}, \"xaxis\": {\"gridcolor\": \"#E1E5ED\", \"showgrid\": true, \"tickfont\": {\"color\": \"#4D5663\"}, \"title\": {\"font\": {\"color\": \"#4D5663\"}, \"text\": \"\"}, \"zerolinecolor\": \"#E1E5ED\"}, \"yaxis\": {\"gridcolor\": \"#E1E5ED\", \"showgrid\": true, \"tickfont\": {\"color\": \"#4D5663\"}, \"title\": {\"font\": {\"color\": \"#4D5663\"}, \"text\": \"\"}, \"zerolinecolor\": \"#E1E5ED\"}},                        {\"showLink\": true, \"linkText\": \"Export to plot.ly\", \"plotlyServerURL\": \"https://plot.ly\", \"responsive\": true}                    ).then(function(){\n",
       "                            \n",
       "var gd = document.getElementById('b01a8a9f-9840-47fb-b6f2-ffcdb17c1b00');\n",
       "var x = new MutationObserver(function (mutations, observer) {{\n",
       "        var display = window.getComputedStyle(gd).display;\n",
       "        if (!display || display === 'none') {{\n",
       "            console.log([gd, 'removed!']);\n",
       "            Plotly.purge(gd);\n",
       "            observer.disconnect();\n",
       "        }}\n",
       "}});\n",
       "\n",
       "// Listen for the removal of the full notebook cells\n",
       "var notebookContainer = gd.closest('#notebook-container');\n",
       "if (notebookContainer) {{\n",
       "    x.observe(notebookContainer, {childList: true});\n",
       "}}\n",
       "\n",
       "// Listen for the clearing of the current output cell\n",
       "var outputEl = gd.closest('.output');\n",
       "if (outputEl) {{\n",
       "    x.observe(outputEl, {childList: true});\n",
       "}}\n",
       "\n",
       "                        })                };                });            </script>        </div>"
      ]
     },
     "metadata": {},
     "output_type": "display_data"
    }
   ],
   "source": [
    "df.iplot(kind='box')"
   ]
  },
  {
   "cell_type": "code",
   "execution_count": null,
   "metadata": {},
   "outputs": [],
   "source": []
  }
 ],
 "metadata": {
  "kernelspec": {
   "display_name": "Python 3",
   "language": "python",
   "name": "python3"
  },
  "language_info": {
   "codemirror_mode": {
    "name": "ipython",
    "version": 3
   },
   "file_extension": ".py",
   "mimetype": "text/x-python",
   "name": "python",
   "nbconvert_exporter": "python",
   "pygments_lexer": "ipython3",
   "version": "3.7.7"
  }
 },
 "nbformat": 4,
 "nbformat_minor": 4
}
